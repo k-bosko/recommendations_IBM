{
 "cells": [
  {
   "cell_type": "markdown",
   "metadata": {},
   "source": [
    "# Recommendations with IBM\n",
    "\n",
    "In this notebook, you will be putting your recommendation skills to use on real data from the IBM Watson Studio platform. \n",
    "\n",
    "\n",
    "You may either submit your notebook through the workspace here, or you may work from your local machine and submit through the next page.  Either way assure that your code passes the project [RUBRIC](https://review.udacity.com/#!/rubrics/2322/view).  **Please save regularly.**\n",
    "\n",
    "By following the table of contents, you will build out a number of different methods for making recommendations that can be used for different situations. \n",
    "\n",
    "\n",
    "## Table of Contents\n",
    "\n",
    "I. [Exploratory Data Analysis](#Exploratory-Data-Analysis)<br>\n",
    "II. [Rank Based Recommendations](#Rank)<br>\n",
    "III. [User-User Based Collaborative Filtering](#User-User)<br>\n",
    "IV. [Content Based Recommendations (EXTRA - NOT REQUIRED)](#Content-Recs)<br>\n",
    "V. [Matrix Factorization](#Matrix-Fact)<br>\n",
    "VI. [Extras & Concluding](#conclusions)\n",
    "\n",
    "At the end of the notebook, you will find directions for how to submit your work.  Let's get started by importing the necessary libraries and reading in the data."
   ]
  },
  {
   "cell_type": "code",
   "execution_count": 1,
   "metadata": {},
   "outputs": [
    {
     "data": {
      "text/html": [
       "<div>\n",
       "<style scoped>\n",
       "    .dataframe tbody tr th:only-of-type {\n",
       "        vertical-align: middle;\n",
       "    }\n",
       "\n",
       "    .dataframe tbody tr th {\n",
       "        vertical-align: top;\n",
       "    }\n",
       "\n",
       "    .dataframe thead th {\n",
       "        text-align: right;\n",
       "    }\n",
       "</style>\n",
       "<table border=\"1\" class=\"dataframe\">\n",
       "  <thead>\n",
       "    <tr style=\"text-align: right;\">\n",
       "      <th></th>\n",
       "      <th>article_id</th>\n",
       "      <th>title</th>\n",
       "      <th>email</th>\n",
       "    </tr>\n",
       "  </thead>\n",
       "  <tbody>\n",
       "    <tr>\n",
       "      <th>0</th>\n",
       "      <td>1430.0</td>\n",
       "      <td>using pixiedust for fast, flexible, and easier...</td>\n",
       "      <td>ef5f11f77ba020cd36e1105a00ab868bbdbf7fe7</td>\n",
       "    </tr>\n",
       "    <tr>\n",
       "      <th>1</th>\n",
       "      <td>1314.0</td>\n",
       "      <td>healthcare python streaming application demo</td>\n",
       "      <td>083cbdfa93c8444beaa4c5f5e0f5f9198e4f9e0b</td>\n",
       "    </tr>\n",
       "    <tr>\n",
       "      <th>2</th>\n",
       "      <td>1429.0</td>\n",
       "      <td>use deep learning for image classification</td>\n",
       "      <td>b96a4f2e92d8572034b1e9b28f9ac673765cd074</td>\n",
       "    </tr>\n",
       "    <tr>\n",
       "      <th>3</th>\n",
       "      <td>1338.0</td>\n",
       "      <td>ml optimization using cognitive assistant</td>\n",
       "      <td>06485706b34a5c9bf2a0ecdac41daf7e7654ceb7</td>\n",
       "    </tr>\n",
       "    <tr>\n",
       "      <th>4</th>\n",
       "      <td>1276.0</td>\n",
       "      <td>deploy your python model as a restful api</td>\n",
       "      <td>f01220c46fc92c6e6b161b1849de11faacd7ccb2</td>\n",
       "    </tr>\n",
       "  </tbody>\n",
       "</table>\n",
       "</div>"
      ],
      "text/plain": [
       "   article_id                                              title  \\\n",
       "0      1430.0  using pixiedust for fast, flexible, and easier...   \n",
       "1      1314.0       healthcare python streaming application demo   \n",
       "2      1429.0         use deep learning for image classification   \n",
       "3      1338.0          ml optimization using cognitive assistant   \n",
       "4      1276.0          deploy your python model as a restful api   \n",
       "\n",
       "                                      email  \n",
       "0  ef5f11f77ba020cd36e1105a00ab868bbdbf7fe7  \n",
       "1  083cbdfa93c8444beaa4c5f5e0f5f9198e4f9e0b  \n",
       "2  b96a4f2e92d8572034b1e9b28f9ac673765cd074  \n",
       "3  06485706b34a5c9bf2a0ecdac41daf7e7654ceb7  \n",
       "4  f01220c46fc92c6e6b161b1849de11faacd7ccb2  "
      ]
     },
     "execution_count": 1,
     "metadata": {},
     "output_type": "execute_result"
    }
   ],
   "source": [
    "import pandas as pd\n",
    "import numpy as np\n",
    "import matplotlib.pyplot as plt\n",
    "import project_tests as t\n",
    "import pickle\n",
    "\n",
    "%matplotlib inline\n",
    "\n",
    "df = pd.read_csv('data/user-item-interactions.csv')\n",
    "df_content = pd.read_csv('data/articles_community.csv')\n",
    "del df['Unnamed: 0']\n",
    "del df_content['Unnamed: 0']\n",
    "\n",
    "# Show df to get an idea of the data\n",
    "df.head()"
   ]
  },
  {
   "cell_type": "code",
   "execution_count": 2,
   "metadata": {},
   "outputs": [
    {
     "data": {
      "text/html": [
       "<div>\n",
       "<style scoped>\n",
       "    .dataframe tbody tr th:only-of-type {\n",
       "        vertical-align: middle;\n",
       "    }\n",
       "\n",
       "    .dataframe tbody tr th {\n",
       "        vertical-align: top;\n",
       "    }\n",
       "\n",
       "    .dataframe thead th {\n",
       "        text-align: right;\n",
       "    }\n",
       "</style>\n",
       "<table border=\"1\" class=\"dataframe\">\n",
       "  <thead>\n",
       "    <tr style=\"text-align: right;\">\n",
       "      <th></th>\n",
       "      <th>doc_body</th>\n",
       "      <th>doc_description</th>\n",
       "      <th>doc_full_name</th>\n",
       "      <th>doc_status</th>\n",
       "      <th>article_id</th>\n",
       "    </tr>\n",
       "  </thead>\n",
       "  <tbody>\n",
       "    <tr>\n",
       "      <th>0</th>\n",
       "      <td>Skip navigation Sign in SearchLoading...\\r\\n\\r...</td>\n",
       "      <td>Detect bad readings in real time using Python ...</td>\n",
       "      <td>Detect Malfunctioning IoT Sensors with Streami...</td>\n",
       "      <td>Live</td>\n",
       "      <td>0</td>\n",
       "    </tr>\n",
       "    <tr>\n",
       "      <th>1</th>\n",
       "      <td>No Free Hunch Navigation * kaggle.com\\r\\n\\r\\n ...</td>\n",
       "      <td>See the forest, see the trees. Here lies the c...</td>\n",
       "      <td>Communicating data science: A guide to present...</td>\n",
       "      <td>Live</td>\n",
       "      <td>1</td>\n",
       "    </tr>\n",
       "    <tr>\n",
       "      <th>2</th>\n",
       "      <td>☰ * Login\\r\\n * Sign Up\\r\\n\\r\\n * Learning Pat...</td>\n",
       "      <td>Here’s this week’s news in Data Science and Bi...</td>\n",
       "      <td>This Week in Data Science (April 18, 2017)</td>\n",
       "      <td>Live</td>\n",
       "      <td>2</td>\n",
       "    </tr>\n",
       "    <tr>\n",
       "      <th>3</th>\n",
       "      <td>DATALAYER: HIGH THROUGHPUT, LOW LATENCY AT SCA...</td>\n",
       "      <td>Learn how distributed DBs solve the problem of...</td>\n",
       "      <td>DataLayer Conference: Boost the performance of...</td>\n",
       "      <td>Live</td>\n",
       "      <td>3</td>\n",
       "    </tr>\n",
       "    <tr>\n",
       "      <th>4</th>\n",
       "      <td>Skip navigation Sign in SearchLoading...\\r\\n\\r...</td>\n",
       "      <td>This video demonstrates the power of IBM DataS...</td>\n",
       "      <td>Analyze NY Restaurant data using Spark in DSX</td>\n",
       "      <td>Live</td>\n",
       "      <td>4</td>\n",
       "    </tr>\n",
       "  </tbody>\n",
       "</table>\n",
       "</div>"
      ],
      "text/plain": [
       "                                            doc_body  \\\n",
       "0  Skip navigation Sign in SearchLoading...\\r\\n\\r...   \n",
       "1  No Free Hunch Navigation * kaggle.com\\r\\n\\r\\n ...   \n",
       "2  ☰ * Login\\r\\n * Sign Up\\r\\n\\r\\n * Learning Pat...   \n",
       "3  DATALAYER: HIGH THROUGHPUT, LOW LATENCY AT SCA...   \n",
       "4  Skip navigation Sign in SearchLoading...\\r\\n\\r...   \n",
       "\n",
       "                                     doc_description  \\\n",
       "0  Detect bad readings in real time using Python ...   \n",
       "1  See the forest, see the trees. Here lies the c...   \n",
       "2  Here’s this week’s news in Data Science and Bi...   \n",
       "3  Learn how distributed DBs solve the problem of...   \n",
       "4  This video demonstrates the power of IBM DataS...   \n",
       "\n",
       "                                       doc_full_name doc_status  article_id  \n",
       "0  Detect Malfunctioning IoT Sensors with Streami...       Live           0  \n",
       "1  Communicating data science: A guide to present...       Live           1  \n",
       "2         This Week in Data Science (April 18, 2017)       Live           2  \n",
       "3  DataLayer Conference: Boost the performance of...       Live           3  \n",
       "4      Analyze NY Restaurant data using Spark in DSX       Live           4  "
      ]
     },
     "execution_count": 2,
     "metadata": {},
     "output_type": "execute_result"
    }
   ],
   "source": [
    "# Show df_content to get an idea of the data\n",
    "df_content.head()"
   ]
  },
  {
   "cell_type": "markdown",
   "metadata": {},
   "source": [
    "### <a class=\"anchor\" id=\"Exploratory-Data-Analysis\">Part I : Exploratory Data Analysis</a>\n",
    "\n",
    "Use the dictionary and cells below to provide some insight into the descriptive statistics of the data.\n",
    "\n",
    "`1.` What is the distribution of how many articles a user interacts with in the dataset?  Provide a visual and descriptive statistics to assist with giving a look at the number of times each user interacts with an article.  "
   ]
  },
  {
   "cell_type": "code",
   "execution_count": 3,
   "metadata": {},
   "outputs": [
    {
     "data": {
      "text/html": [
       "<div>\n",
       "<style scoped>\n",
       "    .dataframe tbody tr th:only-of-type {\n",
       "        vertical-align: middle;\n",
       "    }\n",
       "\n",
       "    .dataframe tbody tr th {\n",
       "        vertical-align: top;\n",
       "    }\n",
       "\n",
       "    .dataframe thead th {\n",
       "        text-align: right;\n",
       "    }\n",
       "</style>\n",
       "<table border=\"1\" class=\"dataframe\">\n",
       "  <thead>\n",
       "    <tr style=\"text-align: right;\">\n",
       "      <th></th>\n",
       "      <th>article_id</th>\n",
       "    </tr>\n",
       "  </thead>\n",
       "  <tbody>\n",
       "    <tr>\n",
       "      <th>count</th>\n",
       "      <td>33669.000000</td>\n",
       "    </tr>\n",
       "    <tr>\n",
       "      <th>mean</th>\n",
       "      <td>1.365529</td>\n",
       "    </tr>\n",
       "    <tr>\n",
       "      <th>std</th>\n",
       "      <td>1.175020</td>\n",
       "    </tr>\n",
       "    <tr>\n",
       "      <th>min</th>\n",
       "      <td>1.000000</td>\n",
       "    </tr>\n",
       "    <tr>\n",
       "      <th>25%</th>\n",
       "      <td>1.000000</td>\n",
       "    </tr>\n",
       "    <tr>\n",
       "      <th>50%</th>\n",
       "      <td>1.000000</td>\n",
       "    </tr>\n",
       "    <tr>\n",
       "      <th>75%</th>\n",
       "      <td>1.000000</td>\n",
       "    </tr>\n",
       "    <tr>\n",
       "      <th>max</th>\n",
       "      <td>42.000000</td>\n",
       "    </tr>\n",
       "  </tbody>\n",
       "</table>\n",
       "</div>"
      ],
      "text/plain": [
       "         article_id\n",
       "count  33669.000000\n",
       "mean       1.365529\n",
       "std        1.175020\n",
       "min        1.000000\n",
       "25%        1.000000\n",
       "50%        1.000000\n",
       "75%        1.000000\n",
       "max       42.000000"
      ]
     },
     "execution_count": 3,
     "metadata": {},
     "output_type": "execute_result"
    }
   ],
   "source": [
    "#how many unique articles each user interacts with on average?\n",
    "dist = df.groupby(by='email').article_id.value_counts()\n",
    "pd.DataFrame(dist.describe())"
   ]
  },
  {
   "cell_type": "code",
   "execution_count": 4,
   "metadata": {},
   "outputs": [
    {
     "data": {
      "text/plain": [
       "(3, 364)"
      ]
     },
     "execution_count": 4,
     "metadata": {},
     "output_type": "execute_result"
    }
   ],
   "source": [
    "# Fill in the median and maximum number of user_article interactios below\n",
    "median_val = round(df.email.value_counts().median()) # 50% of individuals interact with ____ number of articles or fewer.\n",
    "max_views_by_user = df.email.value_counts()[0] # The maximum number of user-article interactions by any 1 user is ______.\n",
    "\n",
    "median_val, max_views_by_user"
   ]
  },
  {
   "cell_type": "markdown",
   "metadata": {},
   "source": [
    "`2.` Explore and remove duplicate articles from the **df_content** dataframe.  "
   ]
  },
  {
   "cell_type": "code",
   "execution_count": 5,
   "metadata": {},
   "outputs": [
    {
     "name": "stdout",
     "output_type": "stream",
     "text": [
      "there are 5 duplicates in df_content\n"
     ]
    }
   ],
   "source": [
    "# Find and explore duplicate articles\n",
    "print(f\"there are {df_content.article_id.duplicated().sum()} duplicates in df_content\")"
   ]
  },
  {
   "cell_type": "code",
   "execution_count": 6,
   "metadata": {},
   "outputs": [],
   "source": [
    "# Remove any rows that have the same article_id - only keep the first\n",
    "df_content.drop_duplicates('article_id', keep='first', inplace=True)"
   ]
  },
  {
   "cell_type": "markdown",
   "metadata": {},
   "source": [
    "`3.` Use the cells below to find:\n",
    "\n",
    "**a.** The number of unique articles that have an interaction with a user.  \n",
    "**b.** The number of unique articles in the dataset (whether they have any interactions or not).<br>\n",
    "**c.** The number of unique users in the dataset. (excluding null values) <br>\n",
    "**d.** The number of user-article interactions in the dataset."
   ]
  },
  {
   "cell_type": "code",
   "execution_count": 7,
   "metadata": {},
   "outputs": [
    {
     "name": "stdout",
     "output_type": "stream",
     "text": [
      "there are 5148 unique users in df\n",
      "there are 714 unique articles in df\n",
      "there are 45993 user-articles interactions\n"
     ]
    }
   ],
   "source": [
    "print(f\"there are {df.email.nunique()} unique users in df\")\n",
    "print(f\"there are {df.article_id.nunique()} unique articles in df\")\n",
    "print(f'there are {df.shape[0]} user-articles interactions')"
   ]
  },
  {
   "cell_type": "code",
   "execution_count": 8,
   "metadata": {},
   "outputs": [
    {
     "data": {
      "text/plain": [
       "17"
      ]
     },
     "execution_count": 8,
     "metadata": {},
     "output_type": "execute_result"
    }
   ],
   "source": [
    "# are there Nans in email column - aka null values for users? \n",
    "df.email.apply(lambda x: isinstance(x, float)).sum()"
   ]
  },
  {
   "cell_type": "code",
   "execution_count": 9,
   "metadata": {},
   "outputs": [
    {
     "name": "stdout",
     "output_type": "stream",
     "text": [
      "nan 25131\n",
      "nan 29758\n",
      "nan 29759\n",
      "nan 29760\n",
      "nan 29761\n",
      "nan 35264\n",
      "nan 35276\n",
      "nan 35277\n",
      "nan 35278\n",
      "nan 35279\n",
      "nan 35280\n",
      "nan 35281\n",
      "nan 35282\n",
      "nan 35283\n",
      "nan 35284\n",
      "nan 42749\n",
      "nan 42750\n"
     ]
    }
   ],
   "source": [
    "#catching nans\n",
    "nans_idx = []\n",
    "for em, idx in zip(df.email, df.index):\n",
    "    try:\n",
    "        tmp = len(em)\n",
    "    except TypeError:\n",
    "        print(em, idx) \n",
    "        nans_idx.append(idx)"
   ]
  },
  {
   "cell_type": "code",
   "execution_count": 10,
   "metadata": {},
   "outputs": [],
   "source": [
    "unique_articles = df.article_id.nunique() # The number of unique articles that have at least one interaction\n",
    "total_articles = df_content.article_id.nunique() # The number of unique articles on the IBM platform\n",
    "unique_users = df.email.nunique() # The number of unique users\n",
    "user_article_interactions = df.shape[0] # The number of user-article interactions"
   ]
  },
  {
   "cell_type": "markdown",
   "metadata": {},
   "source": [
    "`4.` Use the cells below to find the most viewed **article_id**, as well as how often it was viewed.  After talking to the company leaders, the `email_mapper` function was deemed a reasonable way to map users to ids.  There were a small number of null values, and it was found that all of these null values likely belonged to a single user (which is how they are stored using the function below)."
   ]
  },
  {
   "cell_type": "code",
   "execution_count": 11,
   "metadata": {},
   "outputs": [
    {
     "data": {
      "text/plain": [
       "('1429.0', 937)"
      ]
     },
     "execution_count": 11,
     "metadata": {},
     "output_type": "execute_result"
    }
   ],
   "source": [
    "most_viewed_article_id = pd.DataFrame(df.article_id.value_counts()).reset_index().iloc[0, 0].astype(str) # The most viewed article in the dataset as a string with one value following the decimal \n",
    "max_views = pd.DataFrame(df.article_id.value_counts()).reset_index().iloc[0, 1].astype(int) # The most viewed article in the dataset was viewed how many times?\n",
    "\n",
    "most_viewed_article_id, max_views"
   ]
  },
  {
   "cell_type": "code",
   "execution_count": 12,
   "metadata": {},
   "outputs": [
    {
     "data": {
      "text/html": [
       "<div>\n",
       "<style scoped>\n",
       "    .dataframe tbody tr th:only-of-type {\n",
       "        vertical-align: middle;\n",
       "    }\n",
       "\n",
       "    .dataframe tbody tr th {\n",
       "        vertical-align: top;\n",
       "    }\n",
       "\n",
       "    .dataframe thead th {\n",
       "        text-align: right;\n",
       "    }\n",
       "</style>\n",
       "<table border=\"1\" class=\"dataframe\">\n",
       "  <thead>\n",
       "    <tr style=\"text-align: right;\">\n",
       "      <th></th>\n",
       "      <th>article_id</th>\n",
       "      <th>title</th>\n",
       "      <th>user_id</th>\n",
       "    </tr>\n",
       "  </thead>\n",
       "  <tbody>\n",
       "    <tr>\n",
       "      <th>0</th>\n",
       "      <td>1430.0</td>\n",
       "      <td>using pixiedust for fast, flexible, and easier...</td>\n",
       "      <td>1</td>\n",
       "    </tr>\n",
       "    <tr>\n",
       "      <th>1</th>\n",
       "      <td>1314.0</td>\n",
       "      <td>healthcare python streaming application demo</td>\n",
       "      <td>2</td>\n",
       "    </tr>\n",
       "    <tr>\n",
       "      <th>2</th>\n",
       "      <td>1429.0</td>\n",
       "      <td>use deep learning for image classification</td>\n",
       "      <td>3</td>\n",
       "    </tr>\n",
       "    <tr>\n",
       "      <th>3</th>\n",
       "      <td>1338.0</td>\n",
       "      <td>ml optimization using cognitive assistant</td>\n",
       "      <td>4</td>\n",
       "    </tr>\n",
       "    <tr>\n",
       "      <th>4</th>\n",
       "      <td>1276.0</td>\n",
       "      <td>deploy your python model as a restful api</td>\n",
       "      <td>5</td>\n",
       "    </tr>\n",
       "  </tbody>\n",
       "</table>\n",
       "</div>"
      ],
      "text/plain": [
       "   article_id                                              title  user_id\n",
       "0      1430.0  using pixiedust for fast, flexible, and easier...        1\n",
       "1      1314.0       healthcare python streaming application demo        2\n",
       "2      1429.0         use deep learning for image classification        3\n",
       "3      1338.0          ml optimization using cognitive assistant        4\n",
       "4      1276.0          deploy your python model as a restful api        5"
      ]
     },
     "execution_count": 12,
     "metadata": {},
     "output_type": "execute_result"
    }
   ],
   "source": [
    "## No need to change the code here - this will be helpful for later parts of the notebook\n",
    "# Run this cell to map the user email to a user_id column and remove the email column\n",
    "\n",
    "def email_mapper():\n",
    "    coded_dict = dict()\n",
    "    cter = 1\n",
    "    email_encoded = []\n",
    "    \n",
    "    for val in df['email']:\n",
    "        if val not in coded_dict:\n",
    "            coded_dict[val] = cter\n",
    "            cter+=1\n",
    "        \n",
    "        email_encoded.append(coded_dict[val])\n",
    "    return email_encoded\n",
    "\n",
    "email_encoded = email_mapper()\n",
    "del df['email']\n",
    "df['user_id'] = email_encoded\n",
    "\n",
    "# show header\n",
    "df.head()"
   ]
  },
  {
   "cell_type": "code",
   "execution_count": 13,
   "metadata": {},
   "outputs": [
    {
     "name": "stdout",
     "output_type": "stream",
     "text": [
      "It looks like you have everything right here! Nice job!\n"
     ]
    }
   ],
   "source": [
    "## If you stored all your results in the variable names above, \n",
    "## you shouldn't need to change anything in this cell\n",
    "\n",
    "sol_1_dict = {\n",
    "    '`50% of individuals have _____ or fewer interactions.`': median_val,\n",
    "    '`The total number of user-article interactions in the dataset is ______.`': user_article_interactions,\n",
    "    '`The maximum number of user-article interactions by any 1 user is ______.`': max_views_by_user,\n",
    "    '`The most viewed article in the dataset was viewed _____ times.`': max_views,\n",
    "    '`The article_id of the most viewed article is ______.`': most_viewed_article_id,\n",
    "    '`The number of unique articles that have at least 1 rating ______.`': unique_articles,\n",
    "    '`The number of unique users in the dataset is ______`': unique_users,\n",
    "    '`The number of unique articles on the IBM platform`': total_articles\n",
    "}\n",
    "\n",
    "# Test your dictionary against the solution\n",
    "t.sol_1_test(sol_1_dict)"
   ]
  },
  {
   "cell_type": "markdown",
   "metadata": {},
   "source": [
    "### <a class=\"anchor\" id=\"Rank\">Part II: Rank-Based Recommendations</a>\n",
    "\n",
    "Unlike in the earlier lessons, we don't actually have ratings for whether a user liked an article or not.  We only know that a user has interacted with an article.  In these cases, the popularity of an article can really only be based on how often an article was interacted with.\n",
    "\n",
    "`1.` Fill in the function below to return the **n** top articles ordered with most interactions as the top. Test your function using the tests below."
   ]
  },
  {
   "cell_type": "code",
   "execution_count": 338,
   "metadata": {},
   "outputs": [],
   "source": [
    "def get_top_articles(n, df=df):\n",
    "    '''\n",
    "    INPUT:\n",
    "    n - (int) the number of top articles to return\n",
    "    df - (pandas dataframe) df as defined at the top of the notebook \n",
    "    \n",
    "    OUTPUT:\n",
    "    top_articles - (list) A list of the top 'n' article titles \n",
    "    \n",
    "    '''\n",
    "    #group by article_id and count number of recurring titles \n",
    "    top_articles = df.groupby(by='article_id').title.value_counts().sort_values(ascending=False)[:n]\n",
    "    \n",
    "    #access 'title' in MultiIndex and convert to list\n",
    "    top_articles_titles = top_articles.index.get_level_values('title').tolist()\n",
    "    return top_articles_titles # Return the top article titles from df (not df_content)\n",
    "\n",
    "def get_top_article_ids(n, df=df):\n",
    "    '''\n",
    "    INPUT:\n",
    "    n - (int) the number of top articles to return\n",
    "    df - (pandas dataframe) df as defined at the top of the notebook \n",
    "    \n",
    "    OUTPUT:\n",
    "    top_articles - (list) A list of the top 'n' article titles \n",
    "    \n",
    "    '''\n",
    "    #group by article_id and count number of recurring titles \n",
    "    top_articles = df.groupby(by='article_id').title.value_counts().sort_values(ascending=False)[:n]\n",
    "     \n",
    "    #access 'article_id' in MultiIndex and convert to list\n",
    "    top_articles_id = top_articles.index.get_level_values('article_id').tolist()\n",
    " \n",
    "    return  top_articles_id # Return the top article ids"
   ]
  },
  {
   "cell_type": "code",
   "execution_count": 340,
   "metadata": {},
   "outputs": [
    {
     "name": "stdout",
     "output_type": "stream",
     "text": [
      "['use deep learning for image classification', 'insights from new york car accident reports', 'visualize car data with brunel', 'use xgboost, scikit-learn & ibm watson machine learning apis', 'predicting churn with the spss random tree algorithm', 'healthcare python streaming application demo', 'finding optimal locations of new store using decision optimization', 'apache spark lab, part 1: basic concepts', 'analyze energy consumption in buildings', 'gosales transactions for logistic regression model']\n",
      "['1429.0', '1330.0', '1431.0', '1427.0', '1364.0', '1314.0', '1293.0', '1170.0', '1162.0', '1304.0']\n"
     ]
    }
   ],
   "source": [
    "print(get_top_articles(10))\n",
    "print(get_top_article_ids(10))"
   ]
  },
  {
   "cell_type": "code",
   "execution_count": 341,
   "metadata": {},
   "outputs": [
    {
     "name": "stdout",
     "output_type": "stream",
     "text": [
      "Your top_5 looks like the solution list! Nice job.\n",
      "Your top_10 looks like the solution list! Nice job.\n",
      "Your top_20 looks like the solution list! Nice job.\n"
     ]
    }
   ],
   "source": [
    "# Test your function by returning the top 5, 10, and 20 articles\n",
    "top_5 = get_top_articles(5)\n",
    "top_10 = get_top_articles(10)\n",
    "top_20 = get_top_articles(20)\n",
    "\n",
    "# Test each of your three lists from above\n",
    "t.sol_2_test(get_top_articles)"
   ]
  },
  {
   "cell_type": "markdown",
   "metadata": {},
   "source": [
    "### <a class=\"anchor\" id=\"User-User\">Part III: User-User Based Collaborative Filtering</a>\n",
    "\n",
    "\n",
    "`1.` Use the function below to reformat the **df** dataframe to be shaped with users as the rows and articles as the columns.  \n",
    "\n",
    "* Each **user** should only appear in each **row** once.\n",
    "\n",
    "\n",
    "* Each **article** should only show up in one **column**.  \n",
    "\n",
    "\n",
    "* **If a user has interacted with an article, then place a 1 where the user-row meets for that article-column**.  It does not matter how many times a user has interacted with the article, all entries where a user has interacted with an article should be a 1.  \n",
    "\n",
    "\n",
    "* **If a user has not interacted with an item, then place a zero where the user-row meets for that article-column**. \n",
    "\n",
    "Use the tests to make sure the basic structure of your matrix matches what is expected by the solution."
   ]
  },
  {
   "cell_type": "code",
   "execution_count": 17,
   "metadata": {},
   "outputs": [],
   "source": [
    "# create the user-article matrix with 1's and 0's\n",
    "\n",
    "def create_user_item_matrix(df):\n",
    "    '''\n",
    "    INPUT:\n",
    "    df - pandas dataframe with article_id, title, user_id columns\n",
    "    \n",
    "    OUTPUT:\n",
    "    user_item - user item matrix \n",
    "    \n",
    "    Description:\n",
    "    Return a matrix with user ids as rows and article ids on the columns with 1 values where a user interacted with \n",
    "    an article and a 0 otherwise\n",
    "    '''\n",
    "    df['views'] = 1\n",
    "    user_item = df.groupby(['user_id', 'article_id']).views.min().unstack()\n",
    "    user_item.fillna(0, inplace=True)\n",
    "    \n",
    "    return user_item # return the user_item matrix \n",
    "\n",
    "user_item = create_user_item_matrix(df)"
   ]
  },
  {
   "cell_type": "code",
   "execution_count": 18,
   "metadata": {},
   "outputs": [
    {
     "name": "stdout",
     "output_type": "stream",
     "text": [
      "You have passed our quick tests!  Please proceed!\n"
     ]
    }
   ],
   "source": [
    "## Tests: You should just need to run this cell.  Don't change the code.\n",
    "assert user_item.shape[0] == 5149, \"Oops!  The number of users in the user-article matrix doesn't look right.\"\n",
    "assert user_item.shape[1] == 714, \"Oops!  The number of articles in the user-article matrix doesn't look right.\"\n",
    "assert user_item.sum(axis=1)[1] == 36, \"Oops!  The number of articles seen by user 1 doesn't look right.\"\n",
    "print(\"You have passed our quick tests!  Please proceed!\")"
   ]
  },
  {
   "cell_type": "markdown",
   "metadata": {},
   "source": [
    "`2.` Complete the function below which should take a user_id and provide an ordered list of the most similar users to that user (from most similar to least similar).  The returned result should not contain the provided user_id, as we know that each user is similar to him/herself. Because the results for each user here are binary, it (perhaps) makes sense to compute similarity as the dot product of two users. \n",
    "\n",
    "Use the tests to test your function."
   ]
  },
  {
   "cell_type": "code",
   "execution_count": 249,
   "metadata": {},
   "outputs": [],
   "source": [
    "def find_similar_users(user_id, user_item=user_item):\n",
    "    '''\n",
    "    INPUT:\n",
    "    user_id - (int) a user_id\n",
    "    user_item - (pandas dataframe) matrix of users by articles: \n",
    "                1's when a user has interacted with an article, 0 otherwise\n",
    "    \n",
    "    OUTPUT:\n",
    "    similar_users - (list) an ordered list where the closest users (largest dot product users)\n",
    "                    are listed first\n",
    "    \n",
    "    Description:\n",
    "    Computes the similarity of every pair of users based on the dot product\n",
    "    Returns an ordered\n",
    "    \n",
    "    '''\n",
    "    # compute similarity of each user to the provided user\n",
    "    dot_prod_user = np.dot(user_item.loc[user_id, :], user_item.T)\n",
    "        \n",
    "    # sort by similarity\n",
    "    most_similar_ind = dot_prod_user.argsort(kind='mergesort')[::-1]\n",
    "\n",
    "    # create list of just the ids\n",
    "    most_similar_users = np.array(df.iloc[most_similar_ind, ]['user_id'])\n",
    "\n",
    "    # remove the own user's id\n",
    "    most_similar_users = most_similar_users[most_similar_users != user_id].tolist()     \n",
    "\n",
    "       \n",
    "    return most_similar_users # return a list of the users in order from most to least similar\n",
    "        "
   ]
  },
  {
   "cell_type": "code",
   "execution_count": 250,
   "metadata": {},
   "outputs": [
    {
     "name": "stdout",
     "output_type": "stream",
     "text": [
      "The 10 most similar users to user 1 are: [1117, 1080, 20, 734, 35, 765, 5, 1180, 33, 103]\n",
      "The 5 most similar users to user 3933 are: [1117, 1, 1080, 20, 734]\n",
      "The 3 most similar users to user 46 are: [1180, 33, 1080]\n"
     ]
    }
   ],
   "source": [
    "# Do a spot check of your function\n",
    "print(\"The 10 most similar users to user 1 are: {}\".format(find_similar_users(1)[:10]))\n",
    "print(\"The 5 most similar users to user 3933 are: {}\".format(find_similar_users(3933)[:5]))\n",
    "print(\"The 3 most similar users to user 46 are: {}\".format(find_similar_users(46)[:3]))"
   ]
  },
  {
   "cell_type": "markdown",
   "metadata": {},
   "source": [
    "`3.` Now that you have a function that provides the most similar users to each user, you will want to use these users to find articles you can recommend.  Complete the functions below to return the articles you would recommend to each user. "
   ]
  },
  {
   "cell_type": "code",
   "execution_count": 251,
   "metadata": {},
   "outputs": [],
   "source": [
    "def get_article_names(article_ids, df=df):\n",
    "    '''\n",
    "    INPUT:\n",
    "    article_ids - (list) a list of article ids\n",
    "    df - (pandas dataframe) df as defined at the top of the notebook\n",
    "    \n",
    "    OUTPUT:\n",
    "    article_names - (list) a list of article names associated with the list of article ids \n",
    "                    (this is identified by the title column)\n",
    "    '''\n",
    "    df.article_id = df.article_id.astype(str)\n",
    "    article_names = []\n",
    "\n",
    "    for art_id in article_ids:\n",
    "        \n",
    "        #taking the first one we encounter (because there could be many interactions with the same article in df)\n",
    "        article_name = df[df['article_id'] == art_id]['title']\n",
    "        if article_name.size > 1:\n",
    "            article_name = article_name.tolist()[0]\n",
    "        article_names.append(article_name)\n",
    "    \n",
    "    return article_names # Return the article names associated with list of article ids\n",
    "\n",
    "def get_user_articles(user_id, user_item=user_item):\n",
    "    '''\n",
    "    INPUT:\n",
    "    user_id - (int) a user id\n",
    "    user_item - (pandas dataframe) matrix of users by articles: \n",
    "                1's when a user has interacted with an article, 0 otherwise\n",
    "    \n",
    "    OUTPUT:\n",
    "    article_ids - (list) a list of the article ids seen by the user\n",
    "    article_names - (list) a list of article names associated with the list of article ids \n",
    "                    (this is identified by the doc_full_name column in df_content)\n",
    "    \n",
    "    Description:\n",
    "    Provides a list of the article_ids and article titles that have been seen by a user\n",
    "    '''\n",
    "    article_ids = list(set(df[df.user_id == user_id].article_id.values))\n",
    "    article_names = get_article_names(article_ids)\n",
    "        \n",
    "    return article_ids, article_names\n",
    "\n",
    "\n",
    "def user_user_recs(user_id, m=10):\n",
    "    '''\n",
    "    INPUT:\n",
    "    user_id - (int) a user id\n",
    "    m - (int) the number of recommendations you want for the user\n",
    "    \n",
    "    OUTPUT:\n",
    "    recs - (list) a list of recommendations for the user\n",
    "    \n",
    "    Description:\n",
    "    Loops through the users based on closeness to the input user_id\n",
    "    For each user - finds articles the user hasn't seen before and provides them as recs\n",
    "    Does this until m recommendations are found\n",
    "    \n",
    "    Notes:\n",
    "    Users who are the same closeness are chosen arbitrarily as the 'next' user\n",
    "    \n",
    "    For the user where the number of recommended articles starts below m \n",
    "    and ends exceeding m, the last items are chosen arbitrarily\n",
    "    \n",
    "    '''\n",
    "    #get_user_articles returns two values - article_ids and article_names. User [0] for article_ids\n",
    "    this_user_art_ids = get_user_articles(user_id)[0]\n",
    "    \n",
    "    most_similar_users = find_similar_users(user_id)\n",
    "    \n",
    "    recs_list = []\n",
    "    \n",
    "    for similar_user in most_similar_users:\n",
    "        similar_user_art_ids = get_user_articles(similar_user)[0]\n",
    "        \n",
    "        #return article_ids that user hasn't seen before\n",
    "        recs_ids = list(np.setdiff1d(similar_user_art_ids, this_user_art_ids))            \n",
    "        recs_list.append(recs_ids)\n",
    "        \n",
    "        recs_ids = sum(recs_list, [])\n",
    "\n",
    "        if len(recs_ids) > 11:\n",
    "            break\n",
    "        \n",
    "    \n",
    "    return recs_ids[:m] # return your recommendations for this user_id    "
   ]
  },
  {
   "cell_type": "code",
   "execution_count": 252,
   "metadata": {},
   "outputs": [
    {
     "data": {
      "text/plain": [
       "['use decision optimization to schedule league games',\n",
       " 'i am not a data scientist – ibm watson data lab',\n",
       " 'using machine learning to predict parking difficulty',\n",
       " '8170    data science expert interview: dez blanchfield...\\nName: title, dtype: object',\n",
       " 'some random weekend reading',\n",
       " \"a kaggler's guide to model stacking in practice\",\n",
       " 'using github for project control in dsx',\n",
       " 'predicting gentrification using longitudinal census data',\n",
       " 'housing (2015): united states demographic measures',\n",
       " 'self-service data preparation with ibm data refinery']"
      ]
     },
     "execution_count": 252,
     "metadata": {},
     "output_type": "execute_result"
    }
   ],
   "source": [
    "# Check Results\n",
    "get_article_names(user_user_recs(1, 10)) # Return 10 recommendations for user 1"
   ]
  },
  {
   "cell_type": "code",
   "execution_count": 776,
   "metadata": {},
   "outputs": [
    {
     "data": {
      "text/plain": [
       "['working with ibm cloud object storage in r',\n",
       " 'use xgboost, scikit-learn & ibm watson machine learning apis',\n",
       " 'python if statements explained (python for data science basics #4)',\n",
       " 'predict loan applicant behavior with tensorflow neural networking',\n",
       " 'tensorflow quick tips',\n",
       " 'country statistics: life expectancy at birth',\n",
       " 'welcome to pixiedust',\n",
       " 'visualize car data with brunel',\n",
       " 'shiny 0.13.0',\n",
       " 'use deep learning for image classification',\n",
       " 'time series prediction using recurrent neural networks (lstms)',\n",
       " 'classify tumors with machine learning',\n",
       " 'introduction to market basket analysis in\\xa0python',\n",
       " 'fighting gerrymandering: using data science to draw fairer congressional districts',\n",
       " 'new shiny cheat sheet and video tutorial',\n",
       " 'putting a human face on machine learning',\n",
       " 'tidyverse practice: mapping large european cities',\n",
       " 'access db2 warehouse on cloud and db2 with python',\n",
       " 'using pixiedust for fast, flexible, and easier data analysis and experimentation',\n",
       " 'python for loops explained (python for data science basics #5)',\n",
       " 'jupyter notebook tutorial',\n",
       " 'uci: iris',\n",
       " 'shiny: a data scientist’s best friend',\n",
       " 'super fast string matching in python',\n",
       " 'sector correlations shiny app',\n",
       " 'analyze db2 warehouse on cloud data in rstudio in dsx',\n",
       " 'deep learning with tensorflow course by big data university',\n",
       " 'sudoku',\n",
       " 'uci ml repository: chronic kidney disease data set',\n",
       " 'categorize urban density',\n",
       " 'rapidly build machine learning flows with dsx',\n",
       " 'introducing ibm watson studio ',\n",
       " 'gosales transactions for naive bayes model',\n",
       " 'finding optimal locations of new store using decision optimization',\n",
       " 'apache spark lab, part 1: basic concepts',\n",
       " 'working with ibm cloud object storage in python']"
      ]
     },
     "execution_count": 776,
     "metadata": {},
     "output_type": "execute_result"
    }
   ],
   "source": [
    "# to make sense out of our recs, let's see what articles user 1 iteracted with :\n",
    "get_article_names(get_user_articles(1)[0])"
   ]
  },
  {
   "cell_type": "code",
   "execution_count": 253,
   "metadata": {},
   "outputs": [
    {
     "name": "stdout",
     "output_type": "stream",
     "text": [
      "If this is all you see, you passed all of our tests!  Nice job!\n"
     ]
    }
   ],
   "source": [
    "# Test your functions here - No need to change this code - just run this cell\n",
    "assert set(get_article_names(['1024.0', '1176.0', '1305.0', '1314.0', '1422.0', '1427.0'])) == set(['using deep learning to reconstruct high-resolution audio', 'build a python app on the streaming analytics service', 'gosales transactions for naive bayes model', 'healthcare python streaming application demo', 'use r dataframes & ibm watson natural language understanding', 'use xgboost, scikit-learn & ibm watson machine learning apis']), \"Oops! Your the get_article_names function doesn't work quite how we expect.\"\n",
    "assert set(get_article_names(['1320.0', '232.0', '844.0'])) == set(['housing (2015): united states demographic measures','self-service data preparation with ibm data refinery','use the cloudant-spark connector in python notebook']), \"Oops! Your the get_article_names function doesn't work quite how we expect.\"\n",
    "assert set(get_user_articles(20)[0]) == set(['1320.0', '232.0', '844.0'])\n",
    "assert set(get_user_articles(20)[1]) == set(['housing (2015): united states demographic measures', 'self-service data preparation with ibm data refinery','use the cloudant-spark connector in python notebook'])\n",
    "assert set(get_user_articles(2)[0]) == set(['1024.0', '1176.0', '1305.0', '1314.0', '1422.0', '1427.0'])\n",
    "assert set(get_user_articles(2)[1]) == set(['using deep learning to reconstruct high-resolution audio', 'build a python app on the streaming analytics service', 'gosales transactions for naive bayes model', 'healthcare python streaming application demo', 'use r dataframes & ibm watson natural language understanding', 'use xgboost, scikit-learn & ibm watson machine learning apis'])\n",
    "print(\"If this is all you see, you passed all of our tests!  Nice job!\")"
   ]
  },
  {
   "cell_type": "markdown",
   "metadata": {},
   "source": [
    "`4.` Now we are going to improve the consistency of the **user_user_recs** function from above.  \n",
    "\n",
    "* Instead of arbitrarily choosing when we obtain users who are all the same closeness to a given user - choose the users that have the most total article interactions before choosing those with fewer article interactions.\n",
    "\n",
    "\n",
    "* Instead of arbitrarily choosing articles from the user where the number of recommended articles starts below m and ends exceeding m, choose articles with the articles with the most total interactions before choosing those with fewer total interactions. This ranking should be  what would be obtained from the **top_articles** function you wrote earlier."
   ]
  },
  {
   "cell_type": "code",
   "execution_count": 289,
   "metadata": {},
   "outputs": [],
   "source": [
    "def get_top_sorted_users(user_id, df=df, user_item=user_item):\n",
    "    '''\n",
    "    INPUT:\n",
    "    user_id - (int)\n",
    "    df - (pandas dataframe) df as defined at the top of the notebook \n",
    "    user_item - (pandas dataframe) matrix of users by articles: \n",
    "            1's when a user has interacted with an article, 0 otherwise\n",
    "    \n",
    "            \n",
    "    OUTPUT:\n",
    "    neighbors_df - (pandas dataframe) a dataframe with:\n",
    "                    neighbor_id - is a neighbor user_id\n",
    "                    similarity - measure of the similarity of each user to the provided user_id\n",
    "                    num_interactions - the number of articles viewed by the user - if a u\n",
    "                    \n",
    "    Other Details - sort the neighbors_df by the similarity and then by number of interactions where \n",
    "                    highest of each is higher in the dataframe\n",
    "     \n",
    "    '''\n",
    "  \n",
    "    # compute similarity of each user to the provided user\n",
    "    dot_prod_user = np.dot(user_item.loc[user_id, :], user_item.T)\n",
    "    # compute num_interactions for each user\n",
    "    num_interactions = np.array(user_item.sum(axis=1))\n",
    "        \n",
    "    # sort by similarity\n",
    "    #most_similar_ind = dot_prod_user.argsort(kind='mergesort')[::-1]\n",
    "    #most_similar_val = np.sort(dot_prod_user, kind='mergesort')[::-1]\n",
    "    most_similar_ind = dot_prod_user.argsort()[::-1]\n",
    "    most_similar_val = np.sort(dot_prod_user)[::-1]\n",
    "   \n",
    "    # sort num_interactions by the same order as most_similar_ind\n",
    "    num_interactions_ordered = num_interactions[most_similar_ind]\n",
    "    \n",
    "    # create list of just the ids\n",
    "    most_similar_users = np.array(df.iloc[most_similar_ind, ]['user_id'])\n",
    "    \n",
    "    neighbors_df = pd.DataFrame({\"neighbor_id\": most_similar_users, \"similarity\": most_similar_val,\n",
    "                                 \"num_iteractions\": num_interactions_ordered})\n",
    "    neighbors_df.sort_values(by=['similarity', 'num_iteractions'], ascending=False, inplace=True)\n",
    "    \n",
    "    #remove the user_id for whom recs are made from the neighbors_df\n",
    "    this_user_idx = neighbors_df[neighbors_df.neighbor_id == user_id].index\n",
    "    neighbors_df.drop(this_user_idx, axis=0, inplace=True)\n",
    "    \n",
    "    return neighbors_df # Return the dataframe specified in the doc_string\n",
    "\n",
    "\n",
    "def user_user_recs_part2(user_id, m=10):\n",
    "    '''\n",
    "    INPUT:\n",
    "    user_id - (int) a user id\n",
    "    m - (int) the number of recommendations you want for the user\n",
    "    \n",
    "    OUTPUT:\n",
    "    recs - (list) a list of recommendations for the user by article id\n",
    "    rec_names - (list) a list of recommendations for the user by article title\n",
    "    \n",
    "    Description:\n",
    "    Loops through the users based on closeness to the input user_id\n",
    "    For each user - finds articles the user hasn't seen before and provides them as recs\n",
    "    Does this until m recommendations are found\n",
    "    \n",
    "    Notes:\n",
    "    * Choose the users that have the most total article interactions \n",
    "    before choosing those with fewer article interactions.\n",
    "\n",
    "    * Choose articles with the most total interactions \n",
    "    before choosing those with fewer total interactions. \n",
    "   \n",
    "    '''\n",
    "    article_views = pd.DataFrame(user_item.sum(axis=0)).reset_index()\n",
    "    article_views.columns = ['article_id', 'views']\n",
    "    article_views.article_id = article_views.article_id.astype(str)\n",
    "\n",
    "    #get_user_articles returns two values - article_ids and article_names. User [0] for article_ids\n",
    "    this_user_art_ids = get_user_articles(user_id)[0]\n",
    "    \n",
    "    \n",
    "    nearest_neighbors = get_top_sorted_users(user_id).neighbor_id.values\n",
    "    \n",
    "    recs_list = []\n",
    "    \n",
    "    for neighbor in nearest_neighbors:\n",
    "        neighbor_art_ids = get_user_articles(neighbor)[0]\n",
    "        \n",
    "        #return article_ids that user hasn't seen before\n",
    "        recs_ids = list(np.setdiff1d(neighbor_art_ids, this_user_art_ids))            \n",
    "        recs_list.append(recs_ids)\n",
    "        \n",
    "        recs_ids = sum(recs_list, [])\n",
    "\n",
    "        if len(recs_ids) > 11:\n",
    "            break\n",
    "        \n",
    "    recs = recs_ids[:m]\n",
    "    \n",
    "    #sort our recs (which are article ids) by those with the most total views\n",
    "    recs = article_views[article_views.article_id.isin(recs)].sort_values(by='views', ascending=False).article_id.values\n",
    "    \n",
    "    rec_names = get_article_names(recs)\n",
    "    \n",
    "    return recs, rec_names"
   ]
  },
  {
   "cell_type": "code",
   "execution_count": 290,
   "metadata": {},
   "outputs": [
    {
     "name": "stdout",
     "output_type": "stream",
     "text": [
      "The top 10 recommendations for user 20 are the following article ids:\n",
      "['1162.0' '1172.0' '1163.0' '1296.0' '108.0' '1176.0' '1184.0' '1158.0'\n",
      " '1051.0' '1286.0']\n",
      "\n",
      "The top 10 recommendations for user 20 are the following article names:\n",
      "['analyze energy consumption in buildings', 'apache spark lab, part 3: machine learning', 'analyze open data sets with spark & pixiedust', 'fortune 100 companies', '520    using notebooks with pixiedust for fast, flexi...\\nName: title, dtype: object', 'build a python app on the streaming analytics service', 'city population by sex, city and city type', 'airbnb data for analytics: washington d.c. reviews', 'a tensorflow regression model to predict house values', 'environment statistics database - water']\n"
     ]
    }
   ],
   "source": [
    "# Quick spot check - don't change this code - just use it to test your functions\n",
    "rec_ids, rec_names = user_user_recs_part2(20, 10)\n",
    "print(\"The top 10 recommendations for user 20 are the following article ids:\")\n",
    "print(rec_ids)\n",
    "print()\n",
    "print(\"The top 10 recommendations for user 20 are the following article names:\")\n",
    "print(rec_names)"
   ]
  },
  {
   "cell_type": "code",
   "execution_count": 775,
   "metadata": {},
   "outputs": [
    {
     "data": {
      "text/plain": [
       "['self-service data preparation with ibm data refinery',\n",
       " 'housing (2015): united states demographic measures',\n",
       " 'use the cloudant-spark connector in python notebook']"
      ]
     },
     "execution_count": 775,
     "metadata": {},
     "output_type": "execute_result"
    }
   ],
   "source": [
    "# to make sense out of our recs, let's see what articles user 20 iteracted with :\n",
    "get_article_names(get_user_articles(20)[0])"
   ]
  },
  {
   "cell_type": "markdown",
   "metadata": {},
   "source": [
    "`5.` Use your functions from above to correctly fill in the solutions to the dictionary below.  Then test your dictionary against the solution.  Provide the code you need to answer each following the comments below."
   ]
  },
  {
   "cell_type": "code",
   "execution_count": 322,
   "metadata": {},
   "outputs": [],
   "source": [
    "### Tests with a dictionary of results\n",
    "# Find the user that is most similar to user 1\n",
    "user1_most_sim = get_top_sorted_users(1).iloc[0, :].neighbor_id.astype(int)\n",
    " \n",
    "# Find the 10th most similar user to user 131\n",
    "user131_10th_sim = get_top_sorted_users(131).iloc[9, :].neighbor_id.astype(int)"
   ]
  },
  {
   "cell_type": "code",
   "execution_count": 632,
   "metadata": {},
   "outputs": [
    {
     "data": {
      "text/plain": [
       "(1117, 471)"
      ]
     },
     "execution_count": 632,
     "metadata": {},
     "output_type": "execute_result"
    }
   ],
   "source": [
    "user1_most_sim, user131_10th_sim"
   ]
  },
  {
   "cell_type": "markdown",
   "metadata": {},
   "source": [
    "# THE PROVIDED ANSWERS ARE WRONG! See justification below"
   ]
  },
  {
   "cell_type": "code",
   "execution_count": 281,
   "metadata": {},
   "outputs": [
    {
     "ename": "TypeError",
     "evalue": "'numpy.int64' object is not iterable",
     "output_type": "error",
     "traceback": [
      "\u001b[0;31m---------------------------------------------------------------------------\u001b[0m",
      "\u001b[0;31mTypeError\u001b[0m                                 Traceback (most recent call last)",
      "\u001b[0;32m<ipython-input-281-bd0702018110>\u001b[0m in \u001b[0;36m<module>\u001b[0;34m\u001b[0m\n\u001b[1;32m      5\u001b[0m }\n\u001b[1;32m      6\u001b[0m \u001b[0;34m\u001b[0m\u001b[0m\n\u001b[0;32m----> 7\u001b[0;31m \u001b[0mt\u001b[0m\u001b[0;34m.\u001b[0m\u001b[0msol_5_test\u001b[0m\u001b[0;34m(\u001b[0m\u001b[0msol_5_dict\u001b[0m\u001b[0;34m)\u001b[0m\u001b[0;34m\u001b[0m\u001b[0;34m\u001b[0m\u001b[0m\n\u001b[0m",
      "\u001b[0;32m~/Documents/GitHub/recommendations_IBM/project_tests.py\u001b[0m in \u001b[0;36msol_5_test\u001b[0;34m(sol_5_dict)\u001b[0m\n\u001b[1;32m     54\u001b[0m     \u001b[0;32melse\u001b[0m\u001b[0;34m:\u001b[0m\u001b[0;34m\u001b[0m\u001b[0;34m\u001b[0m\u001b[0m\n\u001b[1;32m     55\u001b[0m         \u001b[0;32mfor\u001b[0m \u001b[0mk\u001b[0m\u001b[0;34m,\u001b[0m \u001b[0mv\u001b[0m \u001b[0;32min\u001b[0m \u001b[0msol_5_dict_1\u001b[0m\u001b[0;34m.\u001b[0m\u001b[0mitems\u001b[0m\u001b[0;34m(\u001b[0m\u001b[0;34m)\u001b[0m\u001b[0;34m:\u001b[0m\u001b[0;34m\u001b[0m\u001b[0;34m\u001b[0m\u001b[0m\n\u001b[0;32m---> 56\u001b[0;31m             \u001b[0;32mif\u001b[0m \u001b[0mset\u001b[0m\u001b[0;34m(\u001b[0m\u001b[0msol_5_dict\u001b[0m\u001b[0;34m[\u001b[0m\u001b[0mk\u001b[0m\u001b[0;34m]\u001b[0m\u001b[0;34m)\u001b[0m \u001b[0;34m!=\u001b[0m \u001b[0mset\u001b[0m\u001b[0;34m(\u001b[0m\u001b[0msol_5_dict_1\u001b[0m\u001b[0;34m[\u001b[0m\u001b[0mk\u001b[0m\u001b[0;34m]\u001b[0m\u001b[0;34m)\u001b[0m\u001b[0;34m:\u001b[0m\u001b[0;34m\u001b[0m\u001b[0;34m\u001b[0m\u001b[0m\n\u001b[0m\u001b[1;32m     57\u001b[0m                 \u001b[0mprint\u001b[0m\u001b[0;34m(\u001b[0m\u001b[0;34m\"Oops!  Looks like there is a mistake with the {} key in your dictionary.  The answer should be {}.  Try again.\"\u001b[0m\u001b[0;34m.\u001b[0m\u001b[0mformat\u001b[0m\u001b[0;34m(\u001b[0m\u001b[0mk\u001b[0m\u001b[0;34m,\u001b[0m\u001b[0mv\u001b[0m\u001b[0;34m)\u001b[0m\u001b[0;34m)\u001b[0m\u001b[0;34m\u001b[0m\u001b[0;34m\u001b[0m\u001b[0m\n\u001b[1;32m     58\u001b[0m \u001b[0;34m\u001b[0m\u001b[0m\n",
      "\u001b[0;31mTypeError\u001b[0m: 'numpy.int64' object is not iterable"
     ]
    }
   ],
   "source": [
    "## Dictionary Test Here\n",
    "sol_5_dict = {\n",
    "    'The user that is most similar to user 1.': user1_most_sim, \n",
    "    'The user that is the 10th most similar to user 131': user131_10th_sim,\n",
    "}\n",
    "\n",
    "t.sol_5_test(sol_5_dict)"
   ]
  },
  {
   "cell_type": "markdown",
   "metadata": {},
   "source": [
    "## Finding mistake in sol_5_test\n",
    "\n",
    "the first test asks to find the closest user for user 1. Answer: 3933 <br>\n",
    "The second test asks to find the 10th closest user to user 131. Answer: 242"
   ]
  },
  {
   "cell_type": "code",
   "execution_count": 326,
   "metadata": {},
   "outputs": [
    {
     "name": "stdout",
     "output_type": "stream",
     "text": [
      "most_similar_ind [   0 3932   22 ... 2915 2910 2574]\n",
      "most_similar_val [36. 35. 17. ...  0.  0.  0.]\n",
      "most_similar_users [   1 1117   20 ...  733  797  558]\n"
     ]
    }
   ],
   "source": [
    "dot_prod_user = np.dot(user_item.loc[1, :], user_item.T)\n",
    "# compute num_interactions for each user\n",
    "num_interactions = np.array(user_item.sum(axis=1))\n",
    "\n",
    "# sort by similarity\n",
    "most_similar_ind = dot_prod_user.argsort()[::-1]\n",
    "print(\"most_similar_ind\", most_similar_ind)\n",
    "most_similar_val = np.sort(dot_prod_user)[::-1]\n",
    "print(\"most_similar_val\", most_similar_val)\n",
    "\n",
    "# sort num_interactions by the same order as most_similar_ind\n",
    "num_interactions_ordered = num_interactions[most_similar_ind]\n",
    "\n",
    "# create list of just the ids\n",
    "most_similar_users = np.array(df.iloc[most_similar_ind, ]['user_id'])\n",
    "print(\"most_similar_users\", most_similar_users)"
   ]
  },
  {
   "cell_type": "markdown",
   "metadata": {},
   "source": [
    "From above we can see that in order to get the 'right' answer as specified in the solution (answer=3933) we need to discard the first value in most_similar_ind which is 0 (this is because it is the index of this user) and add 1 to the next index. However, it is not the same as the user_id! It is also not the index of the second best user, which is 3932 and not 3933! "
   ]
  },
  {
   "cell_type": "code",
   "execution_count": 327,
   "metadata": {},
   "outputs": [
    {
     "name": "stdout",
     "output_type": "stream",
     "text": [
      "most_similar_ind [ 130 3869 3781   22 4458  202   97 3763 3696   48  241]\n",
      "most_similar_val [75. 74. 39. 38. 33. 33. 29. 29. 29. 29. 25.]\n",
      "most_similar_users [   5  765 1080   20  734   35   23  471 1055   35   71]\n"
     ]
    }
   ],
   "source": [
    "dot_prod_user = np.dot(user_item.loc[131, :], user_item.T)\n",
    "# compute num_interactions for each user\n",
    "num_interactions = np.array(user_item.sum(axis=1))\n",
    "\n",
    "# sort by similarity\n",
    "#most_similar_ind = dot_prod_user.argsort(kind='mergesort')[::-1]\n",
    "#most_similar_val = np.sort(dot_prod_user, kind='mergesort')[::-1]\n",
    "most_similar_ind = dot_prod_user.argsort()[::-1][:11]\n",
    "print(\"most_similar_ind\", most_similar_ind)\n",
    "most_similar_val = np.sort(dot_prod_user)[::-1][:11]\n",
    "print(\"most_similar_val\", most_similar_val)\n",
    "\n",
    "# sort num_interactions by the same order as most_similar_ind\n",
    "num_interactions_ordered = num_interactions[most_similar_ind]\n",
    "\n",
    "# create list of just the ids\n",
    "most_similar_users = np.array(df.iloc[most_similar_ind, ]['user_id'])[:11]\n",
    "print(\"most_similar_users\", most_similar_users)"
   ]
  },
  {
   "cell_type": "markdown",
   "metadata": {},
   "source": [
    "We see the same pattern repeat here as well - in order to get to the solution answer (answer=242) we need to discard the first index 130 and adds 1 to the 10th index which is 241. However, this is wrong! We already sorted the values and we can't just add 1 to get to the next best index."
   ]
  },
  {
   "cell_type": "markdown",
   "metadata": {},
   "source": [
    "`6.` If we were given a new user, which of the above functions would you be able to use to make recommendations?  Explain.  Can you think of a better way we might make recommendations?  Use the cell below to explain a better method for new users."
   ]
  },
  {
   "cell_type": "markdown",
   "metadata": {},
   "source": [
    "**Since we don't have any information about the new user, the most logical thing would be to provide the list of the most popular articles on the platform which we implemented in the first step (so called ranked-based or knowledge based recommendations. As we learn more about the preferences of the user, we can make him/her more personalized recommendations later.**"
   ]
  },
  {
   "cell_type": "markdown",
   "metadata": {},
   "source": [
    "`7.` Using your existing functions, provide the top 10 recommended articles you would provide for the a new user below.  You can test your function against our thoughts to make sure we are all on the same page with how we might make a recommendation."
   ]
  },
  {
   "cell_type": "code",
   "execution_count": 343,
   "metadata": {},
   "outputs": [],
   "source": [
    "new_user = '0.0'\n",
    "\n",
    "# What would your recommendations be for this new user '0.0'?  As a new user, they have no observed articles.\n",
    "# Provide a list of the top 10 article ids you would give to \n",
    "new_user_recs = get_top_article_ids(10) # Your recommendations here"
   ]
  },
  {
   "cell_type": "code",
   "execution_count": 344,
   "metadata": {},
   "outputs": [
    {
     "name": "stdout",
     "output_type": "stream",
     "text": [
      "That's right!  Nice job!\n"
     ]
    }
   ],
   "source": [
    "assert set(new_user_recs) == set(['1314.0','1429.0','1293.0','1427.0','1162.0','1364.0','1304.0','1170.0','1431.0','1330.0']), \"Oops!  It makes sense that in this case we would want to recommend the most popular articles, because we don't know anything about these users.\"\n",
    "\n",
    "print(\"That's right!  Nice job!\")"
   ]
  },
  {
   "cell_type": "markdown",
   "metadata": {},
   "source": [
    "### <a class=\"anchor\" id=\"Content-Recs\">Part IV: Content Based Recommendations (EXTRA - NOT REQUIRED)</a>\n",
    "\n",
    "Another method we might use to make recommendations is to perform a ranking of the highest ranked articles associated with some term.  You might consider content to be the **doc_body**, **doc_description**, or **doc_full_name**.  There isn't one way to create a content based recommendation, especially considering that each of these columns hold content related information.  \n",
    "\n",
    "`1.` Use the function body below to create a content based recommender.  Since there isn't one right answer for this recommendation tactic, no test functions are provided.  Feel free to change the function inputs if you decide you want to try a method that requires more input values.  The input values are currently set with one idea in mind that you may use to make content based recommendations.  One additional idea is that you might want to choose the most popular recommendations that meet your 'content criteria', but again, there is a lot of flexibility in how you might make these recommendations.\n",
    "\n",
    "### This part is NOT REQUIRED to pass this project.  However, you may choose to take this on as an extra way to show off your skills."
   ]
  },
  {
   "cell_type": "markdown",
   "metadata": {},
   "source": [
    "# 0. Preparing dataset\n",
    "\n",
    "I will combine information from all three features - doc_body, doc_description, doc_full_name. However, because the content of the article itself was parsed really bad, doc_body has low quality. At the same time, information from doc_full_name and doc_description is really not sufficient to discriminate well between articles based on content. The title of the article (doc_full_name) might be really short, while doc_description might be either missing or apruptly end and might not include the important words. Hence, the quality of our recommendations will not be high. <br>\n",
    "\n",
    "As a result, we are dealing here with **GIGA** - Garbage In, Garbage Out."
   ]
  },
  {
   "cell_type": "code",
   "execution_count": 1364,
   "metadata": {},
   "outputs": [
    {
     "data": {
      "text/plain": [
       "'For a company like Slack that strives to be as data-driven as possible, understanding how our users use our product is essential. The Data Engineering team at Slack works to provide an ecosystem to…'"
      ]
     },
     "execution_count": 1364,
     "metadata": {},
     "output_type": "execute_result"
    }
   ],
   "source": [
    "# example of bad description that ends abruptly\n",
    "df_content.doc_description[7]"
   ]
  },
  {
   "cell_type": "code",
   "execution_count": 1371,
   "metadata": {},
   "outputs": [
    {
     "data": {
      "text/plain": [
       "'Data Wrangling at Slack'"
      ]
     },
     "execution_count": 1371,
     "metadata": {},
     "output_type": "execute_result"
    }
   ],
   "source": [
    "# example of short article title\n",
    "df_content.doc_full_name[7]"
   ]
  },
  {
   "cell_type": "code",
   "execution_count": 1032,
   "metadata": {},
   "outputs": [],
   "source": [
    "# turns out that df_content has old index with loopholes, let's reset it\n",
    "df_content = df_content.reset_index(drop=True)"
   ]
  },
  {
   "cell_type": "code",
   "execution_count": 1033,
   "metadata": {},
   "outputs": [],
   "source": [
    "# turns out there are some articles without descriptions and these have Nans in them. \n",
    "# So let's change Nans to \" \" string.\n",
    "df_content['doc_full_name'].fillna(\" \", inplace=True)\n",
    "df_content['doc_description'].fillna(\" \", inplace=True)\n",
    "df_content['doc_body'].fillna(\" \", inplace=True)"
   ]
  },
  {
   "cell_type": "code",
   "execution_count": 1321,
   "metadata": {},
   "outputs": [],
   "source": [
    "#combining doc_full_name, doc_description, doc_body\n",
    "df_content['content'] = df_content['doc_full_name'] + \". \" + df_content['doc_description'] + \". \" + df_content['doc_body']"
   ]
  },
  {
   "cell_type": "code",
   "execution_count": 1322,
   "metadata": {},
   "outputs": [
    {
     "data": {
      "text/html": [
       "<div>\n",
       "<style scoped>\n",
       "    .dataframe tbody tr th:only-of-type {\n",
       "        vertical-align: middle;\n",
       "    }\n",
       "\n",
       "    .dataframe tbody tr th {\n",
       "        vertical-align: top;\n",
       "    }\n",
       "\n",
       "    .dataframe thead th {\n",
       "        text-align: right;\n",
       "    }\n",
       "</style>\n",
       "<table border=\"1\" class=\"dataframe\">\n",
       "  <thead>\n",
       "    <tr style=\"text-align: right;\">\n",
       "      <th></th>\n",
       "      <th>article_id</th>\n",
       "      <th>content</th>\n",
       "      <th>doc_full_name</th>\n",
       "    </tr>\n",
       "  </thead>\n",
       "  <tbody>\n",
       "    <tr>\n",
       "      <th>0</th>\n",
       "      <td>0</td>\n",
       "      <td>Detect Malfunctioning IoT Sensors with Streami...</td>\n",
       "      <td>Detect Malfunctioning IoT Sensors with Streami...</td>\n",
       "    </tr>\n",
       "    <tr>\n",
       "      <th>1</th>\n",
       "      <td>1</td>\n",
       "      <td>Communicating data science: A guide to present...</td>\n",
       "      <td>Communicating data science: A guide to present...</td>\n",
       "    </tr>\n",
       "    <tr>\n",
       "      <th>2</th>\n",
       "      <td>2</td>\n",
       "      <td>This Week in Data Science (April 18, 2017). He...</td>\n",
       "      <td>This Week in Data Science (April 18, 2017)</td>\n",
       "    </tr>\n",
       "    <tr>\n",
       "      <th>3</th>\n",
       "      <td>3</td>\n",
       "      <td>DataLayer Conference: Boost the performance of...</td>\n",
       "      <td>DataLayer Conference: Boost the performance of...</td>\n",
       "    </tr>\n",
       "    <tr>\n",
       "      <th>4</th>\n",
       "      <td>4</td>\n",
       "      <td>Analyze NY Restaurant data using Spark in DSX....</td>\n",
       "      <td>Analyze NY Restaurant data using Spark in DSX</td>\n",
       "    </tr>\n",
       "  </tbody>\n",
       "</table>\n",
       "</div>"
      ],
      "text/plain": [
       "   article_id                                            content  \\\n",
       "0           0  Detect Malfunctioning IoT Sensors with Streami...   \n",
       "1           1  Communicating data science: A guide to present...   \n",
       "2           2  This Week in Data Science (April 18, 2017). He...   \n",
       "3           3  DataLayer Conference: Boost the performance of...   \n",
       "4           4  Analyze NY Restaurant data using Spark in DSX....   \n",
       "\n",
       "                                       doc_full_name  \n",
       "0  Detect Malfunctioning IoT Sensors with Streami...  \n",
       "1  Communicating data science: A guide to present...  \n",
       "2         This Week in Data Science (April 18, 2017)  \n",
       "3  DataLayer Conference: Boost the performance of...  \n",
       "4      Analyze NY Restaurant data using Spark in DSX  "
      ]
     },
     "execution_count": 1322,
     "metadata": {},
     "output_type": "execute_result"
    }
   ],
   "source": [
    "df_cont = df_content[['article_id', 'content', 'doc_full_name']]\n",
    "df_cont.head()"
   ]
  },
  {
   "cell_type": "code",
   "execution_count": 1323,
   "metadata": {},
   "outputs": [
    {
     "name": "stdout",
     "output_type": "stream",
     "text": [
      "if you see only these message, then there are no Nans\n"
     ]
    }
   ],
   "source": [
    "#checking if there are nans \n",
    "nans_idx = []\n",
    "for c, idx in zip(df_cont.content, df_cont.index):\n",
    "    try:\n",
    "        tmp = len(c)\n",
    "    except TypeError:\n",
    "        print(c, idx) \n",
    "        nans_idx.append(idx)\n",
    "print(\"if you see only these message, then there are no Nans\")"
   ]
  },
  {
   "cell_type": "markdown",
   "metadata": {},
   "source": [
    "## 1. Find similar articles"
   ]
  },
  {
   "cell_type": "markdown",
   "metadata": {},
   "source": [
    "I wasn't sure if my first version of find_similar_articles() was producing ok recommendations (from just looking at the titles, it didn't seem so). That's why I decided to implement two different versions of it. <br>\n",
    "\n",
    "The first version of the function is based on my code from \"disaster response project\" plus what we have learned in the Lesson 6 on content-based recommendations. The second version is basically utilization of sklearn method of cosine_similarity and TfidfVectorizer class. <br>\n",
    "\n",
    "Both versions produce slightly different results, but have overlapping recommendations, which suggests that there are probably no technical mistakes. So, I think either implementation is ok to use.  "
   ]
  },
  {
   "cell_type": "markdown",
   "metadata": {},
   "source": [
    "### Version 1: Using nltk, sklearn and based on the code that we learnt in this nanodegree\n",
    "(\"disaster_response_project\", lesson on nltk and machine learning pipelines  and Lesson 6 \"Intro to Recommendations\") "
   ]
  },
  {
   "cell_type": "markdown",
   "metadata": {},
   "source": [
    "Now let's transform the content into td_idf matrix using scikitlearn and nltk library."
   ]
  },
  {
   "cell_type": "code",
   "execution_count": 1324,
   "metadata": {},
   "outputs": [],
   "source": [
    "import re\n",
    "\n",
    "from nltk import pos_tag\n",
    "from nltk.corpus import stopwords\n",
    "from nltk.corpus import wordnet as wn\n",
    "from nltk.stem import WordNetLemmatizer\n",
    "from nltk.tokenize import word_tokenize\n",
    "\n",
    "from sklearn.feature_extraction.text import CountVectorizer, TfidfTransformer"
   ]
  },
  {
   "cell_type": "code",
   "execution_count": 1325,
   "metadata": {},
   "outputs": [],
   "source": [
    "# Create a map between Treebank and WordNet \n",
    "# WordNet POS tags are: NOUN = 'n', ADJ = 's', VERB = 'v', ADV = 'r'\n",
    "# Descriptions (c) https://web.stanford.edu/~jurafsky/slp3/10.pdf\n",
    "tag_map = {\n",
    "        'CC':None, # coordin. conjunction (and, but, or)  \n",
    "        'CD':wn.NOUN, # cardinal number (one, two)             \n",
    "        'DT':None, # determiner (a, the)                    \n",
    "        'EX':wn.ADV, # existential ‘there’ (there)           \n",
    "        'FW':None, # foreign word (mea culpa)             \n",
    "        'IN':wn.ADV, # preposition/sub-conj (of, in, by)   \n",
    "        'JJ':wn.ADJ, # adjective (yellow)                  \n",
    "        'JJR':wn.ADJ, # adj., comparative (bigger)          \n",
    "        'JJS':wn.ADJ, # adj., superlative (wildest)           \n",
    "        'LS':None, # list item marker (1, 2, One)          \n",
    "        'MD':None, # modal (can, should)                    \n",
    "        'NN':wn.NOUN, # noun, sing. or mass (llama)          \n",
    "        'NNS':wn.NOUN, # noun, plural (llamas)                  \n",
    "        'NNP':wn.NOUN, # proper noun, sing. (IBM)              \n",
    "        'NNPS':wn.NOUN, # proper noun, plural (Carolinas)\n",
    "        'PDT':wn.ADJ, # predeterminer (all, both)            \n",
    "        'POS':None, # possessive ending (’s )               \n",
    "        'PRP':None, # personal pronoun (I, you, he)     \n",
    "        'PRP$':None, # possessive pronoun (your, one’s)    \n",
    "        'RB':wn.ADV, # adverb (quickly, never)            \n",
    "        'RBR':wn.ADV, # adverb, comparative (faster)        \n",
    "        'RBS':wn.ADV, # adverb, superlative (fastest)     \n",
    "        'RP':wn.ADJ, # particle (up, off)\n",
    "        'SYM':None, # symbol (+,%, &)\n",
    "        'TO':None, # “to” (to)\n",
    "        'UH':None, # interjection (ah, oops)\n",
    "        'VB':wn.VERB, # verb base form (eat)\n",
    "        'VBD':wn.VERB, # verb past tense (ate)\n",
    "        'VBG':wn.VERB, # verb gerund (eating)\n",
    "        'VBN':wn.VERB, # verb past participle (eaten)\n",
    "        'VBP':wn.VERB, # verb non-3sg pres (eat)\n",
    "        'VBZ':wn.VERB, # verb 3sg pres (eats)\n",
    "        'WDT':None, # wh-determiner (which, that)\n",
    "        'WP':None, # wh-pronoun (what, who)\n",
    "        'WP$':None, # possessive (wh- whose)\n",
    "        'WRB':None, # wh-adverb (how, where)\n",
    "        '$':None, #  dollar sign ($)\n",
    "        '#':None, # pound sign (#)\n",
    "        '“':None, # left quote (‘ or “)\n",
    "        '”':None, # right quote (’ or ”)\n",
    "        '(':None, # left parenthesis ([, (, {, <)\n",
    "        ')':None, # right parenthesis (], ), }, >)\n",
    "        ',':None, # comma (,)\n",
    "        '.':None, # sentence-final punc (. ! ?)\n",
    "        ':':None # mid-sentence punc (: ; ... – -)\n",
    "    }\n",
    "\n",
    "def tokenize(text):     \n",
    "    ''' Tokenizer for CountVectorizer() \n",
    "\n",
    "        Inputs: \n",
    "            text: message instance\n",
    "        Output: \n",
    "            clean_tokens: list of lemmatized tokens based on words from the message\n",
    "    '''\n",
    "    #remove url links\n",
    "    re_url = r'(http|ftp|https)://([\\w_-]+(?:(?:\\.[\\w_-]+)+))([\\w.,@?^=%&:/~+#-]*[\\w@?^=%&/~+#-])?'\n",
    "    text = re.sub(re_url, 'urlplaceholder', text)\n",
    "\n",
    "    #remove punctuation\n",
    "    text = re.sub(r\"[^a-zA-Z0-9]\", \" \", text.lower())    \n",
    "    tokens = word_tokenize(text)\n",
    "    \n",
    "    # remove short words\n",
    "    tokens = [token for token in tokens if len(token) > 2]\n",
    "    \n",
    "    # remove stopwords\n",
    "    STOPWORDS = list(set(stopwords.words('english')))\n",
    "    tokens = [token for token in tokens if token not in STOPWORDS]\n",
    "\n",
    "    pos_tokens = pos_tag(tokens) \n",
    "\n",
    "    lemmatizer = WordNetLemmatizer()\n",
    "\n",
    "    clean_tokens = []\n",
    "    for tok, pos in pos_tokens:\n",
    "        try:\n",
    "            if tag_map[pos] is not None:\n",
    "                clean_tok = lemmatizer.lemmatize(tok, tag_map[pos]).lower().strip()\n",
    "                clean_tokens.append(clean_tok)\n",
    "            else:\n",
    "                clean_tok = lemmatizer.lemmatize(tok).lower().strip()\n",
    "                clean_tokens.append(clean_tok)\n",
    "        except KeyError:\n",
    "            pass\n",
    "            \n",
    "    return clean_tokens"
   ]
  },
  {
   "cell_type": "code",
   "execution_count": 1326,
   "metadata": {},
   "outputs": [
    {
     "name": "stdout",
     "output_type": "stream",
     "text": [
      "Creating the Data Science Experience\n"
     ]
    },
    {
     "data": {
      "text/plain": [
       "['create', 'data', 'science', 'experience']"
      ]
     },
     "execution_count": 1326,
     "metadata": {},
     "output_type": "execute_result"
    }
   ],
   "source": [
    "#checking if tokenize() works as intented:\n",
    "print(df_cont.doc_full_name[25])\n",
    "tokenize(df_cont.doc_full_name[25])"
   ]
  },
  {
   "cell_type": "code",
   "execution_count": 1327,
   "metadata": {},
   "outputs": [],
   "source": [
    "import nltk\n",
    "nltk.download('stopwords', quiet=True, raise_on_error=True)\n",
    "stop_words = set(nltk.corpus.stopwords.words('english'))\n",
    "tokenized_stop_words = nltk.word_tokenize(' '.join(nltk.corpus.stopwords.words('english')))"
   ]
  },
  {
   "cell_type": "code",
   "execution_count": 1328,
   "metadata": {},
   "outputs": [],
   "source": [
    "vect = CountVectorizer(tokenizer=tokenize, lowercase=True, ngram_range=(1, 2), stop_words=tokenized_stop_words)\n",
    "tfidf = TfidfTransformer()\n",
    "\n",
    "content_counts = vect.fit_transform(df_cont['content'].values)\n",
    "content_tfidf = tfidf.fit_transform(content_counts)"
   ]
  },
  {
   "cell_type": "code",
   "execution_count": 1329,
   "metadata": {},
   "outputs": [],
   "source": [
    "dot_prod_content = np.dot(content_tfidf, content_tfidf.T)"
   ]
  },
  {
   "cell_type": "code",
   "execution_count": 1330,
   "metadata": {},
   "outputs": [],
   "source": [
    "def find_similar_articles(article_id, num_rec=5):\n",
    "    \"\"\"\n",
    "    INPUT:\n",
    "        article_id: (float) article_id for which we want to find similar articles\n",
    "        num_rec: (optional) the number of recommendations we want to make. Default 5\n",
    "    OUTPUT:\n",
    "        similar_articles: (list) titles of similar articles \n",
    "    \"\"\"\n",
    "    \n",
    "    #because article_id is the same as index, we don't need conversion between them\n",
    "    \n",
    "    # find the most similar article indices\n",
    "    most_similar_ind = dot_prod_content[article_id].toarray().argsort(kind='mergesort')[::-1].tolist()\n",
    "\n",
    "    # toarray() above results into [[]] output, so we need to flatten it first\n",
    "    most_similar_ind = sum(most_similar_ind, [])\n",
    "    \n",
    "    # pull the article titles based on the indices    \n",
    "    #we want to recommend 3 most similar titles (because 1 of them could be this article)\n",
    "    similar_articles = np.array(df_cont.iloc[most_similar_ind[:num_rec], ]['doc_full_name'])\n",
    "    \n",
    "    # because our dot_prod matrix includes dot_prod of the movie by itself which also has the highest score\n",
    "    # we need exclude it from our list of similar movies\n",
    "    this_title = df_cont[df_cont.article_id == article_id]['doc_full_name'].values\n",
    "    similar_articles = similar_articles[similar_articles != this_title].tolist()     \n",
    "        \n",
    "    return similar_articles"
   ]
  },
  {
   "cell_type": "code",
   "execution_count": 1342,
   "metadata": {},
   "outputs": [
    {
     "name": "stdout",
     "output_type": "stream",
     "text": [
      "this article ['Analyze NY Restaurant data using Spark in DSX']\n",
      "top5 recs:\n"
     ]
    },
    {
     "data": {
      "text/plain": [
       "['Upgrading your PostgreSQL to 9.5',\n",
       " 'Compose for MySQL now for you',\n",
       " 'Move CSVs into different JSON doc stores',\n",
       " 'Deep Forest: Towards An Alternative to Deep Neural Networks',\n",
       " 'Ensemble Learning to Improve Machine Learning Results']"
      ]
     },
     "execution_count": 1342,
     "metadata": {},
     "output_type": "execute_result"
    }
   ],
   "source": [
    "check_id = 4\n",
    "print(\"this article\", df_cont[df_cont.article_id == check_id].doc_full_name.values)\n",
    "print(\"top5 recs:\")\n",
    "find_similar_articles(check_id)"
   ]
  },
  {
   "cell_type": "markdown",
   "metadata": {},
   "source": [
    "### Version 2: using only sklearn library"
   ]
  },
  {
   "cell_type": "code",
   "execution_count": 1335,
   "metadata": {},
   "outputs": [],
   "source": [
    "from sklearn.metrics.pairwise import cosine_similarity\n",
    "from sklearn.feature_extraction.text import TfidfVectorizer\n",
    "\n",
    "tf = TfidfVectorizer(analyzer='word', ngram_range=(1, 3), stop_words='english')\n",
    "tfidf_matrix = tf.fit_transform(df_cont['content'].values)"
   ]
  },
  {
   "cell_type": "code",
   "execution_count": 1336,
   "metadata": {},
   "outputs": [
    {
     "data": {
      "text/plain": [
       "(1051, 37987)"
      ]
     },
     "execution_count": 1336,
     "metadata": {},
     "output_type": "execute_result"
    }
   ],
   "source": [
    "tfidf_matrix.shape"
   ]
  },
  {
   "cell_type": "code",
   "execution_count": 1337,
   "metadata": {},
   "outputs": [
    {
     "data": {
      "text/plain": [
       "(1051, 1051)"
      ]
     },
     "execution_count": 1337,
     "metadata": {},
     "output_type": "execute_result"
    }
   ],
   "source": [
    "cosine_similarities = cosine_similarity(tfidf_matrix,Y=None,dense_output=False)\n",
    "cosine_similarities.shape"
   ]
  },
  {
   "cell_type": "code",
   "execution_count": 1338,
   "metadata": {},
   "outputs": [],
   "source": [
    "def find_similar_2(article_id, num_rec=5):\n",
    "    \"\"\"\n",
    "    INPUT:\n",
    "        article_id: (int) article_id for which we want to find similar articles\n",
    "        num_rec: (optional) the number of recommendations we want to make. Default 5\n",
    "    OUTPUT:\n",
    "        similar_items: (list) titles of similar articles \n",
    "    \n",
    "    \"\"\"\n",
    "    similar_indices = cosine_similarities[article_id].toarray().argsort()[::-1].tolist()\n",
    "    similar_indices = sum(similar_indices, [])\n",
    "    similar_items = [df_content['doc_full_name'][i] for i in similar_indices][:num_rec]\n",
    "    return similar_items"
   ]
  },
  {
   "cell_type": "code",
   "execution_count": 1341,
   "metadata": {},
   "outputs": [
    {
     "data": {
      "text/plain": [
       "['Jupyter Notebooks with Scala, Python, or R Kernels',\n",
       " 'Dimensionality Reduction Algorithms',\n",
       " 'Making of a Smart Business Chatbot: Part 3',\n",
       " 'Awesome deep learning papers',\n",
       " '10 Common Misconceptions about CouchDB']"
      ]
     },
     "execution_count": 1341,
     "metadata": {},
     "output_type": "execute_result"
    }
   ],
   "source": [
    "find_similar_2(4)"
   ]
  },
  {
   "cell_type": "markdown",
   "metadata": {},
   "source": [
    "## 2. Make predictions"
   ]
  },
  {
   "cell_type": "markdown",
   "metadata": {},
   "source": [
    "We can now make predictions for 1051 articles that were included in df_content. However, our df is much bigger and includes many more articles. So we need, first, to check if the two datasets include the same article titles. If so, then, second, we can filter the df to have only for which we have content. "
   ]
  },
  {
   "cell_type": "code",
   "execution_count": 1219,
   "metadata": {},
   "outputs": [
    {
     "name": "stdout",
     "output_type": "stream",
     "text": [
      "so we have only 437 articles that are present in both datasets\n"
     ]
    }
   ],
   "source": [
    "overlapping_articles = np.intersect1d(df.article_id.astype(float), df_content.article_id)\n",
    "print(f\"so we have only {len(overlapping_articles)} articles that are present in both datasets\")"
   ]
  },
  {
   "cell_type": "code",
   "execution_count": 1220,
   "metadata": {},
   "outputs": [
    {
     "name": "stdout",
     "output_type": "stream",
     "text": [
      "df title:\n",
      "analyze ny restaurant data using spark in dsx\n",
      "\n",
      "df_content title:\n",
      "Analyze NY Restaurant data using Spark in DSX\n"
     ]
    }
   ],
   "source": [
    "# checking if the titles in df and df_content are the same\n",
    "print(\"df title:\")\n",
    "print(df[df.article_id == str(overlapping_articles[2])].title.iloc[0])\n",
    "print(\"\\ndf_content title:\")\n",
    "print(df_content[df_content.article_id == overlapping_articles[2]].doc_full_name.iloc[0])"
   ]
  },
  {
   "cell_type": "code",
   "execution_count": 1232,
   "metadata": {},
   "outputs": [
    {
     "data": {
      "text/plain": [
       "(21454, 4)"
      ]
     },
     "execution_count": 1232,
     "metadata": {},
     "output_type": "execute_result"
    }
   ],
   "source": [
    "#filter the df to include only articles that are also in df_content\n",
    "df_filtered = df[df.article_id.astype(float).isin(overlapping_articles)]\n",
    "df_filtered.shape"
   ]
  },
  {
   "cell_type": "code",
   "execution_count": 1239,
   "metadata": {},
   "outputs": [
    {
     "name": "stdout",
     "output_type": "stream",
     "text": [
      "After filtering, we only have 4258 unique users to analyze, compared to 5149 users in the original dataset\n"
     ]
    }
   ],
   "source": [
    "#finally let's check how many unique user_ids are left in the filtered df:\n",
    "print(f\"After filtering, we only have {df_filtered.user_id.nunique()} unique users to make recs, compared to {df.user_id.nunique()} users in the original dataset\")"
   ]
  },
  {
   "cell_type": "code",
   "execution_count": 1302,
   "metadata": {},
   "outputs": [],
   "source": [
    "from collections import OrderedDict\n",
    "\n",
    "def make_content_recs(num_rec=5):\n",
    "    '''\n",
    "    INPUT:\n",
    "        num_rec: number of recommendations one wants to make for each user. Default 5\n",
    "    \n",
    "    OUTPUT:\n",
    "        recs: ordered dictionary of recommendations for each user from df_filtered\n",
    "    \n",
    "    '''\n",
    "    recs = OrderedDict()\n",
    "    nusers = df_filtered.user_id.nunique()\n",
    "    \n",
    "    # For each user\n",
    "    for user in df_filtered.user_id.unique():\n",
    "        # find articles that user viewed\n",
    "        articles_viewed = df_filtered[df_filtered.user_id == user].article_id.values.astype(float)\n",
    "        #convert to int to prepare for the same type as find_similar_2() requires\n",
    "        articles_viewed = [int(art) for art in articles_viewed]\n",
    "        #drop duplicates - user might have interacted with the same article several times\n",
    "        articles_viewed = list(set(articles_viewed))\n",
    "\n",
    "        for article in articles_viewed:\n",
    "            # we will be recommending 2 similar articles for each article user viewed\n",
    "            # this will increase diversity of recs\n",
    "            # ! however, this might result into less than num_rec recommendations, if user is not active one \n",
    "            # otherwise increase num_rec in find_similar_2()\n",
    "            recs.setdefault(user, []).append(find_similar_2(article, num_rec=2) )\n",
    "            \n",
    "    # we flatten the list and take num_rec recs\n",
    "    recs = {k: sum(v, [])[:num_rec] for k, v in recs.items()}\n",
    "    \n",
    "    #we go through the dict and remove duplicates from dict values\n",
    "    recs_fin = {}\n",
    "    for key, value_list in recs.items():\n",
    "        recs_fin[key] = list(set(value_list))\n",
    "        \n",
    "    return recs_fin"
   ]
  },
  {
   "cell_type": "code",
   "execution_count": 1303,
   "metadata": {},
   "outputs": [],
   "source": [
    "recs_fin = make_content_recs(5)"
   ]
  },
  {
   "cell_type": "code",
   "execution_count": 1320,
   "metadata": {},
   "outputs": [
    {
     "name": "stdout",
     "output_type": "stream",
     "text": [
      "user interacted with these articles:\n",
      "['10 must attend data science, ml and ai conferences in 2018'\n",
      " '520    using notebooks with pixiedust for fast, flexi...\\nName: title, dtype: object'\n",
      " 'super fast string matching in python' 'd3heatmap: interactive heat maps'\n",
      " 'tidy data in python' 'getting started with python'\n",
      " '520    using notebooks with pixiedust for fast, flexi...\\nName: title, dtype: object'\n",
      " 'manage object storage in dsx'\n",
      " 'an introduction to stock market data analysis with r (part 1)'\n",
      " 'excel files: loading from object storage — python'\n",
      " 'working with db2 warehouse on cloud in data science experience'\n",
      " '56594    lifelong (machine) learning: how automation ca...\\nName: title, dtype: object'\n",
      " 'how to use db2 warehouse on cloud in data science experience notebooks'\n",
      " 'understanding empirical bayes estimation (using baseball statistics)'\n",
      " 'dimensionality reduction algorithms'\n",
      " 'data science expert interview: holden karau']\n",
      "\n",
      "our recommendations:\n",
      "['Integrate User Management and Cloudant Query into a Node.js & Cloudant Application', 'R Markdown Reference Guide', 'Deep Forest: Towards An Alternative to Deep Neural Networks', 'Convert IBM Puredata for Analytics to dashDB', 'A Deep Dive into Offline-First with PouchDB and IBM Cloudant']\n"
     ]
    }
   ],
   "source": [
    "# let's see the recs for user_id 14\n",
    "check_id = 17\n",
    "print(\"user interacted with these articles:\")\n",
    "print(df_filtered[df_filtered.user_id == check_id].title.values)\n",
    "# if you want to try another user_id, check recs_fin.keys() to see which user_ids are available\n",
    "print(\"\\nour recommendations:\")\n",
    "print(recs_fin[check_id])"
   ]
  },
  {
   "cell_type": "markdown",
   "metadata": {},
   "source": [
    "`2.` Now that you have put together your content-based recommendation system, use the cell below to write a summary explaining how your content based recommender works.  Do you see any possible improvements that could be made to your function?  Is there anything novel about your content based recommender?\n",
    "\n",
    "### This part is NOT REQUIRED to pass this project.  However, you may choose to take this on as an extra way to show off your skills."
   ]
  },
  {
   "cell_type": "code",
   "execution_count": null,
   "metadata": {},
   "outputs": [],
   "source": []
  },
  {
   "cell_type": "markdown",
   "metadata": {},
   "source": [
    "**Write an explanation of your content based recommendation system here.**"
   ]
  },
  {
   "cell_type": "markdown",
   "metadata": {},
   "source": [
    "`3.` Use your content-recommendation system to make recommendations for the below scenarios based on the comments.  Again no tests are provided here, because there isn't one right answer that could be used to find these content based recommendations.\n",
    "\n",
    "### This part is NOT REQUIRED to pass this project.  However, you may choose to take this on as an extra way to show off your skills."
   ]
  },
  {
   "cell_type": "code",
   "execution_count": 1382,
   "metadata": {},
   "outputs": [
    {
     "name": "stdout",
     "output_type": "stream",
     "text": [
      "we cannot make recommendations for a new user because our recommendations are content-based meaning we need at least one article_id to suggest similar articles\n",
      "\n",
      "we cannot make predictions for article_id '1427.0' because it is out of range. Our recs are based on content from df_content. df_content has only 1051 articles, with the last being '1050' article_id.\n"
     ]
    }
   ],
   "source": [
    "# make recommendations for a brand new user\n",
    "print(\"we cannot make recommendations for a new user because our recommendations are content-based meaning we need at least one article_id to suggest similar articles\")\n",
    "print()\n",
    "# make a recommendations for a user who only has interacted with article id '1427.0'\n",
    "print(f\"we cannot make predictions for article_id '1427.0' because it is out of range. Our recs are based on content from df_content. \\\n",
    "df_content has only {df_content.article_id.nunique()} articles, with the last being '{df_content.article_id.iloc[-1]}' article_id.\")"
   ]
  },
  {
   "cell_type": "markdown",
   "metadata": {},
   "source": [
    "### <a class=\"anchor\" id=\"Matrix-Fact\">Part V: Matrix Factorization</a>\n",
    "\n",
    "In this part of the notebook, you will build use matrix factorization to make article recommendations to the users on the IBM Watson Studio platform.\n",
    "\n",
    "`1.` You should have already created a **user_item** matrix above in **question 1** of **Part III** above.  This first question here will just require that you run the cells to get things set up for the rest of **Part V** of the notebook. "
   ]
  },
  {
   "cell_type": "code",
   "execution_count": 345,
   "metadata": {},
   "outputs": [],
   "source": [
    "# Load the matrix here\n",
    "user_item_matrix = pd.read_pickle('user_item_matrix.p')"
   ]
  },
  {
   "cell_type": "code",
   "execution_count": 346,
   "metadata": {},
   "outputs": [
    {
     "data": {
      "text/html": [
       "<div>\n",
       "<style scoped>\n",
       "    .dataframe tbody tr th:only-of-type {\n",
       "        vertical-align: middle;\n",
       "    }\n",
       "\n",
       "    .dataframe tbody tr th {\n",
       "        vertical-align: top;\n",
       "    }\n",
       "\n",
       "    .dataframe thead th {\n",
       "        text-align: right;\n",
       "    }\n",
       "</style>\n",
       "<table border=\"1\" class=\"dataframe\">\n",
       "  <thead>\n",
       "    <tr style=\"text-align: right;\">\n",
       "      <th>article_id</th>\n",
       "      <th>0.0</th>\n",
       "      <th>100.0</th>\n",
       "      <th>1000.0</th>\n",
       "      <th>1004.0</th>\n",
       "      <th>1006.0</th>\n",
       "      <th>1008.0</th>\n",
       "      <th>101.0</th>\n",
       "      <th>1014.0</th>\n",
       "      <th>1015.0</th>\n",
       "      <th>1016.0</th>\n",
       "      <th>...</th>\n",
       "      <th>977.0</th>\n",
       "      <th>98.0</th>\n",
       "      <th>981.0</th>\n",
       "      <th>984.0</th>\n",
       "      <th>985.0</th>\n",
       "      <th>986.0</th>\n",
       "      <th>990.0</th>\n",
       "      <th>993.0</th>\n",
       "      <th>996.0</th>\n",
       "      <th>997.0</th>\n",
       "    </tr>\n",
       "    <tr>\n",
       "      <th>user_id</th>\n",
       "      <th></th>\n",
       "      <th></th>\n",
       "      <th></th>\n",
       "      <th></th>\n",
       "      <th></th>\n",
       "      <th></th>\n",
       "      <th></th>\n",
       "      <th></th>\n",
       "      <th></th>\n",
       "      <th></th>\n",
       "      <th></th>\n",
       "      <th></th>\n",
       "      <th></th>\n",
       "      <th></th>\n",
       "      <th></th>\n",
       "      <th></th>\n",
       "      <th></th>\n",
       "      <th></th>\n",
       "      <th></th>\n",
       "      <th></th>\n",
       "      <th></th>\n",
       "    </tr>\n",
       "  </thead>\n",
       "  <tbody>\n",
       "    <tr>\n",
       "      <th>1</th>\n",
       "      <td>0.0</td>\n",
       "      <td>0.0</td>\n",
       "      <td>0.0</td>\n",
       "      <td>0.0</td>\n",
       "      <td>0.0</td>\n",
       "      <td>0.0</td>\n",
       "      <td>0.0</td>\n",
       "      <td>0.0</td>\n",
       "      <td>0.0</td>\n",
       "      <td>0.0</td>\n",
       "      <td>...</td>\n",
       "      <td>0.0</td>\n",
       "      <td>0.0</td>\n",
       "      <td>1.0</td>\n",
       "      <td>0.0</td>\n",
       "      <td>0.0</td>\n",
       "      <td>0.0</td>\n",
       "      <td>0.0</td>\n",
       "      <td>0.0</td>\n",
       "      <td>0.0</td>\n",
       "      <td>0.0</td>\n",
       "    </tr>\n",
       "    <tr>\n",
       "      <th>2</th>\n",
       "      <td>0.0</td>\n",
       "      <td>0.0</td>\n",
       "      <td>0.0</td>\n",
       "      <td>0.0</td>\n",
       "      <td>0.0</td>\n",
       "      <td>0.0</td>\n",
       "      <td>0.0</td>\n",
       "      <td>0.0</td>\n",
       "      <td>0.0</td>\n",
       "      <td>0.0</td>\n",
       "      <td>...</td>\n",
       "      <td>0.0</td>\n",
       "      <td>0.0</td>\n",
       "      <td>0.0</td>\n",
       "      <td>0.0</td>\n",
       "      <td>0.0</td>\n",
       "      <td>0.0</td>\n",
       "      <td>0.0</td>\n",
       "      <td>0.0</td>\n",
       "      <td>0.0</td>\n",
       "      <td>0.0</td>\n",
       "    </tr>\n",
       "    <tr>\n",
       "      <th>3</th>\n",
       "      <td>0.0</td>\n",
       "      <td>0.0</td>\n",
       "      <td>0.0</td>\n",
       "      <td>0.0</td>\n",
       "      <td>0.0</td>\n",
       "      <td>0.0</td>\n",
       "      <td>0.0</td>\n",
       "      <td>0.0</td>\n",
       "      <td>0.0</td>\n",
       "      <td>0.0</td>\n",
       "      <td>...</td>\n",
       "      <td>1.0</td>\n",
       "      <td>0.0</td>\n",
       "      <td>0.0</td>\n",
       "      <td>0.0</td>\n",
       "      <td>0.0</td>\n",
       "      <td>0.0</td>\n",
       "      <td>0.0</td>\n",
       "      <td>0.0</td>\n",
       "      <td>0.0</td>\n",
       "      <td>0.0</td>\n",
       "    </tr>\n",
       "    <tr>\n",
       "      <th>4</th>\n",
       "      <td>0.0</td>\n",
       "      <td>0.0</td>\n",
       "      <td>0.0</td>\n",
       "      <td>0.0</td>\n",
       "      <td>0.0</td>\n",
       "      <td>0.0</td>\n",
       "      <td>0.0</td>\n",
       "      <td>0.0</td>\n",
       "      <td>0.0</td>\n",
       "      <td>0.0</td>\n",
       "      <td>...</td>\n",
       "      <td>0.0</td>\n",
       "      <td>0.0</td>\n",
       "      <td>0.0</td>\n",
       "      <td>0.0</td>\n",
       "      <td>0.0</td>\n",
       "      <td>0.0</td>\n",
       "      <td>0.0</td>\n",
       "      <td>0.0</td>\n",
       "      <td>0.0</td>\n",
       "      <td>0.0</td>\n",
       "    </tr>\n",
       "    <tr>\n",
       "      <th>5</th>\n",
       "      <td>0.0</td>\n",
       "      <td>0.0</td>\n",
       "      <td>0.0</td>\n",
       "      <td>0.0</td>\n",
       "      <td>0.0</td>\n",
       "      <td>0.0</td>\n",
       "      <td>0.0</td>\n",
       "      <td>0.0</td>\n",
       "      <td>0.0</td>\n",
       "      <td>0.0</td>\n",
       "      <td>...</td>\n",
       "      <td>0.0</td>\n",
       "      <td>0.0</td>\n",
       "      <td>0.0</td>\n",
       "      <td>0.0</td>\n",
       "      <td>0.0</td>\n",
       "      <td>0.0</td>\n",
       "      <td>0.0</td>\n",
       "      <td>0.0</td>\n",
       "      <td>0.0</td>\n",
       "      <td>0.0</td>\n",
       "    </tr>\n",
       "  </tbody>\n",
       "</table>\n",
       "<p>5 rows × 714 columns</p>\n",
       "</div>"
      ],
      "text/plain": [
       "article_id  0.0  100.0  1000.0  1004.0  1006.0  1008.0  101.0  1014.0  1015.0  \\\n",
       "user_id                                                                         \n",
       "1           0.0    0.0     0.0     0.0     0.0     0.0    0.0     0.0     0.0   \n",
       "2           0.0    0.0     0.0     0.0     0.0     0.0    0.0     0.0     0.0   \n",
       "3           0.0    0.0     0.0     0.0     0.0     0.0    0.0     0.0     0.0   \n",
       "4           0.0    0.0     0.0     0.0     0.0     0.0    0.0     0.0     0.0   \n",
       "5           0.0    0.0     0.0     0.0     0.0     0.0    0.0     0.0     0.0   \n",
       "\n",
       "article_id  1016.0  ...  977.0  98.0  981.0  984.0  985.0  986.0  990.0  \\\n",
       "user_id             ...                                                   \n",
       "1              0.0  ...    0.0   0.0    1.0    0.0    0.0    0.0    0.0   \n",
       "2              0.0  ...    0.0   0.0    0.0    0.0    0.0    0.0    0.0   \n",
       "3              0.0  ...    1.0   0.0    0.0    0.0    0.0    0.0    0.0   \n",
       "4              0.0  ...    0.0   0.0    0.0    0.0    0.0    0.0    0.0   \n",
       "5              0.0  ...    0.0   0.0    0.0    0.0    0.0    0.0    0.0   \n",
       "\n",
       "article_id  993.0  996.0  997.0  \n",
       "user_id                          \n",
       "1             0.0    0.0    0.0  \n",
       "2             0.0    0.0    0.0  \n",
       "3             0.0    0.0    0.0  \n",
       "4             0.0    0.0    0.0  \n",
       "5             0.0    0.0    0.0  \n",
       "\n",
       "[5 rows x 714 columns]"
      ]
     },
     "execution_count": 346,
     "metadata": {},
     "output_type": "execute_result"
    }
   ],
   "source": [
    "# quick look at the matrix\n",
    "user_item_matrix.head()"
   ]
  },
  {
   "cell_type": "markdown",
   "metadata": {},
   "source": [
    "`2.` In this situation, you can use Singular Value Decomposition from [numpy](https://docs.scipy.org/doc/numpy-1.14.0/reference/generated/numpy.linalg.svd.html) on the user-item matrix.  Use the cell to perform SVD, and explain why this is different than in the lesson."
   ]
  },
  {
   "cell_type": "code",
   "execution_count": 350,
   "metadata": {},
   "outputs": [],
   "source": [
    "# Perform SVD on the User-Item Matrix Here\n",
    "\n",
    "u, s, vt = np.linalg.svd(user_item_matrix, full_matrices=True) # use the built in to get the three matrices"
   ]
  },
  {
   "cell_type": "markdown",
   "metadata": {},
   "source": [
    "**In the lesson, we had many Nans and thus could not perform SVD, which requires no missing values. In this project, we replaced Nans with zeros and SVD works without any problem.**"
   ]
  },
  {
   "cell_type": "markdown",
   "metadata": {},
   "source": [
    "`3.` Now for the tricky part, how do we choose the number of latent features to use?  Running the below cell, you can see that as the number of latent features increases, we obtain a lower error rate on making predictions for the 1 and 0 values in the user-item matrix.  Run the cell below to get an idea of how the accuracy improves as we increase the number of latent features."
   ]
  },
  {
   "cell_type": "code",
   "execution_count": 355,
   "metadata": {},
   "outputs": [
    {
     "data": {
      "image/png": "[encoded data removed]",
      "text/plain": [
       "<Figure size 432x288 with 1 Axes>"
      ]
     },
     "metadata": {
      "needs_background": "light"
     },
     "output_type": "display_data"
    }
   ],
   "source": [
    "num_latent_feats = np.arange(10,700+10,20)\n",
    "sum_errs = []\n",
    "\n",
    "for k in num_latent_feats:\n",
    "    # restructure with k latent features\n",
    "    s_new, u_new, vt_new = np.diag(s[:k]), u[:, :k], vt[:k, :]\n",
    "    \n",
    "    # take dot product\n",
    "    user_item_est = np.around(np.dot(np.dot(u_new, s_new), vt_new))\n",
    "    \n",
    "    # compute error for each prediction to actual value\n",
    "    diffs = np.subtract(user_item_matrix, user_item_est)\n",
    "    \n",
    "    # total errors and keep track of them\n",
    "    err = np.sum(np.sum(np.abs(diffs)))\n",
    "    sum_errs.append(err)\n",
    "    \n",
    "    \n",
    "plt.plot(num_latent_feats, 1 - np.array(sum_errs)/df.shape[0]);\n",
    "plt.xlabel('Number of Latent Features');\n",
    "plt.ylabel('Accuracy');\n",
    "plt.title('Accuracy vs. Number of Latent Features');"
   ]
  },
  {
   "cell_type": "markdown",
   "metadata": {},
   "source": [
    "`4.` From the above, we can't really be sure how many features to use, because simply having a better way to predict the 1's and 0's of the matrix doesn't exactly give us an indication of if we are able to make good recommendations.  Instead, we might split our dataset into a training and test set of data, as shown in the cell below.  \n",
    "\n",
    "Use the code from question 3 to understand the impact on accuracy of the training and test sets of data with different numbers of latent features. Using the split below: \n",
    "\n",
    "* How many users can we make predictions for in the test set?  \n",
    "* How many users are we not able to make predictions for because of the cold start problem?\n",
    "* How many articles can we make predictions for in the test set?  \n",
    "* How many articles are we not able to make predictions for because of the cold start problem?"
   ]
  },
  {
   "cell_type": "code",
   "execution_count": 424,
   "metadata": {},
   "outputs": [],
   "source": [
    "df.article_id = df.article_id.astype(float)\n",
    "df_train = df.head(40000)\n",
    "df_test = df.tail(5993)\n",
    "\n",
    "def create_test_and_train_user_item(df_train, df_test):\n",
    "    '''\n",
    "    INPUT:\n",
    "    df_train - training dataframe\n",
    "    df_test - test dataframe\n",
    "    \n",
    "    OUTPUT:\n",
    "    user_item_train - a user-item matrix of the training dataframe \n",
    "                      (unique users for each row and unique articles for each column)\n",
    "    user_item_test - a user-item matrix of the testing dataframe \n",
    "                    (unique users for each row and unique articles for each column)\n",
    "    test_idx - all of the test user ids\n",
    "    test_arts - all of the test article ids\n",
    "    \n",
    "    '''    \n",
    "    \n",
    "    df_train.loc[:, 'views'] = 1\n",
    "    user_item_train = df_train.groupby(['user_id', 'article_id']).views.min().unstack()\n",
    "    user_item_train.fillna(0, inplace=True)\n",
    "\n",
    "    df_test.loc[:, 'views'] = 1\n",
    "    user_item_test = df_test.groupby(['user_id', 'article_id']).views.min().unstack()\n",
    "    user_item_test.fillna(0, inplace=True)\n",
    "    \n",
    "    test_arts = df_test.article_id.unique()\n",
    "    test_idx = df_test.user_id.unique()\n",
    "   \n",
    "    return user_item_train, user_item_test, test_idx, test_arts\n",
    "\n",
    "user_item_train, user_item_test, test_idx, test_arts = create_test_and_train_user_item(df_train, df_test)"
   ]
  },
  {
   "cell_type": "code",
   "execution_count": 483,
   "metadata": {},
   "outputs": [
    {
     "name": "stdout",
     "output_type": "stream",
     "text": [
      "we can make predictions for 20 users in the test set\n",
      "we cannot make predictions for 662 users\n",
      "we can make predictions for 574 articles in the test set\n",
      "we cannot make predictions for 0 articles\n"
     ]
    }
   ],
   "source": [
    "print(f\"we can make predictions for {len(np.intersect1d(user_item_train.index, user_item_test.index))} users in the test set\")\n",
    "print(f\"we cannot make predictions for {len(np.setdiff1d(user_item_test.index, user_item_train.index))} users\")\n",
    "print(f\"we can make predictions for {len(np.intersect1d(user_item_train.columns, user_item_test.columns))} articles in the test set\")\n",
    "print(f\"we cannot make predictions for {len(np.setdiff1d(user_item_test.columns, user_item_train.columns))} articles\")"
   ]
  },
  {
   "cell_type": "code",
   "execution_count": 499,
   "metadata": {},
   "outputs": [
    {
     "ename": "KeyError",
     "evalue": "'How many movies can we make predictions for in the test set?'",
     "output_type": "error",
     "traceback": [
      "\u001b[0;31m---------------------------------------------------------------------------\u001b[0m",
      "\u001b[0;31mKeyError\u001b[0m                                  Traceback (most recent call last)",
      "\u001b[0;32m<ipython-input-499-300bad9c552b>\u001b[0m in \u001b[0;36m<module>\u001b[0;34m\u001b[0m\n\u001b[1;32m     13\u001b[0m }\n\u001b[1;32m     14\u001b[0m \u001b[0;34m\u001b[0m\u001b[0m\n\u001b[0;32m---> 15\u001b[0;31m \u001b[0mt\u001b[0m\u001b[0;34m.\u001b[0m\u001b[0msol_4_test\u001b[0m\u001b[0;34m(\u001b[0m\u001b[0msol_4_dict\u001b[0m\u001b[0;34m)\u001b[0m\u001b[0;34m\u001b[0m\u001b[0;34m\u001b[0m\u001b[0m\n\u001b[0m",
      "\u001b[0;32m~/Documents/GitHub/recommendations_IBM/project_tests.py\u001b[0m in \u001b[0;36msol_4_test\u001b[0;34m(sol_4_dict)\u001b[0m\n\u001b[1;32m     76\u001b[0m     \u001b[0;32melse\u001b[0m\u001b[0;34m:\u001b[0m\u001b[0;34m\u001b[0m\u001b[0;34m\u001b[0m\u001b[0m\n\u001b[1;32m     77\u001b[0m         \u001b[0;32mfor\u001b[0m \u001b[0mk\u001b[0m\u001b[0;34m,\u001b[0m \u001b[0mv\u001b[0m \u001b[0;32min\u001b[0m \u001b[0msol_4_dict_1\u001b[0m\u001b[0;34m.\u001b[0m\u001b[0mitems\u001b[0m\u001b[0;34m(\u001b[0m\u001b[0;34m)\u001b[0m\u001b[0;34m:\u001b[0m\u001b[0;34m\u001b[0m\u001b[0;34m\u001b[0m\u001b[0m\n\u001b[0;32m---> 78\u001b[0;31m             \u001b[0;32mif\u001b[0m \u001b[0msol_4_dict_1\u001b[0m\u001b[0;34m[\u001b[0m\u001b[0mk\u001b[0m\u001b[0;34m]\u001b[0m \u001b[0;34m!=\u001b[0m \u001b[0msol_4_dict\u001b[0m\u001b[0;34m[\u001b[0m\u001b[0mk\u001b[0m\u001b[0;34m]\u001b[0m\u001b[0;34m:\u001b[0m\u001b[0;34m\u001b[0m\u001b[0;34m\u001b[0m\u001b[0m\n\u001b[0m\u001b[1;32m     79\u001b[0m                 \u001b[0mprint\u001b[0m\u001b[0;34m(\u001b[0m\u001b[0;34m\"Sorry it looks like that isn't the right value associated with {}.  Try again.\"\u001b[0m\u001b[0;34m.\u001b[0m\u001b[0mformat\u001b[0m\u001b[0;34m(\u001b[0m\u001b[0mk\u001b[0m\u001b[0;34m)\u001b[0m\u001b[0;34m)\u001b[0m\u001b[0;34m\u001b[0m\u001b[0;34m\u001b[0m\u001b[0m\n\u001b[1;32m     80\u001b[0m \u001b[0;34m\u001b[0m\u001b[0m\n",
      "\u001b[0;31mKeyError\u001b[0m: 'How many movies can we make predictions for in the test set?'"
     ]
    }
   ],
   "source": [
    "# Replace the values in the dictionary below\n",
    "a = 662 \n",
    "b = 574\n",
    "c = 20 \n",
    "d = 0 \n",
    "\n",
    "\n",
    "sol_4_dict = {\n",
    "    'How many users can we make predictions for in the test set?':  c, \n",
    "    'How many users in the test set are we not able to make predictions for because of the cold start problem?': a, \n",
    "    'How many articles can we make predictions for in the test set?': b,\n",
    "    'How many articles in the test set are we not able to make predictions for because of the cold start problem?': d\n",
    "}\n",
    "\n",
    "t.sol_4_test(sol_4_dict)"
   ]
  },
  {
   "cell_type": "markdown",
   "metadata": {},
   "source": [
    "# FINDING MISTAKES IN sol_4_test:"
   ]
  },
  {
   "cell_type": "markdown",
   "metadata": {},
   "source": [
    "The wording in the project_tests.py doesn't match the wording proposed above in this notebook. So it is impossible to pass this test, no matter what letters (even correct ones) you put in!!!! <br>\n",
    "\n",
    "See below:"
   ]
  },
  {
   "cell_type": "markdown",
   "metadata": {},
   "source": [
    "The solution asks us in questions 3 and 4 \"How many **MOVIES** ...\":"
   ]
  },
  {
   "cell_type": "code",
   "execution_count": 488,
   "metadata": {},
   "outputs": [],
   "source": [
    "sol_4_dict_1 = {\n",
    "'How many users can we make predictions for in the test set?': c, \n",
    "'How many users in the test set are we not able to make predictions for because of the cold start problem?': a, \n",
    "'How many movies can we make predictions for in the test set?': b,\n",
    "'How many movies in the test set are we not able to make predictions for because of the cold start problem?': d\n",
    "}"
   ]
  },
  {
   "cell_type": "markdown",
   "metadata": {},
   "source": [
    "The notebook asks us in questions 3 and 4 \"How many **ARTICLES** ...\":"
   ]
  },
  {
   "cell_type": "code",
   "execution_count": 500,
   "metadata": {},
   "outputs": [],
   "source": [
    "sol_4_dict = {\n",
    "    'How many users can we make predictions for in the test set?':  c, \n",
    "    'How many users in the test set are we not able to make predictions for because of the cold start problem?': a, \n",
    "    'How many articles can we make predictions for in the test set?': b,\n",
    "    'How many articles in the test set are we not able to make predictions for because of the cold start problem?': d\n",
    "}"
   ]
  },
  {
   "cell_type": "markdown",
   "metadata": {},
   "source": [
    "`5.` Now use the **user_item_train** dataset from above to find U, S, and V transpose using SVD. Then find the subset of rows in the **user_item_test** dataset that you can predict using this matrix decomposition with different numbers of latent features to see how many features makes sense to keep based on the accuracy on the test data. This will require combining what was done in questions `2` - `4`.\n",
    "\n",
    "Use the cells below to explore how well SVD works towards making predictions for recommendations on the test data.  "
   ]
  },
  {
   "cell_type": "code",
   "execution_count": 760,
   "metadata": {},
   "outputs": [],
   "source": [
    "# fit SVD on the user_item_train matrix\n",
    "u_train, s_train, vt_train =  np.linalg.svd(user_item_train, full_matrices=True)\n",
    "# fit svd similar to above then use the cells below"
   ]
  },
  {
   "cell_type": "code",
   "execution_count": 761,
   "metadata": {},
   "outputs": [
    {
     "name": "stdout",
     "output_type": "stream",
     "text": [
      "We know that we can make predictions for 574 articles and for 20 users. Let's subset the test data\n"
     ]
    }
   ],
   "source": [
    "print(f\"We know that we can make predictions for {len(np.intersect1d(user_item_train.columns, user_item_test.columns))} articles and for {len(np.intersect1d(user_item_train.index, user_item_test.index))} users. Let's subset the test data\")"
   ]
  },
  {
   "cell_type": "code",
   "execution_count": 762,
   "metadata": {},
   "outputs": [
    {
     "name": "stdout",
     "output_type": "stream",
     "text": [
      "shape of test_subset (20, 574)\n"
     ]
    }
   ],
   "source": [
    "#we can make predictions only for these user_ids\n",
    "users_pred = np.intersect1d(user_item_train.index, user_item_test.index)\n",
    "#we can make predictions only for these articles\n",
    "article_pred = np.intersect1d(user_item_train.columns, user_item_test.columns)\n",
    "\n",
    "# filter test_subset - leave only users for whom we can make preds\n",
    "test_subset = user_item_test.loc[users_pred, article_pred]\n",
    "print(\"shape of test_subset\", test_subset.shape)"
   ]
  },
  {
   "cell_type": "code",
   "execution_count": 763,
   "metadata": {},
   "outputs": [
    {
     "name": "stdout",
     "output_type": "stream",
     "text": [
      "indices of users for whom we can make predictions [2916, 3023, 3092, 3192, 3526, 3531, 3683, 3739, 3776, 3800, 3967, 3988, 3989, 3997, 4001, 4203, 4230, 4273, 4292, 4486]\n"
     ]
    }
   ],
   "source": [
    "# find index positions for users for whom we can make predictions\n",
    "user_pred_idx = []\n",
    "train_users = df_train['user_id'].sort_values().unique()\n",
    "for user_id in users_pred:\n",
    "    user_pred_id = np.where(train_users==user_id)[0].tolist()[0]\n",
    "    user_pred_idx.append(user_pred_id)\n",
    "print(\"indices of users for whom we can make predictions\", user_pred_idx)"
   ]
  },
  {
   "cell_type": "code",
   "execution_count": 764,
   "metadata": {},
   "outputs": [
    {
     "name": "stdout",
     "output_type": "stream",
     "text": [
      "the last 10 indices of articles for which we can make predictions [702, 703, 704, 705, 706, 707, 708, 709, 710, 712]\n"
     ]
    }
   ],
   "source": [
    "# find index positions for articles for which we can make predictions\n",
    "art_pred_idx = []\n",
    "train_arts = df_train['article_id'].sort_values().unique()\n",
    "for article_id in article_pred:\n",
    "    art_pred_id = np.where(train_arts==article_id)[0].tolist()[0]\n",
    "    art_pred_idx.append(art_pred_id)\n",
    "print(\"the last 10 indices of articles for which we can make predictions\", art_pred_idx[-10:])"
   ]
  },
  {
   "cell_type": "code",
   "execution_count": 765,
   "metadata": {},
   "outputs": [
    {
     "data": {
      "image/png": "[encoded data removed]",
      "text/plain": [
       "<Figure size 432x288 with 1 Axes>"
      ]
     },
     "metadata": {
      "needs_background": "light"
     },
     "output_type": "display_data"
    }
   ],
   "source": [
    "num_latent_feats = np.arange(10,700+10,20)\n",
    "sum_errs = []\n",
    "\n",
    "for k in num_latent_feats:\n",
    "    s_new, u_new, vt_new = np.diag(s_train[:k]), u_train[:, :k], vt_train[:k, :]\n",
    "    user_item_est = np.around(np.dot(np.dot(u_new, s_new), vt_new))\n",
    "    \n",
    "    #filter user_item_est to include only users and articles for whom/which we can make predictions\n",
    "    user_item_est_filt = user_item_est[user_pred_idx, :][:, art_pred_idx]\n",
    "    # compute error for each prediction to actual value\n",
    "    diffs = np.subtract(test_subset, user_item_est_filt)\n",
    "    # total errors and keep track of them\n",
    "    err = np.sum(np.sum(np.abs(diffs)))\n",
    "    sum_errs.append(err)\n",
    "\n",
    "plt.plot(num_latent_feats, 1 - np.array(sum_errs)/df_train.shape[0]);\n",
    "plt.xlabel('Number of Latent Features');\n",
    "plt.ylabel('Accuracy');\n",
    "plt.title('Accuracy vs. Number of Latent Features');"
   ]
  },
  {
   "cell_type": "code",
   "execution_count": 769,
   "metadata": {},
   "outputs": [],
   "source": [
    "def predict_interaction(user_id, article_id, k=400):\n",
    "    '''\n",
    "    INPUT:\n",
    "    user_id - the user_id from the df_test\n",
    "    article_id - the article_id according the df_test\n",
    "    \n",
    "    OUTPUT:\n",
    "    pred - the predicted rating for user_id-article_id according to SVD\n",
    "    '''\n",
    "    # Use the training data to create a series of users and articles that matches the ordering in training data\n",
    "        #serious mistake to avoid - i didn't sort_values in the first attempt, so the location was mismatched. \n",
    "        #we actually created user-by-movie matrix train_data_df that is the base for our ratings_mat \n",
    "        # so either sort_values on train_df\n",
    "        # or use train_data_df.index and train_data_df.columns as in the solution\n",
    "        \n",
    "    train_users = df_train['user_id'].sort_values().unique()\n",
    "    train_arts = df_train['article_id'].sort_values().unique()\n",
    "        \n",
    "    # User row and article column\n",
    "    n = np.where(train_users==user_id)[0]\n",
    "    m = np.where(train_arts==article_id)[0]\n",
    "    \n",
    "    s_new, u_new, vt_new = np.diag(s_train[:k]), u_train[:, :k], vt_train[:k, :]\n",
    "    \n",
    "    # Take dot product of that row and column in U and V to make prediction\n",
    "    pred = np.dot(np.dot(u_new[n, :], s_new), vt_new[:, m])[0][0]\n",
    "   \n",
    "    return pred"
   ]
  },
  {
   "cell_type": "markdown",
   "metadata": {},
   "source": [
    "Let's see how well we can predict 1s:"
   ]
  },
  {
   "cell_type": "code",
   "execution_count": 770,
   "metadata": {},
   "outputs": [
    {
     "name": "stdout",
     "output_type": "stream",
     "text": [
      "there are 218 values that equal 1 in test_subset, i.e. users for whom we can make predictions in the test set\n",
      "these corresponds to 1.9% of the test subset\n"
     ]
    }
   ],
   "source": [
    "#filter test_subset to have only values that equal 1\n",
    "subset_1s = []\n",
    "for user in test_subset.index:\n",
    "    for article in test_subset.columns:\n",
    "        if test_subset.loc[user, article] == 1:\n",
    "            subset_1s.append((user, article))\n",
    "            \n",
    "print(f\"there are {len(subset_1s)} values that equal 1 in test_subset, i.e. users for whom we can make predictions in the test set\")\n",
    "print(f\"these corresponds to {round(len(subset_1s)/test_subset.size*100, 2)}% of the test subset\")"
   ]
  },
  {
   "cell_type": "code",
   "execution_count": 772,
   "metadata": {},
   "outputs": [
    {
     "name": "stdout",
     "output_type": "stream",
     "text": [
      "user \t\t article \t actual \t predicted\n",
      "2917 \t\t  647 \t\t 1 \t\t 0.0\n",
      "2917 \t\t  965 \t\t 1 \t\t 0.0\n",
      "3024 \t\t   12 \t\t 1 \t\t 0.0\n",
      "3024 \t\t   43 \t\t 1 \t\t 1.0\n",
      "3024 \t\t   74 \t\t 1 \t\t 0.0\n",
      "3024 \t\t  194 \t\t 1 \t\t 0.0\n",
      "3024 \t\t  241 \t\t 1 \t\t 0.0\n",
      "3024 \t\t  316 \t\t 1 \t\t 0.0\n",
      "3024 \t\t 1351 \t\t 1 \t\t 0.0\n",
      "3093 \t\t  151 \t\t 1 \t\t 0.0\n",
      "3093 \t\t  194 \t\t 1 \t\t 0.0\n",
      "3093 \t\t  957 \t\t 1 \t\t 0.0\n",
      "3093 \t\t 1017 \t\t 1 \t\t 1.0\n",
      "3093 \t\t 1436 \t\t 1 \t\t 0.0\n",
      "3193 \t\t  362 \t\t 1 \t\t 0.0\n",
      "3193 \t\t  939 \t\t 1 \t\t 0.0\n",
      "3193 \t\t 1051 \t\t 1 \t\t 0.0\n",
      "3193 \t\t 1410 \t\t 1 \t\t 0.0\n",
      "3193 \t\t 1427 \t\t 1 \t\t 0.0\n",
      "3527 \t\t  109 \t\t 1 \t\t 0.0\n",
      "3532 \t\t   12 \t\t 1 \t\t 0.0\n",
      "3532 \t\t   43 \t\t 1 \t\t 1.0\n",
      "3532 \t\t   50 \t\t 1 \t\t 0.0\n",
      "3532 \t\t  116 \t\t 1 \t\t 0.0\n",
      "3532 \t\t  130 \t\t 1 \t\t 0.0\n",
      "3532 \t\t  131 \t\t 1 \t\t 0.0\n",
      "3532 \t\t  278 \t\t 1 \t\t 0.0\n",
      "3532 \t\t  297 \t\t 1 \t\t 0.0\n",
      "3532 \t\t  310 \t\t 1 \t\t 0.0\n",
      "3532 \t\t  323 \t\t 1 \t\t 0.0\n",
      "3532 \t\t  409 \t\t 1 \t\t 0.0\n",
      "3532 \t\t  415 \t\t 1 \t\t 0.0\n",
      "3532 \t\t  482 \t\t 1 \t\t 0.0\n",
      "3532 \t\t  695 \t\t 1 \t\t 0.0\n",
      "3532 \t\t  844 \t\t 1 \t\t 0.0\n",
      "3532 \t\t  898 \t\t 1 \t\t 0.0\n",
      "3532 \t\t  981 \t\t 1 \t\t 0.0\n",
      "3532 \t\t 1024 \t\t 1 \t\t 0.0\n",
      "3532 \t\t 1051 \t\t 1 \t\t 0.0\n",
      "3532 \t\t 1052 \t\t 1 \t\t 0.0\n",
      "3532 \t\t 1174 \t\t 1 \t\t 0.0\n",
      "3532 \t\t 1186 \t\t 1 \t\t 0.0\n",
      "3532 \t\t 1276 \t\t 1 \t\t 0.0\n",
      "3532 \t\t 1289 \t\t 1 \t\t 0.0\n",
      "3532 \t\t 1338 \t\t 1 \t\t 0.0\n",
      "3532 \t\t 1358 \t\t 1 \t\t 0.0\n",
      "3532 \t\t 1364 \t\t 1 \t\t 0.0\n",
      "3532 \t\t 1396 \t\t 1 \t\t 0.0\n",
      "3532 \t\t 1420 \t\t 1 \t\t 0.0\n",
      "3532 \t\t 1424 \t\t 1 \t\t 0.0\n",
      "3532 \t\t 1427 \t\t 1 \t\t 0.0\n",
      "3532 \t\t 1436 \t\t 1 \t\t 1.0\n",
      "3684 \t\t   68 \t\t 1 \t\t 0.0\n",
      "3684 \t\t  314 \t\t 1 \t\t 0.0\n",
      "3684 \t\t  977 \t\t 1 \t\t 1.0\n",
      "3740 \t\t   12 \t\t 1 \t\t 0.0\n",
      "3740 \t\t   28 \t\t 1 \t\t 0.0\n",
      "3740 \t\t   53 \t\t 1 \t\t 0.0\n",
      "3740 \t\t   57 \t\t 1 \t\t 0.0\n",
      "3740 \t\t  102 \t\t 1 \t\t 0.0\n",
      "3740 \t\t  108 \t\t 1 \t\t 0.0\n",
      "3740 \t\t  110 \t\t 1 \t\t 0.0\n",
      "3740 \t\t  193 \t\t 1 \t\t 0.0\n",
      "3740 \t\t  221 \t\t 1 \t\t 0.0\n",
      "3740 \t\t  223 \t\t 1 \t\t 0.0\n",
      "3740 \t\t  236 \t\t 1 \t\t 0.0\n",
      "3740 \t\t  302 \t\t 1 \t\t 0.0\n",
      "3740 \t\t  362 \t\t 1 \t\t 0.0\n",
      "3740 \t\t  412 \t\t 1 \t\t 0.1\n",
      "3740 \t\t  427 \t\t 1 \t\t 0.0\n",
      "3740 \t\t  464 \t\t 1 \t\t 0.0\n",
      "3740 \t\t  475 \t\t 1 \t\t 0.0\n",
      "3740 \t\t  553 \t\t 1 \t\t 0.1\n",
      "3740 \t\t  607 \t\t 1 \t\t 0.0\n",
      "3740 \t\t  609 \t\t 1 \t\t 0.0\n",
      "3740 \t\t  616 \t\t 1 \t\t 0.0\n",
      "3740 \t\t  618 \t\t 1 \t\t 0.0\n",
      "3740 \t\t  665 \t\t 1 \t\t 0.0\n",
      "3740 \t\t  680 \t\t 1 \t\t 0.0\n",
      "3740 \t\t  681 \t\t 1 \t\t 0.0\n",
      "3740 \t\t  682 \t\t 1 \t\t 0.0\n",
      "3740 \t\t  695 \t\t 1 \t\t 0.0\n",
      "3740 \t\t  732 \t\t 1 \t\t 0.0\n",
      "3740 \t\t  903 \t\t 1 \t\t 0.0\n",
      "3740 \t\t  943 \t\t 1 \t\t 0.0\n",
      "3740 \t\t  969 \t\t 1 \t\t 1.0\n",
      "3740 \t\t 1047 \t\t 1 \t\t 0.0\n",
      "3740 \t\t 1162 \t\t 1 \t\t 1.0\n",
      "3740 \t\t 1163 \t\t 1 \t\t 0.0\n",
      "3740 \t\t 1166 \t\t 1 \t\t 0.0\n",
      "3740 \t\t 1171 \t\t 1 \t\t 0.0\n",
      "3740 \t\t 1172 \t\t 1 \t\t 0.0\n",
      "3740 \t\t 1271 \t\t 1 \t\t 0.0\n",
      "3740 \t\t 1304 \t\t 1 \t\t 0.0\n",
      "3740 \t\t 1305 \t\t 1 \t\t 1.0\n",
      "3740 \t\t 1307 \t\t 1 \t\t 0.1\n",
      "3740 \t\t 1314 \t\t 1 \t\t 0.0\n",
      "3740 \t\t 1317 \t\t 1 \t\t 1.0\n",
      "3740 \t\t 1338 \t\t 1 \t\t 0.0\n",
      "3740 \t\t 1354 \t\t 1 \t\t 0.0\n",
      "3740 \t\t 1364 \t\t 1 \t\t 0.0\n",
      "3740 \t\t 1367 \t\t 1 \t\t 0.0\n",
      "3740 \t\t 1368 \t\t 1 \t\t 0.0\n",
      "3740 \t\t 1405 \t\t 1 \t\t 0.0\n",
      "3740 \t\t 1409 \t\t 1 \t\t 0.0\n",
      "3740 \t\t 1420 \t\t 1 \t\t 0.0\n",
      "3740 \t\t 1423 \t\t 1 \t\t 0.0\n",
      "3740 \t\t 1427 \t\t 1 \t\t 0.0\n",
      "3740 \t\t 1430 \t\t 1 \t\t 0.0\n",
      "3740 \t\t 1436 \t\t 1 \t\t 1.0\n",
      "3777 \t\t  254 \t\t 1 \t\t 0.0\n",
      "3801 \t\t   12 \t\t 1 \t\t 1.0\n",
      "3801 \t\t   43 \t\t 1 \t\t 0.0\n",
      "3801 \t\t  111 \t\t 1 \t\t 0.0\n",
      "3801 \t\t  124 \t\t 1 \t\t 0.0\n",
      "3801 \t\t  193 \t\t 1 \t\t 0.0\n",
      "3801 \t\t  464 \t\t 1 \t\t 0.0\n",
      "3801 \t\t  655 \t\t 1 \t\t 0.0\n",
      "3801 \t\t  732 \t\t 1 \t\t 0.0\n",
      "3801 \t\t  788 \t\t 1 \t\t 0.0\n",
      "3801 \t\t 1017 \t\t 1 \t\t 0.0\n",
      "3801 \t\t 1160 \t\t 1 \t\t 0.0\n",
      "3801 \t\t 1162 \t\t 1 \t\t 0.0\n",
      "3801 \t\t 1165 \t\t 1 \t\t 0.0\n",
      "3801 \t\t 1166 \t\t 1 \t\t 1.0\n",
      "3801 \t\t 1176 \t\t 1 \t\t 0.0\n",
      "3801 \t\t 1271 \t\t 1 \t\t 0.0\n",
      "3801 \t\t 1296 \t\t 1 \t\t 0.0\n",
      "3801 \t\t 1314 \t\t 1 \t\t 1.0\n",
      "3801 \t\t 1320 \t\t 1 \t\t 0.0\n",
      "3801 \t\t 1338 \t\t 1 \t\t 0.0\n",
      "3801 \t\t 1351 \t\t 1 \t\t 0.0\n",
      "3801 \t\t 1354 \t\t 1 \t\t 1.0\n",
      "3801 \t\t 1357 \t\t 1 \t\t 0.0\n",
      "3801 \t\t 1367 \t\t 1 \t\t 0.0\n",
      "3801 \t\t 1400 \t\t 1 \t\t 0.0\n",
      "3801 \t\t 1405 \t\t 1 \t\t 0.0\n",
      "3968 \t\t   43 \t\t 1 \t\t 0.0\n",
      "3968 \t\t  268 \t\t 1 \t\t 0.0\n",
      "3968 \t\t  348 \t\t 1 \t\t 0.0\n",
      "3968 \t\t  684 \t\t 1 \t\t 0.0\n",
      "3968 \t\t  996 \t\t 1 \t\t 0.0\n",
      "3968 \t\t 1018 \t\t 1 \t\t 0.0\n",
      "3968 \t\t 1314 \t\t 1 \t\t 1.0\n",
      "3968 \t\t 1429 \t\t 1 \t\t 0.0\n",
      "3989 \t\t  277 \t\t 1 \t\t 0.0\n",
      "3990 \t\t  297 \t\t 1 \t\t 0.0\n",
      "3998 \t\t   78 \t\t 1 \t\t 0.0\n",
      "3998 \t\t  221 \t\t 1 \t\t 0.0\n",
      "3998 \t\t 1014 \t\t 1 \t\t 0.0\n",
      "3998 \t\t 1025 \t\t 1 \t\t 0.0\n",
      "3998 \t\t 1186 \t\t 1 \t\t 0.0\n",
      "3998 \t\t 1351 \t\t 1 \t\t 0.0\n",
      "3998 \t\t 1354 \t\t 1 \t\t 0.0\n",
      "3998 \t\t 1394 \t\t 1 \t\t 0.0\n",
      "4002 \t\t  116 \t\t 1 \t\t 1.0\n",
      "4002 \t\t  310 \t\t 1 \t\t 0.0\n",
      "4002 \t\t  390 \t\t 1 \t\t 0.0\n",
      "4002 \t\t  409 \t\t 1 \t\t 0.0\n",
      "4002 \t\t  645 \t\t 1 \t\t 0.0\n",
      "4002 \t\t  898 \t\t 1 \t\t 0.0\n",
      "4002 \t\t 1006 \t\t 1 \t\t 0.0\n",
      "4002 \t\t 1298 \t\t 1 \t\t 0.0\n",
      "4002 \t\t 1368 \t\t 1 \t\t 0.0\n",
      "4002 \t\t 1427 \t\t 1 \t\t 0.0\n",
      "4204 \t\t  990 \t\t 1 \t\t 0.0\n",
      "4204 \t\t 1336 \t\t 1 \t\t 0.0\n",
      "4231 \t\t   43 \t\t 1 \t\t 1.0\n",
      "4231 \t\t   58 \t\t 1 \t\t 0.0\n",
      "4231 \t\t   78 \t\t 1 \t\t 0.0\n",
      "4231 \t\t  102 \t\t 1 \t\t 0.0\n",
      "4231 \t\t  244 \t\t 1 \t\t 0.0\n",
      "4231 \t\t  444 \t\t 1 \t\t 0.0\n",
      "4231 \t\t  667 \t\t 1 \t\t 0.0\n",
      "4231 \t\t  681 \t\t 1 \t\t 0.0\n",
      "4231 \t\t  969 \t\t 1 \t\t 0.0\n",
      "4231 \t\t 1018 \t\t 1 \t\t 0.0\n",
      "4231 \t\t 1189 \t\t 1 \t\t 0.0\n",
      "4231 \t\t 1324 \t\t 1 \t\t 0.0\n",
      "4231 \t\t 1398 \t\t 1 \t\t 1.0\n",
      "4231 \t\t 1403 \t\t 1 \t\t 0.0\n",
      "4231 \t\t 1431 \t\t 1 \t\t 0.0\n",
      "4231 \t\t 1436 \t\t 1 \t\t 0.0\n",
      "4274 \t\t  236 \t\t 1 \t\t 0.0\n",
      "4274 \t\t  314 \t\t 1 \t\t 0.0\n",
      "4274 \t\t 1282 \t\t 1 \t\t 0.0\n",
      "4274 \t\t 1364 \t\t 1 \t\t 1.0\n",
      "4274 \t\t 1416 \t\t 1 \t\t 0.0\n",
      "4293 \t\t   36 \t\t 1 \t\t 0.0\n",
      "4293 \t\t  260 \t\t 1 \t\t 0.0\n",
      "4293 \t\t  477 \t\t 1 \t\t 0.0\n",
      "4293 \t\t  499 \t\t 1 \t\t 0.2\n",
      "4293 \t\t  622 \t\t 1 \t\t 0.1\n",
      "4293 \t\t  795 \t\t 1 \t\t 0.0\n",
      "4293 \t\t  882 \t\t 1 \t\t 0.1\n",
      "4293 \t\t  903 \t\t 1 \t\t 0.0\n",
      "4293 \t\t  965 \t\t 1 \t\t 0.0\n",
      "4293 \t\t 1164 \t\t 1 \t\t 1.0\n",
      "4293 \t\t 1166 \t\t 1 \t\t 0.0\n",
      "4293 \t\t 1170 \t\t 1 \t\t 0.0\n",
      "4293 \t\t 1274 \t\t 1 \t\t 1.0\n",
      "4293 \t\t 1282 \t\t 1 \t\t 1.0\n",
      "4293 \t\t 1305 \t\t 1 \t\t 0.0\n",
      "4293 \t\t 1317 \t\t 1 \t\t 0.0\n",
      "4293 \t\t 1330 \t\t 1 \t\t 1.0\n",
      "4293 \t\t 1336 \t\t 1 \t\t 0.0\n",
      "4293 \t\t 1343 \t\t 1 \t\t 0.0\n",
      "4293 \t\t 1350 \t\t 1 \t\t 0.0\n",
      "4293 \t\t 1354 \t\t 1 \t\t 1.0\n",
      "4293 \t\t 1364 \t\t 1 \t\t 0.0\n",
      "4293 \t\t 1391 \t\t 1 \t\t 0.0\n",
      "4293 \t\t 1395 \t\t 1 \t\t 0.0\n",
      "4293 \t\t 1431 \t\t 1 \t\t 1.0\n",
      "4293 \t\t 1436 \t\t 1 \t\t 1.0\n",
      "4487 \t\t 1053 \t\t 1 \t\t 0.0\n",
      "4487 \t\t 1176 \t\t 1 \t\t 0.0\n",
      "4487 \t\t 1314 \t\t 1 \t\t 1.0\n",
      "4487 \t\t 1424 \t\t 1 \t\t 0.0\n"
     ]
    }
   ],
   "source": [
    "#let's validate how well we can predict 1s:\n",
    "print(\"user \\t\\t article \\t actual \\t predicted\")\n",
    "actual = np.ones((len(subset_1s), 1), dtype=int)[0][0]\n",
    "for tup in subset_1s:\n",
    "    user = tup[0]\n",
    "    article = tup[1]\n",
    "    pred = predict_interaction(user, article, k=500)\n",
    "    print(f\"{user:4d} \\t\\t {int(article):4d} \\t\\t {actual:1d} \\t\\t {np.abs(pred):.01f}\")"
   ]
  },
  {
   "cell_type": "markdown",
   "metadata": {
    "collapsed": true
   },
   "source": [
    "`6.` Use the cell below to comment on the results you found in the previous question. Given the circumstances of your results, discuss what you might do to determine if the recommendations you make with any of the above recommendation systems are an improvement to how users currently find articles? "
   ]
  },
  {
   "cell_type": "markdown",
   "metadata": {},
   "source": [
    "**We made predictions on user-articles interactions using SVD approach, where 0s meant no iteractions and 1s meant an interaction. Because of our test and train sets overlapped only for 20 users and 574 articles, we had to limit our original test to the matrix of these values. The predicted accuracy turned out to be extremely high (over 0.99). But when we actually looked how predictions were made for positive instance (i.e. 1s or interactions), it turned out that we're mostly mispredict them. <br>\n",
    "Thus we encountered the well known class imbalance problem here. Given a highly class imbalances in our dataset (only 1.9% of values in test subset were 1s), it makes sense to predict 0s and we'll be correct most of the time. So we can't really rely on high accuracy scores and need to deal with class imbalance problem first. <br>\n",
    "Another possible solution is to try FunkSVD approach which is based on gradient descent and unlike classical SVD approach can handle Nans. So we might not need to recode our data and try as well working with the original number of user-article iteractions (instead of 0s and 1s). "
   ]
  },
  {
   "cell_type": "code",
   "execution_count": null,
   "metadata": {},
   "outputs": [],
   "source": [
    "from subprocess import call\n",
    "call(['python', '-m', 'nbconvert', 'Recommendations_with_IBM.ipynb'])"
   ]
  }
 ],
 "metadata": {
  "kernelspec": {
   "display_name": "Python 3",
   "language": "python",
   "name": "python3"
  },
  "language_info": {
   "codemirror_mode": {
    "name": "ipython",
    "version": 3
   },
   "file_extension": ".py",
   "mimetype": "text/x-python",
   "name": "python",
   "nbconvert_exporter": "python",
   "pygments_lexer": "ipython3",
   "version": "3.7.3"
  }
 },
 "nbformat": 4,
 "nbformat_minor": 2
}
