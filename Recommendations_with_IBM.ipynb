{
 "cells": [
  {
   "cell_type": "markdown",
   "metadata": {},
   "source": [
    "# Recommendations with IBM\n",
    "\n",
    "\n",
    "## Table of Contents\n",
    "\n",
    "I. [Exploratory Data Analysis](#Exploratory-Data-Analysis)<br>\n",
    "II. [Rank Based Recommendations](#Rank)<br>\n",
    "III. [User-User Based Collaborative Filtering](#User-User)<br>\n",
    "IV. [Content Based Recommendations (EXTRA - NOT REQUIRED)](#Content-Recs)<br>\n",
    "V. [Matrix Factorization](#Matrix-Fact)<br>\n",
    "VI. [Extras & Concluding](#conclusions)\n"
   ]
  },
  {
   "cell_type": "code",
   "execution_count": 1,
   "metadata": {},
   "outputs": [
    {
     "data": {
      "text/html": [
       "<div>\n",
       "<style scoped>\n",
       "    .dataframe tbody tr th:only-of-type {\n",
       "        vertical-align: middle;\n",
       "    }\n",
       "\n",
       "    .dataframe tbody tr th {\n",
       "        vertical-align: top;\n",
       "    }\n",
       "\n",
       "    .dataframe thead th {\n",
       "        text-align: right;\n",
       "    }\n",
       "</style>\n",
       "<table border=\"1\" class=\"dataframe\">\n",
       "  <thead>\n",
       "    <tr style=\"text-align: right;\">\n",
       "      <th></th>\n",
       "      <th>article_id</th>\n",
       "      <th>title</th>\n",
       "      <th>email</th>\n",
       "    </tr>\n",
       "  </thead>\n",
       "  <tbody>\n",
       "    <tr>\n",
       "      <th>0</th>\n",
       "      <td>1430.0</td>\n",
       "      <td>using pixiedust for fast, flexible, and easier...</td>\n",
       "      <td>ef5f11f77ba020cd36e1105a00ab868bbdbf7fe7</td>\n",
       "    </tr>\n",
       "    <tr>\n",
       "      <th>1</th>\n",
       "      <td>1314.0</td>\n",
       "      <td>healthcare python streaming application demo</td>\n",
       "      <td>083cbdfa93c8444beaa4c5f5e0f5f9198e4f9e0b</td>\n",
       "    </tr>\n",
       "    <tr>\n",
       "      <th>2</th>\n",
       "      <td>1429.0</td>\n",
       "      <td>use deep learning for image classification</td>\n",
       "      <td>b96a4f2e92d8572034b1e9b28f9ac673765cd074</td>\n",
       "    </tr>\n",
       "    <tr>\n",
       "      <th>3</th>\n",
       "      <td>1338.0</td>\n",
       "      <td>ml optimization using cognitive assistant</td>\n",
       "      <td>06485706b34a5c9bf2a0ecdac41daf7e7654ceb7</td>\n",
       "    </tr>\n",
       "    <tr>\n",
       "      <th>4</th>\n",
       "      <td>1276.0</td>\n",
       "      <td>deploy your python model as a restful api</td>\n",
       "      <td>f01220c46fc92c6e6b161b1849de11faacd7ccb2</td>\n",
       "    </tr>\n",
       "  </tbody>\n",
       "</table>\n",
       "</div>"
      ],
      "text/plain": [
       "   article_id                                              title  \\\n",
       "0      1430.0  using pixiedust for fast, flexible, and easier...   \n",
       "1      1314.0       healthcare python streaming application demo   \n",
       "2      1429.0         use deep learning for image classification   \n",
       "3      1338.0          ml optimization using cognitive assistant   \n",
       "4      1276.0          deploy your python model as a restful api   \n",
       "\n",
       "                                      email  \n",
       "0  ef5f11f77ba020cd36e1105a00ab868bbdbf7fe7  \n",
       "1  083cbdfa93c8444beaa4c5f5e0f5f9198e4f9e0b  \n",
       "2  b96a4f2e92d8572034b1e9b28f9ac673765cd074  \n",
       "3  06485706b34a5c9bf2a0ecdac41daf7e7654ceb7  \n",
       "4  f01220c46fc92c6e6b161b1849de11faacd7ccb2  "
      ]
     },
     "execution_count": 1,
     "metadata": {},
     "output_type": "execute_result"
    }
   ],
   "source": [
    "import pandas as pd\n",
    "import numpy as np\n",
    "import matplotlib.pyplot as plt\n",
    "import project_tests as t\n",
    "import pickle\n",
    "\n",
    "%matplotlib inline\n",
    "\n",
    "df = pd.read_csv('data/user-item-interactions.csv')\n",
    "\n",
    "df_content = pd.read_csv('data/articles_community.csv')\n",
    "del df['Unnamed: 0']\n",
    "del df_content['Unnamed: 0']\n",
    "\n",
    "# Show df to get an idea of the data\n",
    "df.head()"
   ]
  },
  {
   "cell_type": "code",
   "execution_count": 2,
   "metadata": {},
   "outputs": [
    {
     "data": {
      "text/html": [
       "<div>\n",
       "<style scoped>\n",
       "    .dataframe tbody tr th:only-of-type {\n",
       "        vertical-align: middle;\n",
       "    }\n",
       "\n",
       "    .dataframe tbody tr th {\n",
       "        vertical-align: top;\n",
       "    }\n",
       "\n",
       "    .dataframe thead th {\n",
       "        text-align: right;\n",
       "    }\n",
       "</style>\n",
       "<table border=\"1\" class=\"dataframe\">\n",
       "  <thead>\n",
       "    <tr style=\"text-align: right;\">\n",
       "      <th></th>\n",
       "      <th>doc_body</th>\n",
       "      <th>doc_description</th>\n",
       "      <th>doc_full_name</th>\n",
       "      <th>doc_status</th>\n",
       "      <th>article_id</th>\n",
       "    </tr>\n",
       "  </thead>\n",
       "  <tbody>\n",
       "    <tr>\n",
       "      <th>0</th>\n",
       "      <td>Skip navigation Sign in SearchLoading...\\r\\n\\r...</td>\n",
       "      <td>Detect bad readings in real time using Python ...</td>\n",
       "      <td>Detect Malfunctioning IoT Sensors with Streami...</td>\n",
       "      <td>Live</td>\n",
       "      <td>0</td>\n",
       "    </tr>\n",
       "    <tr>\n",
       "      <th>1</th>\n",
       "      <td>No Free Hunch Navigation * kaggle.com\\r\\n\\r\\n ...</td>\n",
       "      <td>See the forest, see the trees. Here lies the c...</td>\n",
       "      <td>Communicating data science: A guide to present...</td>\n",
       "      <td>Live</td>\n",
       "      <td>1</td>\n",
       "    </tr>\n",
       "    <tr>\n",
       "      <th>2</th>\n",
       "      <td>☰ * Login\\r\\n * Sign Up\\r\\n\\r\\n * Learning Pat...</td>\n",
       "      <td>Here’s this week’s news in Data Science and Bi...</td>\n",
       "      <td>This Week in Data Science (April 18, 2017)</td>\n",
       "      <td>Live</td>\n",
       "      <td>2</td>\n",
       "    </tr>\n",
       "    <tr>\n",
       "      <th>3</th>\n",
       "      <td>DATALAYER: HIGH THROUGHPUT, LOW LATENCY AT SCA...</td>\n",
       "      <td>Learn how distributed DBs solve the problem of...</td>\n",
       "      <td>DataLayer Conference: Boost the performance of...</td>\n",
       "      <td>Live</td>\n",
       "      <td>3</td>\n",
       "    </tr>\n",
       "    <tr>\n",
       "      <th>4</th>\n",
       "      <td>Skip navigation Sign in SearchLoading...\\r\\n\\r...</td>\n",
       "      <td>This video demonstrates the power of IBM DataS...</td>\n",
       "      <td>Analyze NY Restaurant data using Spark in DSX</td>\n",
       "      <td>Live</td>\n",
       "      <td>4</td>\n",
       "    </tr>\n",
       "  </tbody>\n",
       "</table>\n",
       "</div>"
      ],
      "text/plain": [
       "                                            doc_body  \\\n",
       "0  Skip navigation Sign in SearchLoading...\\r\\n\\r...   \n",
       "1  No Free Hunch Navigation * kaggle.com\\r\\n\\r\\n ...   \n",
       "2  ☰ * Login\\r\\n * Sign Up\\r\\n\\r\\n * Learning Pat...   \n",
       "3  DATALAYER: HIGH THROUGHPUT, LOW LATENCY AT SCA...   \n",
       "4  Skip navigation Sign in SearchLoading...\\r\\n\\r...   \n",
       "\n",
       "                                     doc_description  \\\n",
       "0  Detect bad readings in real time using Python ...   \n",
       "1  See the forest, see the trees. Here lies the c...   \n",
       "2  Here’s this week’s news in Data Science and Bi...   \n",
       "3  Learn how distributed DBs solve the problem of...   \n",
       "4  This video demonstrates the power of IBM DataS...   \n",
       "\n",
       "                                       doc_full_name doc_status  article_id  \n",
       "0  Detect Malfunctioning IoT Sensors with Streami...       Live           0  \n",
       "1  Communicating data science: A guide to present...       Live           1  \n",
       "2         This Week in Data Science (April 18, 2017)       Live           2  \n",
       "3  DataLayer Conference: Boost the performance of...       Live           3  \n",
       "4      Analyze NY Restaurant data using Spark in DSX       Live           4  "
      ]
     },
     "execution_count": 2,
     "metadata": {},
     "output_type": "execute_result"
    }
   ],
   "source": [
    "# Show df_content to get an idea of the data\n",
    "df_content.head()"
   ]
  },
  {
   "cell_type": "markdown",
   "metadata": {},
   "source": [
    "### <a class=\"anchor\" id=\"Exploratory-Data-Analysis\">Part I : Exploratory Data Analysis</a>\n",
    "\n",
    "Use the dictionary and cells below to provide some insight into the descriptive statistics of the data.\n",
    "\n",
    "`1.` What is the distribution of how many articles a user interacts with in the dataset?  Provide a visual and descriptive statistics to assist with giving a look at the number of times each user interacts with an article.  "
   ]
  },
  {
   "cell_type": "code",
   "execution_count": 3,
   "metadata": {},
   "outputs": [
    {
     "data": {
      "text/html": [
       "<div>\n",
       "<style scoped>\n",
       "    .dataframe tbody tr th:only-of-type {\n",
       "        vertical-align: middle;\n",
       "    }\n",
       "\n",
       "    .dataframe tbody tr th {\n",
       "        vertical-align: top;\n",
       "    }\n",
       "\n",
       "    .dataframe thead th {\n",
       "        text-align: right;\n",
       "    }\n",
       "</style>\n",
       "<table border=\"1\" class=\"dataframe\">\n",
       "  <thead>\n",
       "    <tr style=\"text-align: right;\">\n",
       "      <th></th>\n",
       "      <th>email</th>\n",
       "    </tr>\n",
       "  </thead>\n",
       "  <tbody>\n",
       "    <tr>\n",
       "      <th>count</th>\n",
       "      <td>5148.000000</td>\n",
       "    </tr>\n",
       "    <tr>\n",
       "      <th>mean</th>\n",
       "      <td>8.930847</td>\n",
       "    </tr>\n",
       "    <tr>\n",
       "      <th>std</th>\n",
       "      <td>16.802267</td>\n",
       "    </tr>\n",
       "    <tr>\n",
       "      <th>min</th>\n",
       "      <td>1.000000</td>\n",
       "    </tr>\n",
       "    <tr>\n",
       "      <th>25%</th>\n",
       "      <td>1.000000</td>\n",
       "    </tr>\n",
       "    <tr>\n",
       "      <th>50%</th>\n",
       "      <td>3.000000</td>\n",
       "    </tr>\n",
       "    <tr>\n",
       "      <th>75%</th>\n",
       "      <td>9.000000</td>\n",
       "    </tr>\n",
       "    <tr>\n",
       "      <th>max</th>\n",
       "      <td>364.000000</td>\n",
       "    </tr>\n",
       "  </tbody>\n",
       "</table>\n",
       "</div>"
      ],
      "text/plain": [
       "             email\n",
       "count  5148.000000\n",
       "mean      8.930847\n",
       "std      16.802267\n",
       "min       1.000000\n",
       "25%       1.000000\n",
       "50%       3.000000\n",
       "75%       9.000000\n",
       "max     364.000000"
      ]
     },
     "execution_count": 3,
     "metadata": {},
     "output_type": "execute_result"
    }
   ],
   "source": [
    "# how many articles the user interacts with on average?\n",
    "user_article_interactions = df.email.value_counts()\n",
    "pd.DataFrame(user_article_interactions.describe())"
   ]
  },
  {
   "cell_type": "code",
   "execution_count": 4,
   "metadata": {},
   "outputs": [
    {
     "data": {
      "image/png": "[encoded data removed]",
      "text/plain": [
       "<Figure size 432x288 with 1 Axes>"
      ]
     },
     "metadata": {
      "needs_background": "light"
     },
     "output_type": "display_data"
    }
   ],
   "source": [
    "bins = range(0, user_article_interactions.max()+10, 10)\n",
    "plt.hist(user_article_interactions, bins=bins);\n",
    "plt.xlabel(\"Number of Interactions\")\n",
    "plt.ylabel(\"Number of Articles\")\n",
    "plt.title('Distribution of User-Article Interactions');"
   ]
  },
  {
   "cell_type": "code",
   "execution_count": 5,
   "metadata": {},
   "outputs": [
    {
     "name": "stdout",
     "output_type": "stream",
     "text": [
      "50% of individuals interact with 3 number of articles or fewer\n",
      "The maximum number of user-article interactions by any 1 user is 364\n"
     ]
    }
   ],
   "source": [
    "# Fill in the median and maximum number of user_article interactios below\n",
    "median_val = round(df.email.value_counts().median())\n",
    "max_views_by_user = df.email.value_counts()[0]\n",
    "\n",
    "print(f\"50% of individuals interact with {median_val} number of articles or fewer\")\n",
    "print(f\"The maximum number of user-article interactions by any 1 user is {max_views_by_user}\")"
   ]
  },
  {
   "cell_type": "markdown",
   "metadata": {},
   "source": [
    "`2.` Explore and remove duplicate articles from the **df_content** dataframe.  "
   ]
  },
  {
   "cell_type": "code",
   "execution_count": 6,
   "metadata": {},
   "outputs": [
    {
     "name": "stdout",
     "output_type": "stream",
     "text": [
      "there are 5 duplicates in df_content\n"
     ]
    }
   ],
   "source": [
    "# Find and explore duplicate articles\n",
    "print(f\"there are {df_content.article_id.duplicated().sum()} duplicates in df_content\")"
   ]
  },
  {
   "cell_type": "code",
   "execution_count": 7,
   "metadata": {},
   "outputs": [],
   "source": [
    "# Remove any rows that have the same article_id - only keep the first\n",
    "df_content.drop_duplicates('article_id', keep='first', inplace=True)"
   ]
  },
  {
   "cell_type": "markdown",
   "metadata": {},
   "source": [
    "`3.` Use the cells below to find:\n",
    "\n",
    "**a.** The number of unique articles that have an interaction with a user.  \n",
    "**b.** The number of unique articles in the dataset (whether they have any interactions or not).<br>\n",
    "**c.** The number of unique users in the dataset. (excluding null values) <br>\n",
    "**d.** The number of user-article interactions in the dataset."
   ]
  },
  {
   "cell_type": "code",
   "execution_count": 8,
   "metadata": {},
   "outputs": [
    {
     "name": "stdout",
     "output_type": "stream",
     "text": [
      "there are 5148 unique users in df\n",
      "there are 714 unique articles in df\n",
      "there are 45993 user-articles interactions\n"
     ]
    }
   ],
   "source": [
    "print(f\"there are {df.email.nunique()} unique users in df\")\n",
    "print(f\"there are {df.article_id.nunique()} unique articles in df\")\n",
    "print(f'there are {df.shape[0]} user-articles interactions')"
   ]
  },
  {
   "cell_type": "code",
   "execution_count": 9,
   "metadata": {},
   "outputs": [
    {
     "data": {
      "text/plain": [
       "17"
      ]
     },
     "execution_count": 9,
     "metadata": {},
     "output_type": "execute_result"
    }
   ],
   "source": [
    "# are there Nans in email column - aka null values for users? \n",
    "df.email.apply(lambda x: isinstance(x, float)).sum()"
   ]
  },
  {
   "cell_type": "code",
   "execution_count": 10,
   "metadata": {},
   "outputs": [
    {
     "name": "stdout",
     "output_type": "stream",
     "text": [
      "nan 25131\n",
      "nan 29758\n",
      "nan 29759\n",
      "nan 29760\n",
      "nan 29761\n",
      "nan 35264\n",
      "nan 35276\n",
      "nan 35277\n",
      "nan 35278\n",
      "nan 35279\n",
      "nan 35280\n",
      "nan 35281\n",
      "nan 35282\n",
      "nan 35283\n",
      "nan 35284\n",
      "nan 42749\n",
      "nan 42750\n"
     ]
    }
   ],
   "source": [
    "#catching nans\n",
    "nans_idx = []\n",
    "for em, idx in zip(df.email, df.index):\n",
    "    try:\n",
    "        tmp = len(em)\n",
    "    except TypeError:\n",
    "        print(em, idx) \n",
    "        nans_idx.append(idx)"
   ]
  },
  {
   "cell_type": "code",
   "execution_count": 11,
   "metadata": {},
   "outputs": [],
   "source": [
    "unique_articles = df.article_id.nunique() # The number of unique articles that have at least one interaction\n",
    "total_articles = df_content.article_id.nunique() # The number of unique articles on the IBM platform\n",
    "unique_users = df.email.nunique() # The number of unique users\n",
    "user_article_interactions = df.shape[0] # The number of user-article interactions"
   ]
  },
  {
   "cell_type": "markdown",
   "metadata": {},
   "source": [
    "`4.` Use the cells below to find the most viewed **article_id**, as well as how often it was viewed.  After talking to the company leaders, the `email_mapper` function was deemed a reasonable way to map users to ids.  There were a small number of null values, and it was found that all of these null values likely belonged to a single user (which is how they are stored using the function below)."
   ]
  },
  {
   "cell_type": "code",
   "execution_count": 12,
   "metadata": {},
   "outputs": [
    {
     "data": {
      "text/plain": [
       "('1429.0', 937)"
      ]
     },
     "execution_count": 12,
     "metadata": {},
     "output_type": "execute_result"
    }
   ],
   "source": [
    "most_viewed_article_id = pd.DataFrame(df.article_id.value_counts()).reset_index().iloc[0, 0].astype(str) # The most viewed article in the dataset as a string with one value following the decimal \n",
    "max_views = pd.DataFrame(df.article_id.value_counts()).reset_index().iloc[0, 1].astype(int) # The most viewed article in the dataset was viewed how many times?\n",
    "\n",
    "most_viewed_article_id, max_views"
   ]
  },
  {
   "cell_type": "code",
   "execution_count": 13,
   "metadata": {},
   "outputs": [
    {
     "data": {
      "text/html": [
       "<div>\n",
       "<style scoped>\n",
       "    .dataframe tbody tr th:only-of-type {\n",
       "        vertical-align: middle;\n",
       "    }\n",
       "\n",
       "    .dataframe tbody tr th {\n",
       "        vertical-align: top;\n",
       "    }\n",
       "\n",
       "    .dataframe thead th {\n",
       "        text-align: right;\n",
       "    }\n",
       "</style>\n",
       "<table border=\"1\" class=\"dataframe\">\n",
       "  <thead>\n",
       "    <tr style=\"text-align: right;\">\n",
       "      <th></th>\n",
       "      <th>article_id</th>\n",
       "      <th>title</th>\n",
       "      <th>user_id</th>\n",
       "    </tr>\n",
       "  </thead>\n",
       "  <tbody>\n",
       "    <tr>\n",
       "      <th>0</th>\n",
       "      <td>1430.0</td>\n",
       "      <td>using pixiedust for fast, flexible, and easier...</td>\n",
       "      <td>1</td>\n",
       "    </tr>\n",
       "    <tr>\n",
       "      <th>1</th>\n",
       "      <td>1314.0</td>\n",
       "      <td>healthcare python streaming application demo</td>\n",
       "      <td>2</td>\n",
       "    </tr>\n",
       "    <tr>\n",
       "      <th>2</th>\n",
       "      <td>1429.0</td>\n",
       "      <td>use deep learning for image classification</td>\n",
       "      <td>3</td>\n",
       "    </tr>\n",
       "    <tr>\n",
       "      <th>3</th>\n",
       "      <td>1338.0</td>\n",
       "      <td>ml optimization using cognitive assistant</td>\n",
       "      <td>4</td>\n",
       "    </tr>\n",
       "    <tr>\n",
       "      <th>4</th>\n",
       "      <td>1276.0</td>\n",
       "      <td>deploy your python model as a restful api</td>\n",
       "      <td>5</td>\n",
       "    </tr>\n",
       "  </tbody>\n",
       "</table>\n",
       "</div>"
      ],
      "text/plain": [
       "   article_id                                              title  user_id\n",
       "0      1430.0  using pixiedust for fast, flexible, and easier...        1\n",
       "1      1314.0       healthcare python streaming application demo        2\n",
       "2      1429.0         use deep learning for image classification        3\n",
       "3      1338.0          ml optimization using cognitive assistant        4\n",
       "4      1276.0          deploy your python model as a restful api        5"
      ]
     },
     "execution_count": 13,
     "metadata": {},
     "output_type": "execute_result"
    }
   ],
   "source": [
    "## No need to change the code here - this will be helpful for later parts of the notebook\n",
    "# Run this cell to map the user email to a user_id column and remove the email column\n",
    "\n",
    "def email_mapper():\n",
    "    coded_dict = dict()\n",
    "    cter = 1\n",
    "    email_encoded = []\n",
    "    \n",
    "    for val in df['email']:\n",
    "        if val not in coded_dict:\n",
    "            coded_dict[val] = cter\n",
    "            cter+=1\n",
    "        \n",
    "        email_encoded.append(coded_dict[val])\n",
    "    return email_encoded\n",
    "\n",
    "email_encoded = email_mapper()\n",
    "del df['email']\n",
    "df['user_id'] = email_encoded\n",
    "\n",
    "# show header\n",
    "df.head()"
   ]
  },
  {
   "cell_type": "code",
   "execution_count": 14,
   "metadata": {},
   "outputs": [
    {
     "name": "stdout",
     "output_type": "stream",
     "text": [
      "It looks like you have everything right here! Nice job!\n"
     ]
    }
   ],
   "source": [
    "## If you stored all your results in the variable names above, \n",
    "## you shouldn't need to change anything in this cell\n",
    "\n",
    "sol_1_dict = {\n",
    "    '`50% of individuals have _____ or fewer interactions.`': median_val,\n",
    "    '`The total number of user-article interactions in the dataset is ______.`': user_article_interactions,\n",
    "    '`The maximum number of user-article interactions by any 1 user is ______.`': max_views_by_user,\n",
    "    '`The most viewed article in the dataset was viewed _____ times.`': max_views,\n",
    "    '`The article_id of the most viewed article is ______.`': most_viewed_article_id,\n",
    "    '`The number of unique articles that have at least 1 rating ______.`': unique_articles,\n",
    "    '`The number of unique users in the dataset is ______`': unique_users,\n",
    "    '`The number of unique articles on the IBM platform`': total_articles\n",
    "}\n",
    "\n",
    "# Test your dictionary against the solution\n",
    "t.sol_1_test(sol_1_dict)"
   ]
  },
  {
   "cell_type": "markdown",
   "metadata": {},
   "source": [
    "### <a class=\"anchor\" id=\"Rank\">Part II: Rank-Based Recommendations</a>\n",
    "\n",
    "Unlike in the earlier lessons, we don't actually have ratings for whether a user liked an article or not.  We only know that a user has interacted with an article.  In these cases, the popularity of an article can really only be based on how often an article was interacted with.\n",
    "\n",
    "`1.` Fill in the function below to return the **n** top articles ordered with most interactions as the top. Test your function using the tests below."
   ]
  },
  {
   "cell_type": "code",
   "execution_count": 15,
   "metadata": {},
   "outputs": [],
   "source": [
    "def get_top_articles(n, df=df):\n",
    "    '''\n",
    "    INPUT:\n",
    "    n - (int) the number of top articles to return\n",
    "    df - (pandas dataframe) df as defined at the top of the notebook \n",
    "    \n",
    "    OUTPUT:\n",
    "    top_articles - (list) A list of the top 'n' article titles \n",
    "    \n",
    "    '''\n",
    "    #group by article_id and count number of recurring titles \n",
    "    top_articles = df.groupby(by='article_id').title.value_counts().sort_values(ascending=False)[:n]\n",
    "    \n",
    "    #access 'title' in MultiIndex and convert to list\n",
    "    top_articles_titles = top_articles.index.get_level_values('title').tolist()\n",
    "    return top_articles_titles # Return the top article titles from df (not df_content)\n",
    "\n",
    "def get_top_article_ids(n, df=df):\n",
    "    '''\n",
    "    INPUT:\n",
    "    n - (int) the number of top articles to return\n",
    "    df - (pandas dataframe) df as defined at the top of the notebook \n",
    "    \n",
    "    OUTPUT:\n",
    "    top_articles - (list) A list of the top 'n' article titles \n",
    "    \n",
    "    '''\n",
    "    #group by article_id and count number of recurring titles \n",
    "    top_articles = df.groupby(by='article_id').title.value_counts().sort_values(ascending=False)[:n]\n",
    "     \n",
    "    #access 'article_id' in MultiIndex and convert to list\n",
    "    top_articles_id = top_articles.index.get_level_values('article_id').tolist()\n",
    " \n",
    "    return  top_articles_id # Return the top article ids"
   ]
  },
  {
   "cell_type": "code",
   "execution_count": 16,
   "metadata": {},
   "outputs": [
    {
     "name": "stdout",
     "output_type": "stream",
     "text": [
      "['use deep learning for image classification', 'insights from new york car accident reports', 'visualize car data with brunel', 'use xgboost, scikit-learn & ibm watson machine learning apis', 'predicting churn with the spss random tree algorithm', 'healthcare python streaming application demo', 'finding optimal locations of new store using decision optimization', 'apache spark lab, part 1: basic concepts', 'analyze energy consumption in buildings', 'gosales transactions for logistic regression model']\n",
      "[1429.0, 1330.0, 1431.0, 1427.0, 1364.0, 1314.0, 1293.0, 1170.0, 1162.0, 1304.0]\n"
     ]
    }
   ],
   "source": [
    "print(get_top_articles(10))\n",
    "print(get_top_article_ids(10))"
   ]
  },
  {
   "cell_type": "code",
   "execution_count": 17,
   "metadata": {},
   "outputs": [
    {
     "name": "stdout",
     "output_type": "stream",
     "text": [
      "Your top_5 looks like the solution list! Nice job.\n",
      "Your top_10 looks like the solution list! Nice job.\n",
      "Your top_20 looks like the solution list! Nice job.\n"
     ]
    }
   ],
   "source": [
    "# Test your function by returning the top 5, 10, and 20 articles\n",
    "top_5 = get_top_articles(5)\n",
    "top_10 = get_top_articles(10)\n",
    "top_20 = get_top_articles(20)\n",
    "\n",
    "# Test each of your three lists from above\n",
    "t.sol_2_test(get_top_articles)"
   ]
  },
  {
   "cell_type": "markdown",
   "metadata": {},
   "source": [
    "### <a class=\"anchor\" id=\"User-User\">Part III: User-User Based Collaborative Filtering</a>\n",
    "\n",
    "\n",
    "`1.` Use the function below to reformat the **df** dataframe to be shaped with users as the rows and articles as the columns.  \n",
    "\n",
    "* Each **user** should only appear in each **row** once.\n",
    "\n",
    "\n",
    "* Each **article** should only show up in one **column**.  \n",
    "\n",
    "\n",
    "* **If a user has interacted with an article, then place a 1 where the user-row meets for that article-column**.  It does not matter how many times a user has interacted with the article, all entries where a user has interacted with an article should be a 1.  \n",
    "\n",
    "\n",
    "* **If a user has not interacted with an item, then place a zero where the user-row meets for that article-column**. \n",
    "\n",
    "Use the tests to make sure the basic structure of your matrix matches what is expected by the solution."
   ]
  },
  {
   "cell_type": "code",
   "execution_count": 18,
   "metadata": {},
   "outputs": [],
   "source": [
    "# create the user-article matrix with 1's and 0's\n",
    "\n",
    "def create_user_item_matrix(df):\n",
    "    '''\n",
    "    INPUT:\n",
    "    df - pandas dataframe with article_id, title, user_id columns\n",
    "    \n",
    "    OUTPUT:\n",
    "    user_item - user item matrix \n",
    "    \n",
    "    Description:\n",
    "    Return a matrix with user ids as rows and article ids on the columns with 1 values where a user interacted with \n",
    "    an article and a 0 otherwise\n",
    "    '''\n",
    "    df['views'] = 1\n",
    "    user_item = df.groupby(['user_id', 'article_id']).views.min().unstack()\n",
    "    user_item.fillna(0, inplace=True)\n",
    "    \n",
    "    return user_item # return the user_item matrix \n",
    "\n",
    "user_item = create_user_item_matrix(df)"
   ]
  },
  {
   "cell_type": "code",
   "execution_count": 19,
   "metadata": {},
   "outputs": [
    {
     "name": "stdout",
     "output_type": "stream",
     "text": [
      "You have passed our quick tests!  Please proceed!\n"
     ]
    }
   ],
   "source": [
    "## Tests: You should just need to run this cell.  Don't change the code.\n",
    "assert user_item.shape[0] == 5149, \"Oops!  The number of users in the user-article matrix doesn't look right.\"\n",
    "assert user_item.shape[1] == 714, \"Oops!  The number of articles in the user-article matrix doesn't look right.\"\n",
    "assert user_item.sum(axis=1)[1] == 36, \"Oops!  The number of articles seen by user 1 doesn't look right.\"\n",
    "print(\"You have passed our quick tests!  Please proceed!\")"
   ]
  },
  {
   "cell_type": "markdown",
   "metadata": {},
   "source": [
    "`2.` Complete the function below which should take a user_id and provide an ordered list of the most similar users to that user (from most similar to least similar).  The returned result should not contain the provided user_id, as we know that each user is similar to him/herself. Because the results for each user here are binary, it (perhaps) makes sense to compute similarity as the dot product of two users. \n",
    "\n",
    "Use the tests to test your function."
   ]
  },
  {
   "cell_type": "code",
   "execution_count": 20,
   "metadata": {},
   "outputs": [],
   "source": [
    "def find_similar_users(user_id, user_item=user_item):\n",
    "    '''\n",
    "    INPUT:\n",
    "    user_id - (int) a user_id\n",
    "    user_item - (pandas dataframe) matrix of users by articles: \n",
    "                1's when a user has interacted with an article, 0 otherwise\n",
    "    \n",
    "    OUTPUT:\n",
    "    similar_users - (list) an ordered list where the closest users (largest dot product users)\n",
    "                    are listed first\n",
    "    \n",
    "    Description:\n",
    "    Computes the similarity of every pair of users based on the dot product\n",
    "    Returns an ordered\n",
    "    \n",
    "    '''\n",
    "    # compute similarity of each user to the provided user\n",
    "    similarity = pd.DataFrame(np.dot(user_item.loc[user_id, :], user_item.T)).set_index(user_item.index)\n",
    "    similarity.columns = ['sim_values']\n",
    "    \n",
    "    # sort by similarity\n",
    "    similarity.sort_values(by='sim_values', ascending=False, inplace=True)\n",
    "\n",
    "    # create list of just the ids\n",
    "    most_similar_users = similarity.index\n",
    "    \n",
    "    # remove the own user's id\n",
    "    most_similar_users = most_similar_users[most_similar_users != user_id].tolist()     \n",
    "      \n",
    "    return most_similar_users # return a list of the users in order from most to least similar  "
   ]
  },
  {
   "cell_type": "code",
   "execution_count": 21,
   "metadata": {},
   "outputs": [
    {
     "name": "stdout",
     "output_type": "stream",
     "text": [
      "The 10 most similar users to user 1 are: [3933, 23, 3782, 203, 4459, 3870, 131, 4201, 46, 5041]\n",
      "The 5 most similar users to user 3933 are: [1, 23, 3782, 203, 4459]\n",
      "The 3 most similar users to user 46 are: [4201, 3782, 23]\n"
     ]
    }
   ],
   "source": [
    "# Do a spot check of your function\n",
    "print(\"The 10 most similar users to user 1 are: {}\".format(find_similar_users(1)[:10]))\n",
    "print(\"The 5 most similar users to user 3933 are: {}\".format(find_similar_users(3933)[:5]))\n",
    "print(\"The 3 most similar users to user 46 are: {}\".format(find_similar_users(46)[:3]))"
   ]
  },
  {
   "cell_type": "markdown",
   "metadata": {},
   "source": [
    "`3.` Now that you have a function that provides the most similar users to each user, you will want to use these users to find articles you can recommend.  Complete the functions below to return the articles you would recommend to each user. "
   ]
  },
  {
   "cell_type": "code",
   "execution_count": 22,
   "metadata": {},
   "outputs": [],
   "source": [
    "def get_article_names(article_ids, df=df):\n",
    "    '''\n",
    "    INPUT:\n",
    "    article_ids - (list) a list of article ids\n",
    "    df - (pandas dataframe) df as defined at the top of the notebook\n",
    "    \n",
    "    OUTPUT:\n",
    "    article_names - (list) a list of article names associated with the list of article ids \n",
    "                    (this is identified by the title column)\n",
    "    '''\n",
    "    df.article_id = df.article_id.astype(str)\n",
    "    article_names = []\n",
    "\n",
    "    for art_id in article_ids:\n",
    "        \n",
    "        #taking the first one we encounter (because there could be many interactions with the same article in df)\n",
    "        article_name = df[df['article_id'] == art_id]['title']\n",
    "        if article_name.size > 1:\n",
    "            article_name = article_name.tolist()[0]\n",
    "        article_names.append(article_name)\n",
    "    \n",
    "    return article_names # Return the article names associated with list of article ids\n",
    "\n",
    "def get_user_articles(user_id, user_item=user_item):\n",
    "    '''\n",
    "    INPUT:\n",
    "    user_id - (int) a user id\n",
    "    user_item - (pandas dataframe) matrix of users by articles: \n",
    "                1's when a user has interacted with an article, 0 otherwise\n",
    "    \n",
    "    OUTPUT:\n",
    "    article_ids - (list) a list of the article ids seen by the user\n",
    "    article_names - (list) a list of article names associated with the list of article ids \n",
    "                    (this is identified by the doc_full_name column in df_content)\n",
    "    \n",
    "    Description:\n",
    "    Provides a list of the article_ids and article titles that have been seen by a user\n",
    "    '''\n",
    "    article_ids = list(set(df[df.user_id == user_id].article_id.values))\n",
    "    article_names = get_article_names(article_ids)\n",
    "        \n",
    "    return article_ids, article_names\n",
    "\n",
    "\n",
    "def user_user_recs(user_id, m=10):\n",
    "    '''\n",
    "    INPUT:\n",
    "    user_id - (int) a user id\n",
    "    m - (int) the number of recommendations you want for the user\n",
    "    \n",
    "    OUTPUT:\n",
    "    recs - (list) a list of recommendations for the user\n",
    "    \n",
    "    Description:\n",
    "    Loops through the users based on closeness to the input user_id\n",
    "    For each user - finds articles the user hasn't seen before and provides them as recs\n",
    "    Does this until m recommendations are found\n",
    "    \n",
    "    Notes:\n",
    "    Users who are the same closeness are chosen arbitrarily as the 'next' user\n",
    "    \n",
    "    For the user where the number of recommended articles starts below m \n",
    "    and ends exceeding m, the last items are chosen arbitrarily\n",
    "    \n",
    "    '''\n",
    "    #get_user_articles returns two values - article_ids and article_names. User [0] for article_ids\n",
    "    this_user_art_ids = get_user_articles(user_id)[0]\n",
    "    \n",
    "    most_similar_users = find_similar_users(user_id)\n",
    "    \n",
    "    recs_list = []\n",
    "    \n",
    "    for similar_user in most_similar_users:\n",
    "        similar_user_art_ids = get_user_articles(similar_user)[0]\n",
    "        \n",
    "        #return article_ids that user hasn't seen before\n",
    "        recs_ids = list(np.setdiff1d(similar_user_art_ids, this_user_art_ids))            \n",
    "        recs_list.append(recs_ids)\n",
    "        \n",
    "        recs_ids = sum(recs_list, [])\n",
    "\n",
    "        if len(recs_ids) > 11:\n",
    "            break\n",
    "        \n",
    "    \n",
    "    return recs_ids[:m] # return your recommendations for this user_id    "
   ]
  },
  {
   "cell_type": "code",
   "execution_count": 23,
   "metadata": {},
   "outputs": [
    {
     "data": {
      "text/plain": [
       "['recommender systems: approaches & algorithms',\n",
       " '1448    i ranked every intro to data science course on...\\nName: title, dtype: object',\n",
       " 'data tidying in data science experience',\n",
       " 'a tensorflow regression model to predict house values',\n",
       " '520    using notebooks with pixiedust for fast, flexi...\\nName: title, dtype: object',\n",
       " 'airbnb data for analytics: mallorca reviews',\n",
       " 'airbnb data for analytics: vancouver listings',\n",
       " 'analyze facebook data using ibm watson and watson studio',\n",
       " 'analyze accident reports on amazon emr spark',\n",
       " 'analyze energy consumption in buildings']"
      ]
     },
     "execution_count": 23,
     "metadata": {},
     "output_type": "execute_result"
    }
   ],
   "source": [
    "# Check Results\n",
    "get_article_names(user_user_recs(1, 10)) # Return 10 recommendations for user 1"
   ]
  },
  {
   "cell_type": "code",
   "execution_count": 24,
   "metadata": {},
   "outputs": [
    {
     "data": {
      "text/plain": [
       "['introduction to market basket analysis in\\xa0python',\n",
       " 'super fast string matching in python',\n",
       " 'working with ibm cloud object storage in r',\n",
       " 'jupyter notebook tutorial',\n",
       " 'using pixiedust for fast, flexible, and easier data analysis and experimentation',\n",
       " 'new shiny cheat sheet and video tutorial',\n",
       " 'welcome to pixiedust',\n",
       " 'tidyverse practice: mapping large european cities',\n",
       " 'rapidly build machine learning flows with dsx',\n",
       " 'putting a human face on machine learning',\n",
       " 'use xgboost, scikit-learn & ibm watson machine learning apis',\n",
       " 'country statistics: life expectancy at birth',\n",
       " 'time series prediction using recurrent neural networks (lstms)',\n",
       " 'analyze db2 warehouse on cloud data in rstudio in dsx',\n",
       " 'visualize car data with brunel',\n",
       " 'shiny: a data scientist’s best friend',\n",
       " 'apache spark lab, part 1: basic concepts',\n",
       " 'classify tumors with machine learning',\n",
       " 'working with ibm cloud object storage in python',\n",
       " 'categorize urban density',\n",
       " 'shiny 0.13.0',\n",
       " 'gosales transactions for naive bayes model',\n",
       " 'deep learning with tensorflow course by big data university',\n",
       " 'python for loops explained (python for data science basics #5)',\n",
       " 'python if statements explained (python for data science basics #4)',\n",
       " 'finding optimal locations of new store using decision optimization',\n",
       " 'uci ml repository: chronic kidney disease data set',\n",
       " 'access db2 warehouse on cloud and db2 with python',\n",
       " 'predict loan applicant behavior with tensorflow neural networking',\n",
       " 'introducing ibm watson studio ',\n",
       " 'sudoku',\n",
       " 'tensorflow quick tips',\n",
       " 'fighting gerrymandering: using data science to draw fairer congressional districts',\n",
       " 'sector correlations shiny app',\n",
       " 'uci: iris',\n",
       " 'use deep learning for image classification']"
      ]
     },
     "execution_count": 24,
     "metadata": {},
     "output_type": "execute_result"
    }
   ],
   "source": [
    "# to make sense out of our recs, let's see what articles user 1 iteracted with :\n",
    "get_article_names(get_user_articles(1)[0])"
   ]
  },
  {
   "cell_type": "code",
   "execution_count": 25,
   "metadata": {},
   "outputs": [
    {
     "name": "stdout",
     "output_type": "stream",
     "text": [
      "If this is all you see, you passed all of our tests!  Nice job!\n"
     ]
    }
   ],
   "source": [
    "# Test your functions here - No need to change this code - just run this cell\n",
    "assert set(get_article_names(['1024.0', '1176.0', '1305.0', '1314.0', '1422.0', '1427.0'])) == set(['using deep learning to reconstruct high-resolution audio', 'build a python app on the streaming analytics service', 'gosales transactions for naive bayes model', 'healthcare python streaming application demo', 'use r dataframes & ibm watson natural language understanding', 'use xgboost, scikit-learn & ibm watson machine learning apis']), \"Oops! Your the get_article_names function doesn't work quite how we expect.\"\n",
    "assert set(get_article_names(['1320.0', '232.0', '844.0'])) == set(['housing (2015): united states demographic measures','self-service data preparation with ibm data refinery','use the cloudant-spark connector in python notebook']), \"Oops! Your the get_article_names function doesn't work quite how we expect.\"\n",
    "assert set(get_user_articles(20)[0]) == set(['1320.0', '232.0', '844.0'])\n",
    "assert set(get_user_articles(20)[1]) == set(['housing (2015): united states demographic measures', 'self-service data preparation with ibm data refinery','use the cloudant-spark connector in python notebook'])\n",
    "assert set(get_user_articles(2)[0]) == set(['1024.0', '1176.0', '1305.0', '1314.0', '1422.0', '1427.0'])\n",
    "assert set(get_user_articles(2)[1]) == set(['using deep learning to reconstruct high-resolution audio', 'build a python app on the streaming analytics service', 'gosales transactions for naive bayes model', 'healthcare python streaming application demo', 'use r dataframes & ibm watson natural language understanding', 'use xgboost, scikit-learn & ibm watson machine learning apis'])\n",
    "print(\"If this is all you see, you passed all of our tests!  Nice job!\")"
   ]
  },
  {
   "cell_type": "markdown",
   "metadata": {},
   "source": [
    "`4.` Now we are going to improve the consistency of the **user_user_recs** function from above.  \n",
    "\n",
    "* Instead of arbitrarily choosing when we obtain users who are all the same closeness to a given user - choose the users that have the most total article interactions before choosing those with fewer article interactions.\n",
    "\n",
    "\n",
    "* Instead of arbitrarily choosing articles from the user where the number of recommended articles starts below m and ends exceeding m, choose articles with the articles with the most total interactions before choosing those with fewer total interactions. This ranking should be  what would be obtained from the **top_articles** function you wrote earlier."
   ]
  },
  {
   "cell_type": "code",
   "execution_count": 26,
   "metadata": {},
   "outputs": [],
   "source": [
    "def get_top_sorted_users(user_id, df=df, user_item=user_item):\n",
    "    '''\n",
    "    INPUT:\n",
    "    user_id - (int)\n",
    "    df - (pandas dataframe) df as defined at the top of the notebook \n",
    "    user_item - (pandas dataframe) matrix of users by articles: \n",
    "            1's when a user has interacted with an article, 0 otherwise\n",
    "    \n",
    "            \n",
    "    OUTPUT:\n",
    "    neighbors_df - (pandas dataframe) a dataframe with:\n",
    "                    neighbor_id - is a neighbor user_id\n",
    "                    similarity - measure of the similarity of each user to the provided user_id\n",
    "                    num_interactions - the number of articles viewed by the user - if a u\n",
    "                    \n",
    "    Other Details - sort the neighbors_df by the similarity and then by number of interactions where \n",
    "                    highest of each is higher in the dataframe\n",
    "     \n",
    "    '''\n",
    "\n",
    "    num_interactions = pd.DataFrame(df.user_id.value_counts())\n",
    "    num_interactions.columns = ['num_interactions']\n",
    "\n",
    "    # compute similarity of each user to the provided user\n",
    "    similarity = pd.DataFrame(np.dot(user_item.loc[user_id, :], user_item.T)).set_index(user_item.index)\n",
    "    similarity.columns = ['sim_values']\n",
    "   \n",
    "    neighbors_df = similarity.merge(num_interactions, left_index=True, right_index=True)\n",
    "    neighbors_df['neighbor_id'] = neighbors_df.index\n",
    "    neighbors_df.sort_values(by=['sim_values', 'num_interactions'], ascending=False, inplace=True)\n",
    "        \n",
    "    return neighbors_df # Return the dataframe specified in the doc_string\n",
    "\n",
    "\n",
    "def user_user_recs_part2(user_id, m=10):\n",
    "    '''\n",
    "    INPUT:\n",
    "    user_id - (int) a user id\n",
    "    m - (int) the number of recommendations you want for the user\n",
    "    \n",
    "    OUTPUT:\n",
    "    recs - (list) a list of recommendations for the user by article id\n",
    "    rec_names - (list) a list of recommendations for the user by article title\n",
    "    \n",
    "    Description:\n",
    "    Loops through the users based on closeness to the input user_id\n",
    "    For each user - finds articles the user hasn't seen before and provides them as recs\n",
    "    Does this until m recommendations are found\n",
    "    \n",
    "    Notes:\n",
    "    * Choose the users that have the most total article interactions \n",
    "    before choosing those with fewer article interactions.\n",
    "\n",
    "    * Choose articles with the most total interactions \n",
    "    before choosing those with fewer total interactions. \n",
    "   \n",
    "    '''\n",
    "\n",
    "    #get_user_articles returns two values - article_ids and article_names. User [0] for article_ids\n",
    "    this_user_art_ids = get_user_articles(user_id)[0]  \n",
    "    \n",
    "    nearest_neighbors = get_top_sorted_users(user_id).neighbor_id.values\n",
    "    \n",
    "    recs_list = []\n",
    "    \n",
    "    for neighbor in nearest_neighbors:\n",
    "        neighbor_art_ids = get_user_articles(neighbor)[0]\n",
    "        \n",
    "        #return article_ids that user hasn't seen before\n",
    "        recs_ids = list(np.setdiff1d(neighbor_art_ids, this_user_art_ids))            \n",
    "        recs_list.append(recs_ids)\n",
    "        \n",
    "        recs_ids = sum(recs_list, [])\n",
    "\n",
    "        if len(recs_ids) > 11:\n",
    "            break\n",
    "            \n",
    "    #start with 1  \n",
    "    recs = recs_ids[1:m+1]\n",
    "        \n",
    "    rec_names = get_article_names(recs)\n",
    "    \n",
    "    return recs, rec_names"
   ]
  },
  {
   "cell_type": "code",
   "execution_count": 27,
   "metadata": {},
   "outputs": [
    {
     "name": "stdout",
     "output_type": "stream",
     "text": [
      "The top 10 recommendations for user 20 are the following article ids:\n",
      "['1085.0', '109.0', '1150.0', '1151.0', '1152.0', '1153.0', '1154.0', '1157.0', '1160.0', '1162.0']\n",
      "\n",
      "The top 10 recommendations for user 20 are the following article names:\n",
      "['airbnb data for analytics: chicago listings', 'tensorflow quick tips', 'airbnb data for analytics: venice calendar', 'airbnb data for analytics: venice listings', 'airbnb data for analytics: venice reviews', 'airbnb data for analytics: vienna calendar', 'airbnb data for analytics: vienna listings', 'airbnb data for analytics: washington d.c. listings', 'analyze accident reports on amazon emr spark', 'analyze energy consumption in buildings']\n"
     ]
    }
   ],
   "source": [
    "# Quick spot check - don't change this code - just use it to test your functions\n",
    "rec_ids, rec_names = user_user_recs_part2(20, 10)\n",
    "print(\"The top 10 recommendations for user 20 are the following article ids:\")\n",
    "print(rec_ids)\n",
    "print()\n",
    "print(\"The top 10 recommendations for user 20 are the following article names:\")\n",
    "print(rec_names)"
   ]
  },
  {
   "cell_type": "code",
   "execution_count": 28,
   "metadata": {},
   "outputs": [
    {
     "data": {
      "text/plain": [
       "['use the cloudant-spark connector in python notebook',\n",
       " 'housing (2015): united states demographic measures',\n",
       " 'self-service data preparation with ibm data refinery']"
      ]
     },
     "execution_count": 28,
     "metadata": {},
     "output_type": "execute_result"
    }
   ],
   "source": [
    "# to make sense out of our recs, let's see what articles user 20 iteracted with :\n",
    "get_article_names(get_user_articles(20)[0])"
   ]
  },
  {
   "cell_type": "markdown",
   "metadata": {},
   "source": [
    "`5.` Use your functions from above to correctly fill in the solutions to the dictionary below.  Then test your dictionary against the solution.  Provide the code you need to answer each following the comments below."
   ]
  },
  {
   "cell_type": "code",
   "execution_count": 29,
   "metadata": {},
   "outputs": [],
   "source": [
    "### Tests with a dictionary of results\n",
    "# Find the user that is most similar to user 1\n",
    "user1_most_sim = get_top_sorted_users(1).iloc[1, :].neighbor_id\n",
    " \n",
    "# Find the 10th most similar user to user 131\n",
    "user131_10th_sim = get_top_sorted_users(131).iloc[10, :].neighbor_id"
   ]
  },
  {
   "cell_type": "code",
   "execution_count": 30,
   "metadata": {},
   "outputs": [
    {
     "data": {
      "text/plain": [
       "(3933.0, 242.0)"
      ]
     },
     "execution_count": 30,
     "metadata": {},
     "output_type": "execute_result"
    }
   ],
   "source": [
    "user1_most_sim, user131_10th_sim"
   ]
  },
  {
   "cell_type": "code",
   "execution_count": 31,
   "metadata": {},
   "outputs": [
    {
     "name": "stdout",
     "output_type": "stream",
     "text": [
      "This all looks good!  Nice job!\n"
     ]
    }
   ],
   "source": [
    "## Dictionary Test Here\n",
    "sol_5_dict = {\n",
    "    'The user that is most similar to user 1.': user1_most_sim, \n",
    "    'The user that is the 10th most similar to user 131': user131_10th_sim,\n",
    "}\n",
    "\n",
    "t.sol_5_test(sol_5_dict)"
   ]
  },
  {
   "cell_type": "markdown",
   "metadata": {},
   "source": [
    "`6.` If we were given a new user, which of the above functions would you be able to use to make recommendations?  Explain.  Can you think of a better way we might make recommendations?  Use the cell below to explain a better method for new users."
   ]
  },
  {
   "cell_type": "markdown",
   "metadata": {},
   "source": [
    "**Since we don't have any information about the new user, the most logical thing would be to provide the list of the most popular articles on the platform which we implemented in the first step (so called ranked-based or knowledge based recommendations). As we learn more about the preferences of the user, we can make him/her more personalized recommendations later.**"
   ]
  },
  {
   "cell_type": "markdown",
   "metadata": {},
   "source": [
    "`7.` Using your existing functions, provide the top 10 recommended articles you would provide for the a new user below.  You can test your function against our thoughts to make sure we are all on the same page with how we might make a recommendation."
   ]
  },
  {
   "cell_type": "code",
   "execution_count": 32,
   "metadata": {},
   "outputs": [],
   "source": [
    "new_user = '0.0'\n",
    "\n",
    "# What would your recommendations be for this new user '0.0'?  As a new user, they have no observed articles.\n",
    "# Provide a list of the top 10 article ids you would give to \n",
    "new_user_recs = get_top_article_ids(10) # Your recommendations here"
   ]
  },
  {
   "cell_type": "code",
   "execution_count": 33,
   "metadata": {},
   "outputs": [
    {
     "name": "stdout",
     "output_type": "stream",
     "text": [
      "That's right!  Nice job!\n"
     ]
    }
   ],
   "source": [
    "assert set(new_user_recs) == set(['1314.0','1429.0','1293.0','1427.0','1162.0','1364.0','1304.0','1170.0','1431.0','1330.0']), \"Oops!  It makes sense that in this case we would want to recommend the most popular articles, because we don't know anything about these users.\"\n",
    "\n",
    "print(\"That's right!  Nice job!\")"
   ]
  },
  {
   "cell_type": "markdown",
   "metadata": {},
   "source": [
    "### <a class=\"anchor\" id=\"Content-Recs\">Part IV: Content Based Recommendations (EXTRA - NOT REQUIRED)</a>\n",
    "\n",
    "Another method we might use to make recommendations is to perform a ranking of the highest ranked articles associated with some term.  You might consider content to be the **doc_body**, **doc_description**, or **doc_full_name**.  There isn't one way to create a content based recommendation, especially considering that each of these columns hold content related information.  \n",
    "\n",
    "`1.` Use the function body below to create a content based recommender.  Since there isn't one right answer for this recommendation tactic, no test functions are provided.  Feel free to change the function inputs if you decide you want to try a method that requires more input values.  The input values are currently set with one idea in mind that you may use to make content based recommendations.  One additional idea is that you might want to choose the most popular recommendations that meet your 'content criteria', but again, there is a lot of flexibility in how you might make these recommendations."
   ]
  },
  {
   "cell_type": "markdown",
   "metadata": {},
   "source": [
    "# 0. Preparing dataset\n",
    "\n",
    "I will combine information from two features -  doc_description and doc_full_name. "
   ]
  },
  {
   "cell_type": "code",
   "execution_count": 34,
   "metadata": {},
   "outputs": [],
   "source": [
    "# turns out that df_content has old index with loopholes, let's reset it\n",
    "df_content = df_content.reset_index(drop=True)"
   ]
  },
  {
   "cell_type": "code",
   "execution_count": 35,
   "metadata": {},
   "outputs": [],
   "source": [
    "# turns out there are some articles without descriptions and these have Nans in them. \n",
    "# So let's change Nans to \" \" string.\n",
    "df_content['doc_full_name'].fillna(\" \", inplace=True)\n",
    "df_content['doc_description'].fillna(\" \", inplace=True)\n",
    "df_content['doc_body'].fillna(\" \", inplace=True)"
   ]
  },
  {
   "cell_type": "code",
   "execution_count": 36,
   "metadata": {},
   "outputs": [],
   "source": [
    "#combining doc_full_name and doc_description\n",
    "df_content['content'] = df_content['doc_full_name'] + \". \" + df_content['doc_description']"
   ]
  },
  {
   "cell_type": "code",
   "execution_count": 37,
   "metadata": {},
   "outputs": [
    {
     "data": {
      "text/html": [
       "<div>\n",
       "<style scoped>\n",
       "    .dataframe tbody tr th:only-of-type {\n",
       "        vertical-align: middle;\n",
       "    }\n",
       "\n",
       "    .dataframe tbody tr th {\n",
       "        vertical-align: top;\n",
       "    }\n",
       "\n",
       "    .dataframe thead th {\n",
       "        text-align: right;\n",
       "    }\n",
       "</style>\n",
       "<table border=\"1\" class=\"dataframe\">\n",
       "  <thead>\n",
       "    <tr style=\"text-align: right;\">\n",
       "      <th></th>\n",
       "      <th>article_id</th>\n",
       "      <th>content</th>\n",
       "      <th>doc_full_name</th>\n",
       "    </tr>\n",
       "  </thead>\n",
       "  <tbody>\n",
       "    <tr>\n",
       "      <th>0</th>\n",
       "      <td>0</td>\n",
       "      <td>Detect Malfunctioning IoT Sensors with Streami...</td>\n",
       "      <td>Detect Malfunctioning IoT Sensors with Streami...</td>\n",
       "    </tr>\n",
       "    <tr>\n",
       "      <th>1</th>\n",
       "      <td>1</td>\n",
       "      <td>Communicating data science: A guide to present...</td>\n",
       "      <td>Communicating data science: A guide to present...</td>\n",
       "    </tr>\n",
       "    <tr>\n",
       "      <th>2</th>\n",
       "      <td>2</td>\n",
       "      <td>This Week in Data Science (April 18, 2017). He...</td>\n",
       "      <td>This Week in Data Science (April 18, 2017)</td>\n",
       "    </tr>\n",
       "    <tr>\n",
       "      <th>3</th>\n",
       "      <td>3</td>\n",
       "      <td>DataLayer Conference: Boost the performance of...</td>\n",
       "      <td>DataLayer Conference: Boost the performance of...</td>\n",
       "    </tr>\n",
       "    <tr>\n",
       "      <th>4</th>\n",
       "      <td>4</td>\n",
       "      <td>Analyze NY Restaurant data using Spark in DSX....</td>\n",
       "      <td>Analyze NY Restaurant data using Spark in DSX</td>\n",
       "    </tr>\n",
       "  </tbody>\n",
       "</table>\n",
       "</div>"
      ],
      "text/plain": [
       "   article_id                                            content  \\\n",
       "0           0  Detect Malfunctioning IoT Sensors with Streami...   \n",
       "1           1  Communicating data science: A guide to present...   \n",
       "2           2  This Week in Data Science (April 18, 2017). He...   \n",
       "3           3  DataLayer Conference: Boost the performance of...   \n",
       "4           4  Analyze NY Restaurant data using Spark in DSX....   \n",
       "\n",
       "                                       doc_full_name  \n",
       "0  Detect Malfunctioning IoT Sensors with Streami...  \n",
       "1  Communicating data science: A guide to present...  \n",
       "2         This Week in Data Science (April 18, 2017)  \n",
       "3  DataLayer Conference: Boost the performance of...  \n",
       "4      Analyze NY Restaurant data using Spark in DSX  "
      ]
     },
     "execution_count": 37,
     "metadata": {},
     "output_type": "execute_result"
    }
   ],
   "source": [
    "df_cont = df_content[['article_id', 'content', 'doc_full_name']]\n",
    "df_cont.head()"
   ]
  },
  {
   "cell_type": "code",
   "execution_count": 38,
   "metadata": {},
   "outputs": [
    {
     "name": "stdout",
     "output_type": "stream",
     "text": [
      "if you see only these message, then there are no Nans\n"
     ]
    }
   ],
   "source": [
    "#checking if there are nans \n",
    "nans_idx = []\n",
    "for c, idx in zip(df_cont.content, df_cont.index):\n",
    "    try:\n",
    "        tmp = len(c)\n",
    "    except TypeError:\n",
    "        print(c, idx) \n",
    "        nans_idx.append(idx)\n",
    "print(\"if you see only these message, then there are no Nans\")"
   ]
  },
  {
   "cell_type": "markdown",
   "metadata": {},
   "source": [
    "## 1. Create article-content matrix "
   ]
  },
  {
   "cell_type": "markdown",
   "metadata": {},
   "source": [
    "Let's transform the content into td_idf matrix using scikitlearn and nltk library. The resulting td_idf matrix will have so many rows as we have our articles, while it's columns will include the inversed term frequency. In other words, it's our article-content matrix."
   ]
  },
  {
   "cell_type": "code",
   "execution_count": 39,
   "metadata": {},
   "outputs": [],
   "source": [
    "import re\n",
    "\n",
    "from nltk import pos_tag\n",
    "from nltk.corpus import stopwords\n",
    "from nltk.corpus import wordnet as wn\n",
    "from nltk.stem import WordNetLemmatizer\n",
    "from nltk.tokenize import word_tokenize\n",
    "\n",
    "from sklearn.feature_extraction.text import CountVectorizer, TfidfTransformer\n",
    "from sklearn.decomposition import PCA"
   ]
  },
  {
   "cell_type": "code",
   "execution_count": 40,
   "metadata": {},
   "outputs": [],
   "source": [
    "# Create a map between Treebank and WordNet \n",
    "# WordNet POS tags are: NOUN = 'n', ADJ = 's', VERB = 'v', ADV = 'r'\n",
    "# Descriptions (c) https://web.stanford.edu/~jurafsky/slp3/10.pdf\n",
    "tag_map = {\n",
    "        'CC':None, # coordin. conjunction (and, but, or)  \n",
    "        'CD':wn.NOUN, # cardinal number (one, two)             \n",
    "        'DT':None, # determiner (a, the)                    \n",
    "        'EX':wn.ADV, # existential ‘there’ (there)           \n",
    "        'FW':None, # foreign word (mea culpa)             \n",
    "        'IN':wn.ADV, # preposition/sub-conj (of, in, by)   \n",
    "        'JJ':wn.ADJ, # adjective (yellow)                  \n",
    "        'JJR':wn.ADJ, # adj., comparative (bigger)          \n",
    "        'JJS':wn.ADJ, # adj., superlative (wildest)           \n",
    "        'LS':None, # list item marker (1, 2, One)          \n",
    "        'MD':None, # modal (can, should)                    \n",
    "        'NN':wn.NOUN, # noun, sing. or mass (llama)          \n",
    "        'NNS':wn.NOUN, # noun, plural (llamas)                  \n",
    "        'NNP':wn.NOUN, # proper noun, sing. (IBM)              \n",
    "        'NNPS':wn.NOUN, # proper noun, plural (Carolinas)\n",
    "        'PDT':wn.ADJ, # predeterminer (all, both)            \n",
    "        'POS':None, # possessive ending (’s )               \n",
    "        'PRP':None, # personal pronoun (I, you, he)     \n",
    "        'PRP$':None, # possessive pronoun (your, one’s)    \n",
    "        'RB':wn.ADV, # adverb (quickly, never)            \n",
    "        'RBR':wn.ADV, # adverb, comparative (faster)        \n",
    "        'RBS':wn.ADV, # adverb, superlative (fastest)     \n",
    "        'RP':wn.ADJ, # particle (up, off)\n",
    "        'SYM':None, # symbol (+,%, &)\n",
    "        'TO':None, # “to” (to)\n",
    "        'UH':None, # interjection (ah, oops)\n",
    "        'VB':wn.VERB, # verb base form (eat)\n",
    "        'VBD':wn.VERB, # verb past tense (ate)\n",
    "        'VBG':wn.VERB, # verb gerund (eating)\n",
    "        'VBN':wn.VERB, # verb past participle (eaten)\n",
    "        'VBP':wn.VERB, # verb non-3sg pres (eat)\n",
    "        'VBZ':wn.VERB, # verb 3sg pres (eats)\n",
    "        'WDT':None, # wh-determiner (which, that)\n",
    "        'WP':None, # wh-pronoun (what, who)\n",
    "        'WP$':None, # possessive (wh- whose)\n",
    "        'WRB':None, # wh-adverb (how, where)\n",
    "        '$':None, #  dollar sign ($)\n",
    "        '#':None, # pound sign (#)\n",
    "        '“':None, # left quote (‘ or “)\n",
    "        '”':None, # right quote (’ or ”)\n",
    "        '(':None, # left parenthesis ([, (, {, <)\n",
    "        ')':None, # right parenthesis (], ), }, >)\n",
    "        ',':None, # comma (,)\n",
    "        '.':None, # sentence-final punc (. ! ?)\n",
    "        ':':None # mid-sentence punc (: ; ... – -)\n",
    "    }\n",
    "\n",
    "def tokenize(text):     \n",
    "    ''' Tokenizer for CountVectorizer() \n",
    "\n",
    "        Inputs: \n",
    "            text: message instance\n",
    "        Output: \n",
    "            clean_tokens: list of lemmatized tokens based on words from the message\n",
    "    '''\n",
    "    #remove url links\n",
    "    re_url = r'(http|ftp|https)://([\\w_-]+(?:(?:\\.[\\w_-]+)+))([\\w.,@?^=%&:/~+#-]*[\\w@?^=%&/~+#-])?'\n",
    "    text = re.sub(re_url, 'urlplaceholder', text)\n",
    "\n",
    "    #remove punctuation\n",
    "    text = re.sub(r\"[^a-zA-Z0-9]\", \" \", text.lower())    \n",
    "    tokens = word_tokenize(text)\n",
    "    \n",
    "    # remove short words\n",
    "    tokens = [token for token in tokens if len(token) > 2]\n",
    "    \n",
    "    # remove stopwords\n",
    "    STOPWORDS = list(set(stopwords.words('english')))\n",
    "    tokens = [token for token in tokens if token not in STOPWORDS]\n",
    "\n",
    "    pos_tokens = pos_tag(tokens) \n",
    "\n",
    "    lemmatizer = WordNetLemmatizer()\n",
    "\n",
    "    clean_tokens = []\n",
    "    for tok, pos in pos_tokens:\n",
    "        try:\n",
    "            if tag_map[pos] is not None:\n",
    "                clean_tok = lemmatizer.lemmatize(tok, tag_map[pos]).lower().strip()\n",
    "                clean_tokens.append(clean_tok)\n",
    "            else:\n",
    "                clean_tok = lemmatizer.lemmatize(tok).lower().strip()\n",
    "                clean_tokens.append(clean_tok)\n",
    "        except KeyError:\n",
    "            pass\n",
    "            \n",
    "    return clean_tokens"
   ]
  },
  {
   "cell_type": "code",
   "execution_count": 41,
   "metadata": {},
   "outputs": [
    {
     "name": "stdout",
     "output_type": "stream",
     "text": [
      "Creating the Data Science Experience\n"
     ]
    },
    {
     "data": {
      "text/plain": [
       "['create', 'data', 'science', 'experience']"
      ]
     },
     "execution_count": 41,
     "metadata": {},
     "output_type": "execute_result"
    }
   ],
   "source": [
    "#checking if tokenize() works as intented:\n",
    "print(df_cont.doc_full_name[25])\n",
    "tokenize(df_cont.doc_full_name[25])"
   ]
  },
  {
   "cell_type": "code",
   "execution_count": 42,
   "metadata": {},
   "outputs": [],
   "source": [
    "import nltk\n",
    "nltk.download('stopwords', quiet=True, raise_on_error=True)\n",
    "stop_words = set(nltk.corpus.stopwords.words('english'))\n",
    "tokenized_stop_words = nltk.word_tokenize(' '.join(nltk.corpus.stopwords.words('english')))"
   ]
  },
  {
   "cell_type": "code",
   "execution_count": 43,
   "metadata": {},
   "outputs": [],
   "source": [
    "vect = CountVectorizer(tokenizer=tokenize, lowercase=True, ngram_range=(1, 2), stop_words=tokenized_stop_words)\n",
    "tfidf = TfidfTransformer()\n",
    "\n",
    "content_counts = vect.fit_transform(df_cont['content'].values)\n",
    "content_tfidf = tfidf.fit_transform(content_counts)"
   ]
  },
  {
   "cell_type": "code",
   "execution_count": 44,
   "metadata": {},
   "outputs": [
    {
     "data": {
      "text/plain": [
       "(1051, 19150)"
      ]
     },
     "execution_count": 44,
     "metadata": {},
     "output_type": "execute_result"
    }
   ],
   "source": [
    "content_tfidf.shape"
   ]
  },
  {
   "cell_type": "markdown",
   "metadata": {},
   "source": [
    "## 2. Perform PCA"
   ]
  },
  {
   "cell_type": "markdown",
   "metadata": {},
   "source": [
    "The article-content matrix we created in the last step is a very large sparse matrix. We might want to reduce the dimensions by performing principal component analysis (PCA)."
   ]
  },
  {
   "cell_type": "code",
   "execution_count": 45,
   "metadata": {},
   "outputs": [],
   "source": [
    "pca = PCA()\n",
    "tfidf_pca = pca.fit_transform(content_tfidf.toarray())"
   ]
  },
  {
   "cell_type": "code",
   "execution_count": 46,
   "metadata": {},
   "outputs": [],
   "source": [
    "# Investigate the variance accounted for by each principal component.\n",
    "def scree_plot(pca):\n",
    "    '''\n",
    "    Creates a scree plot associated with the principal components \n",
    "    \n",
    "    INPUT: pca - the result of instantian of PCA in scikit learn\n",
    "            \n",
    "    OUTPUT:\n",
    "            None\n",
    "    '''\n",
    "    num_components=len(pca.explained_variance_ratio_)\n",
    "    ind = np.arange(num_components)\n",
    "    vals = pca.explained_variance_ratio_\n",
    " \n",
    "    plt.figure(figsize=(6, 6))\n",
    "    ax = plt.subplot(111)\n",
    "    cumvals = np.cumsum(vals)\n",
    "    ax.bar(ind, vals)\n",
    "    ax.plot(ind, cumvals)\n",
    " \n",
    "    ax.set_xlabel(\"Principal Component\")\n",
    "    ax.set_ylabel(\"Variance Explained (%)\")\n",
    "    plt.title('Explained Variance Per Principal Component')"
   ]
  },
  {
   "cell_type": "code",
   "execution_count": 47,
   "metadata": {},
   "outputs": [
    {
     "data": {
      "image/png": "[encoded data removed]",
      "text/plain": [
       "<Figure size 432x432 with 1 Axes>"
      ]
     },
     "metadata": {
      "needs_background": "light"
     },
     "output_type": "display_data"
    }
   ],
   "source": [
    "scree_plot(pca)"
   ]
  },
  {
   "cell_type": "code",
   "execution_count": 48,
   "metadata": {},
   "outputs": [
    {
     "data": {
      "text/plain": [
       "663"
      ]
     },
     "execution_count": 48,
     "metadata": {},
     "output_type": "execute_result"
    }
   ],
   "source": [
    "# how many components together explain about 80% of variance?\n",
    "cum_expl_var_ratio = np.cumsum(pca.explained_variance_ratio_)\n",
    "len(cum_expl_var_ratio[cum_expl_var_ratio <= 0.805])"
   ]
  },
  {
   "cell_type": "code",
   "execution_count": 49,
   "metadata": {},
   "outputs": [],
   "source": [
    "pca = PCA(663).fit(content_tfidf.toarray())\n",
    "tf_idf_pca = pca.transform(content_tfidf.toarray())"
   ]
  },
  {
   "cell_type": "code",
   "execution_count": 50,
   "metadata": {},
   "outputs": [
    {
     "data": {
      "text/plain": [
       "(1051, 663)"
      ]
     },
     "execution_count": 50,
     "metadata": {},
     "output_type": "execute_result"
    }
   ],
   "source": [
    "tf_idf_pca.shape"
   ]
  },
  {
   "cell_type": "markdown",
   "metadata": {},
   "source": [
    "We have reduced the initial content_tfidf matrix from (1051, 19150) to (1051, 663) dimensions, which captures around 80% of variance of the original content_tfidf matrix. This will significantly improve the computational efficiency when making recommendations with larger datasets in the future.  "
   ]
  },
  {
   "cell_type": "markdown",
   "metadata": {},
   "source": [
    "## 3. Find Similar Articles with Cosine Similarity"
   ]
  },
  {
   "cell_type": "markdown",
   "metadata": {},
   "source": [
    "Now we will use cosine similarity by multiplying the td_idf_pca matrix by itself to get article-article similarities, sort them take so many from the top as we wish to make recommendations."
   ]
  },
  {
   "cell_type": "code",
   "execution_count": 51,
   "metadata": {},
   "outputs": [],
   "source": [
    "dot_prod_content = np.dot(tf_idf_pca, tf_idf_pca.T)"
   ]
  },
  {
   "cell_type": "code",
   "execution_count": 52,
   "metadata": {},
   "outputs": [],
   "source": [
    "def find_similar_articles(article_id, num_rec=5):\n",
    "    \"\"\"\n",
    "    INPUT:\n",
    "        article_id: (float) article_id for which we want to find similar articles\n",
    "        num_rec: (optional) the number of recommendations we want to make. Default 5\n",
    "    OUTPUT:\n",
    "        most_similar_art_titles: (list) titles of similar articles \n",
    "    \"\"\"\n",
    "    art_id_idx = df_cont['content'].index\n",
    "    similarity = pd.DataFrame(dot_prod_content[article_id]).set_index(art_id_idx)\n",
    "    similarity.columns = ['sim_values']\n",
    "    \n",
    "    # sort by similarity\n",
    "    similarity.sort_values(by='sim_values', ascending=False, inplace=True)\n",
    "\n",
    "    # create list of just the ids\n",
    "    most_similar_articles = similarity.index[:num_rec]\n",
    "    \n",
    "    # remove the own user's id\n",
    "    most_similar_articles = most_similar_articles[most_similar_articles != article_id].tolist()\n",
    "    \n",
    "    most_similar_art_titles = []\n",
    "    \n",
    "    for art in most_similar_articles:\n",
    "        art_title = df_cont[df_cont.article_id == art].doc_full_name.values[0]\n",
    "        most_similar_art_titles.append(art_title)\n",
    "        \n",
    "    return most_similar_art_titles # return a list of the users in order from most to least similar      "
   ]
  },
  {
   "cell_type": "code",
   "execution_count": 53,
   "metadata": {},
   "outputs": [
    {
     "name": "stdout",
     "output_type": "stream",
     "text": [
      "this article ['Got a PhD? Struggling To Be a Data Scientist?']\n",
      "top5 recs:\n"
     ]
    },
    {
     "data": {
      "text/plain": [
       "['A glimpse inside the mind of a data scientist',\n",
       " '10 pieces of advice to beginner data scientists',\n",
       " 'Shiny: a data scientist’s best friend',\n",
       " '7 types of job profiles that makes you a Data Scientist']"
      ]
     },
     "execution_count": 53,
     "metadata": {},
     "output_type": "execute_result"
    }
   ],
   "source": [
    "check_id = 170\n",
    "print(\"this article\", df_cont[df_cont.article_id == check_id].doc_full_name.values)\n",
    "print(\"top5 recs:\")\n",
    "find_similar_articles(check_id)"
   ]
  },
  {
   "cell_type": "markdown",
   "metadata": {},
   "source": [
    "It looks like we are making relatively good recommendations based on content of articles."
   ]
  },
  {
   "cell_type": "markdown",
   "metadata": {},
   "source": [
    "## 4. Make recommendations"
   ]
  },
  {
   "cell_type": "markdown",
   "metadata": {},
   "source": [
    "We can now make predictions for 1051 articles that were included in df_content. However, our df is much bigger and includes many more articles. So we need, first, to check if the two datasets include the same article titles. If so, then, second, we can filter the df to include only those articles for which we have content. <br>\n",
    "Finally, we will make predictions for users in the resulting dataset by going through what articles they viewed and then finding similar articles they have not seen yet."
   ]
  },
  {
   "cell_type": "code",
   "execution_count": 54,
   "metadata": {},
   "outputs": [
    {
     "name": "stdout",
     "output_type": "stream",
     "text": [
      "so we have only 437 articles that are present in both datasets\n"
     ]
    }
   ],
   "source": [
    "overlapping_articles = np.intersect1d(df.article_id.astype(float), df_content.article_id)\n",
    "print(f\"so we have only {len(overlapping_articles)} articles that are present in both datasets\")"
   ]
  },
  {
   "cell_type": "code",
   "execution_count": 56,
   "metadata": {},
   "outputs": [
    {
     "name": "stdout",
     "output_type": "stream",
     "text": [
      "df title:\n",
      "analyze ny restaurant data using spark in dsx\n",
      "\n",
      "df_content title:\n",
      "Analyze NY Restaurant data using Spark in DSX\n"
     ]
    }
   ],
   "source": [
    "# checking if the titles in df and df_content are the same\n",
    "print(\"df title:\")\n",
    "print(df[df.article_id == str(overlapping_articles[2])].title.iloc[0])\n",
    "print(\"\\ndf_content title:\")\n",
    "print(df_content[df_content.article_id == overlapping_articles[2]].doc_full_name.iloc[0])"
   ]
  },
  {
   "cell_type": "code",
   "execution_count": 57,
   "metadata": {},
   "outputs": [
    {
     "data": {
      "text/plain": [
       "(21454, 4)"
      ]
     },
     "execution_count": 57,
     "metadata": {},
     "output_type": "execute_result"
    }
   ],
   "source": [
    "#filter the df to include only articles that are also in df_content\n",
    "df_filtered = df[df.article_id.astype(float).isin(overlapping_articles)]\n",
    "df_filtered.shape"
   ]
  },
  {
   "cell_type": "code",
   "execution_count": 58,
   "metadata": {},
   "outputs": [
    {
     "name": "stdout",
     "output_type": "stream",
     "text": [
      "After filtering, we only have 4258 unique users to make recs, compared to 5149 users in the original dataset\n"
     ]
    }
   ],
   "source": [
    "#finally let's check how many unique user_ids are left in the filtered df:\n",
    "print(f\"After filtering, we only have {df_filtered.user_id.nunique()} unique users to make recs, compared to {df.user_id.nunique()} users in the original dataset\")"
   ]
  },
  {
   "cell_type": "code",
   "execution_count": 59,
   "metadata": {},
   "outputs": [],
   "source": [
    "from collections import OrderedDict\n",
    "\n",
    "def make_content_recs(num_rec=5):\n",
    "    '''\n",
    "    INPUT:\n",
    "        num_rec: number of recommendations one wants to make for each user. Default 5\n",
    "    \n",
    "    OUTPUT:\n",
    "        recs: ordered dictionary of recommendations for each user from df_filtered\n",
    "    \n",
    "    '''\n",
    "    recs = OrderedDict()\n",
    "    \n",
    "    # For each user\n",
    "    for user in df_filtered.user_id.unique():\n",
    "        # find articles that user viewed\n",
    "        articles_viewed = df_filtered[df_filtered.user_id == user].article_id.values.astype(float)\n",
    "        #convert to int to prepare for the same type as find_similar_articles() requires\n",
    "        articles_viewed = [int(art) for art in articles_viewed]\n",
    "        #drop duplicates - user might have interacted with the same article several times\n",
    "        articles_viewed = list(set(articles_viewed))\n",
    "\n",
    "        for article in articles_viewed:\n",
    "            # we will be recommending 2 similar articles for each article user viewed\n",
    "            # this will increase diversity of recs\n",
    "            # ! however, this might result into less than num_rec recommendations, if user is not active one \n",
    "            # otherwise increase num_rec in find_similar_articles()\n",
    "            recs.setdefault(user, []).append(find_similar_articles(article, num_rec=2) )\n",
    "            \n",
    "    # we flatten the list and take num_rec recs\n",
    "    recs = {k: sum(v, [])[:num_rec] for k, v in recs.items()}\n",
    "    \n",
    "    #we go through the dict and remove duplicates from dict values\n",
    "    recs_fin = {}\n",
    "    for key, value_list in recs.items():\n",
    "        recs_fin[key] = list(set(value_list))\n",
    "        \n",
    "    return recs_fin"
   ]
  },
  {
   "cell_type": "code",
   "execution_count": 60,
   "metadata": {},
   "outputs": [],
   "source": [
    "# create a dictionary of all users and up to 5 recs for each one\n",
    "recs_fin = make_content_recs(5)"
   ]
  },
  {
   "cell_type": "code",
   "execution_count": 61,
   "metadata": {},
   "outputs": [
    {
     "name": "stdout",
     "output_type": "stream",
     "text": [
      "user interacted with these articles:\n",
      "['520    using notebooks with pixiedust for fast, flexi...\\nName: title, dtype: object', 'real-time sentiment analysis of twitter hashtags with spark (+ pixiedust)', 'predicting flight cancellations using weather data, part 3', 'probabilistic graphical models tutorial\\u200a—\\u200apart 1 – stats and bots', 'what is text analytics?', 'timeseries data analysis of iot events by using jupyter notebook']\n",
      "\n",
      "our recommendations:\n",
      "['Real-time Sentiment Analysis of Twitter Hashtags with Spark', 'Use IBM Data Science Experience to detect time series anomalies', 'Predict Flight Delays with Apache Spark MLLib, FlightStats, and Weather Data', 'Probabilistic Graphical Models Tutorial\\u200a—\\u200aPart 2 – Stats and Bots', 'Data Science Experience Documentation']\n"
     ]
    }
   ],
   "source": [
    "# let's see the recs for user_id 464\n",
    "check_id = 464\n",
    "print(\"user interacted with these articles:\")\n",
    "print(list(set(df_filtered[df_filtered.user_id == check_id].title.values)))\n",
    "# if you want to try another user_id, check recs_fin.keys() to see which user_ids are available\n",
    "print(\"\\nour recommendations:\")\n",
    "print(recs_fin[check_id])"
   ]
  },
  {
   "cell_type": "markdown",
   "metadata": {},
   "source": [
    "### <a class=\"anchor\" id=\"Matrix-Fact\">Part V: Matrix Factorization</a>\n",
    "\n",
    "In this part of the notebook, you will build use matrix factorization to make article recommendations to the users on the IBM Watson Studio platform.\n",
    "\n",
    "`1.` You should have already created a **user_item** matrix above in **question 1** of **Part III** above.  This first question here will just require that you run the cells to get things set up for the rest of **Part V** of the notebook. "
   ]
  },
  {
   "cell_type": "code",
   "execution_count": 62,
   "metadata": {},
   "outputs": [],
   "source": [
    "# Load the matrix here\n",
    "user_item_matrix = pd.read_pickle('user_item_matrix.p')"
   ]
  },
  {
   "cell_type": "code",
   "execution_count": 63,
   "metadata": {},
   "outputs": [
    {
     "data": {
      "text/html": [
       "<div>\n",
       "<style scoped>\n",
       "    .dataframe tbody tr th:only-of-type {\n",
       "        vertical-align: middle;\n",
       "    }\n",
       "\n",
       "    .dataframe tbody tr th {\n",
       "        vertical-align: top;\n",
       "    }\n",
       "\n",
       "    .dataframe thead th {\n",
       "        text-align: right;\n",
       "    }\n",
       "</style>\n",
       "<table border=\"1\" class=\"dataframe\">\n",
       "  <thead>\n",
       "    <tr style=\"text-align: right;\">\n",
       "      <th>article_id</th>\n",
       "      <th>0.0</th>\n",
       "      <th>100.0</th>\n",
       "      <th>1000.0</th>\n",
       "      <th>1004.0</th>\n",
       "      <th>1006.0</th>\n",
       "      <th>1008.0</th>\n",
       "      <th>101.0</th>\n",
       "      <th>1014.0</th>\n",
       "      <th>1015.0</th>\n",
       "      <th>1016.0</th>\n",
       "      <th>...</th>\n",
       "      <th>977.0</th>\n",
       "      <th>98.0</th>\n",
       "      <th>981.0</th>\n",
       "      <th>984.0</th>\n",
       "      <th>985.0</th>\n",
       "      <th>986.0</th>\n",
       "      <th>990.0</th>\n",
       "      <th>993.0</th>\n",
       "      <th>996.0</th>\n",
       "      <th>997.0</th>\n",
       "    </tr>\n",
       "    <tr>\n",
       "      <th>user_id</th>\n",
       "      <th></th>\n",
       "      <th></th>\n",
       "      <th></th>\n",
       "      <th></th>\n",
       "      <th></th>\n",
       "      <th></th>\n",
       "      <th></th>\n",
       "      <th></th>\n",
       "      <th></th>\n",
       "      <th></th>\n",
       "      <th></th>\n",
       "      <th></th>\n",
       "      <th></th>\n",
       "      <th></th>\n",
       "      <th></th>\n",
       "      <th></th>\n",
       "      <th></th>\n",
       "      <th></th>\n",
       "      <th></th>\n",
       "      <th></th>\n",
       "      <th></th>\n",
       "    </tr>\n",
       "  </thead>\n",
       "  <tbody>\n",
       "    <tr>\n",
       "      <th>1</th>\n",
       "      <td>0.0</td>\n",
       "      <td>0.0</td>\n",
       "      <td>0.0</td>\n",
       "      <td>0.0</td>\n",
       "      <td>0.0</td>\n",
       "      <td>0.0</td>\n",
       "      <td>0.0</td>\n",
       "      <td>0.0</td>\n",
       "      <td>0.0</td>\n",
       "      <td>0.0</td>\n",
       "      <td>...</td>\n",
       "      <td>0.0</td>\n",
       "      <td>0.0</td>\n",
       "      <td>1.0</td>\n",
       "      <td>0.0</td>\n",
       "      <td>0.0</td>\n",
       "      <td>0.0</td>\n",
       "      <td>0.0</td>\n",
       "      <td>0.0</td>\n",
       "      <td>0.0</td>\n",
       "      <td>0.0</td>\n",
       "    </tr>\n",
       "    <tr>\n",
       "      <th>2</th>\n",
       "      <td>0.0</td>\n",
       "      <td>0.0</td>\n",
       "      <td>0.0</td>\n",
       "      <td>0.0</td>\n",
       "      <td>0.0</td>\n",
       "      <td>0.0</td>\n",
       "      <td>0.0</td>\n",
       "      <td>0.0</td>\n",
       "      <td>0.0</td>\n",
       "      <td>0.0</td>\n",
       "      <td>...</td>\n",
       "      <td>0.0</td>\n",
       "      <td>0.0</td>\n",
       "      <td>0.0</td>\n",
       "      <td>0.0</td>\n",
       "      <td>0.0</td>\n",
       "      <td>0.0</td>\n",
       "      <td>0.0</td>\n",
       "      <td>0.0</td>\n",
       "      <td>0.0</td>\n",
       "      <td>0.0</td>\n",
       "    </tr>\n",
       "    <tr>\n",
       "      <th>3</th>\n",
       "      <td>0.0</td>\n",
       "      <td>0.0</td>\n",
       "      <td>0.0</td>\n",
       "      <td>0.0</td>\n",
       "      <td>0.0</td>\n",
       "      <td>0.0</td>\n",
       "      <td>0.0</td>\n",
       "      <td>0.0</td>\n",
       "      <td>0.0</td>\n",
       "      <td>0.0</td>\n",
       "      <td>...</td>\n",
       "      <td>1.0</td>\n",
       "      <td>0.0</td>\n",
       "      <td>0.0</td>\n",
       "      <td>0.0</td>\n",
       "      <td>0.0</td>\n",
       "      <td>0.0</td>\n",
       "      <td>0.0</td>\n",
       "      <td>0.0</td>\n",
       "      <td>0.0</td>\n",
       "      <td>0.0</td>\n",
       "    </tr>\n",
       "    <tr>\n",
       "      <th>4</th>\n",
       "      <td>0.0</td>\n",
       "      <td>0.0</td>\n",
       "      <td>0.0</td>\n",
       "      <td>0.0</td>\n",
       "      <td>0.0</td>\n",
       "      <td>0.0</td>\n",
       "      <td>0.0</td>\n",
       "      <td>0.0</td>\n",
       "      <td>0.0</td>\n",
       "      <td>0.0</td>\n",
       "      <td>...</td>\n",
       "      <td>0.0</td>\n",
       "      <td>0.0</td>\n",
       "      <td>0.0</td>\n",
       "      <td>0.0</td>\n",
       "      <td>0.0</td>\n",
       "      <td>0.0</td>\n",
       "      <td>0.0</td>\n",
       "      <td>0.0</td>\n",
       "      <td>0.0</td>\n",
       "      <td>0.0</td>\n",
       "    </tr>\n",
       "    <tr>\n",
       "      <th>5</th>\n",
       "      <td>0.0</td>\n",
       "      <td>0.0</td>\n",
       "      <td>0.0</td>\n",
       "      <td>0.0</td>\n",
       "      <td>0.0</td>\n",
       "      <td>0.0</td>\n",
       "      <td>0.0</td>\n",
       "      <td>0.0</td>\n",
       "      <td>0.0</td>\n",
       "      <td>0.0</td>\n",
       "      <td>...</td>\n",
       "      <td>0.0</td>\n",
       "      <td>0.0</td>\n",
       "      <td>0.0</td>\n",
       "      <td>0.0</td>\n",
       "      <td>0.0</td>\n",
       "      <td>0.0</td>\n",
       "      <td>0.0</td>\n",
       "      <td>0.0</td>\n",
       "      <td>0.0</td>\n",
       "      <td>0.0</td>\n",
       "    </tr>\n",
       "  </tbody>\n",
       "</table>\n",
       "<p>5 rows × 714 columns</p>\n",
       "</div>"
      ],
      "text/plain": [
       "article_id  0.0  100.0  1000.0  1004.0  1006.0  1008.0  101.0  1014.0  1015.0  \\\n",
       "user_id                                                                         \n",
       "1           0.0    0.0     0.0     0.0     0.0     0.0    0.0     0.0     0.0   \n",
       "2           0.0    0.0     0.0     0.0     0.0     0.0    0.0     0.0     0.0   \n",
       "3           0.0    0.0     0.0     0.0     0.0     0.0    0.0     0.0     0.0   \n",
       "4           0.0    0.0     0.0     0.0     0.0     0.0    0.0     0.0     0.0   \n",
       "5           0.0    0.0     0.0     0.0     0.0     0.0    0.0     0.0     0.0   \n",
       "\n",
       "article_id  1016.0  ...  977.0  98.0  981.0  984.0  985.0  986.0  990.0  \\\n",
       "user_id             ...                                                   \n",
       "1              0.0  ...    0.0   0.0    1.0    0.0    0.0    0.0    0.0   \n",
       "2              0.0  ...    0.0   0.0    0.0    0.0    0.0    0.0    0.0   \n",
       "3              0.0  ...    1.0   0.0    0.0    0.0    0.0    0.0    0.0   \n",
       "4              0.0  ...    0.0   0.0    0.0    0.0    0.0    0.0    0.0   \n",
       "5              0.0  ...    0.0   0.0    0.0    0.0    0.0    0.0    0.0   \n",
       "\n",
       "article_id  993.0  996.0  997.0  \n",
       "user_id                          \n",
       "1             0.0    0.0    0.0  \n",
       "2             0.0    0.0    0.0  \n",
       "3             0.0    0.0    0.0  \n",
       "4             0.0    0.0    0.0  \n",
       "5             0.0    0.0    0.0  \n",
       "\n",
       "[5 rows x 714 columns]"
      ]
     },
     "execution_count": 63,
     "metadata": {},
     "output_type": "execute_result"
    }
   ],
   "source": [
    "# quick look at the matrix\n",
    "user_item_matrix.head()"
   ]
  },
  {
   "cell_type": "markdown",
   "metadata": {},
   "source": [
    "`2.` In this situation, you can use Singular Value Decomposition from [numpy](https://docs.scipy.org/doc/numpy-1.14.0/reference/generated/numpy.linalg.svd.html) on the user-item matrix.  Use the cell to perform SVD, and explain why this is different than in the lesson."
   ]
  },
  {
   "cell_type": "code",
   "execution_count": 64,
   "metadata": {},
   "outputs": [
    {
     "name": "stdout",
     "output_type": "stream",
     "text": [
      "U matrix shape: 5149 users, up to 714 latent features\n",
      "S matrix shape: up to 714 latent features\n",
      "Vt matrix shape: up to 714 latent features, 714 articles\n"
     ]
    }
   ],
   "source": [
    "# Perform SVD on the User-Item Matrix Here\n",
    "\n",
    "u, s, vt = np.linalg.svd(user_item_matrix, full_matrices=False) # use the built in to get the three matrices\n",
    "print(f\"U matrix shape: {u.shape[0]} users, up to {u.shape[1]} latent features\") \n",
    "print(f\"S matrix shape: up to {s.shape[0]} latent features\")\n",
    "print(f\"Vt matrix shape: up to {vt.shape[0]} latent features, {vt.shape[1]} articles\")"
   ]
  },
  {
   "cell_type": "markdown",
   "metadata": {},
   "source": [
    "**In the lesson, we had many Nans and thus could not perform SVD, which requires no missing values. In this project, we replaced Nans with zeros and SVD works without any problem.**"
   ]
  },
  {
   "cell_type": "markdown",
   "metadata": {},
   "source": [
    "`3.` Now for the tricky part, how do we choose the number of latent features to use?  Running the below cell, you can see that as the number of latent features increases, we obtain a lower error rate on making predictions for the 1 and 0 values in the user-item matrix.  Run the cell below to get an idea of how the accuracy improves as we increase the number of latent features."
   ]
  },
  {
   "cell_type": "code",
   "execution_count": 65,
   "metadata": {},
   "outputs": [
    {
     "data": {
      "image/png": "[encoded data removed]",
      "text/plain": [
       "<Figure size 432x288 with 1 Axes>"
      ]
     },
     "metadata": {
      "needs_background": "light"
     },
     "output_type": "display_data"
    }
   ],
   "source": [
    "num_latent_feats = np.arange(10,700+10,20)\n",
    "sum_errs = []\n",
    "\n",
    "for k in num_latent_feats:\n",
    "    # restructure with k latent features\n",
    "    s_new, u_new, vt_new = np.diag(s[:k]), u[:, :k], vt[:k, :]\n",
    "    \n",
    "    # take dot product\n",
    "    user_item_est = np.around(np.dot(np.dot(u_new, s_new), vt_new))\n",
    "    \n",
    "    # compute error for each prediction to actual value\n",
    "    diffs = np.subtract(user_item_matrix, user_item_est)\n",
    "    # total errors and keep track of them\n",
    "    err = np.sum(np.sum(np.abs(diffs)))\n",
    "    sum_errs.append(err)\n",
    "    \n",
    "    \n",
    "plt.plot(num_latent_feats, 1 - np.array(sum_errs)/df.shape[0]);\n",
    "np.sum(np.sum(np.abs(user_item_matrix)))\n",
    "plt.xlabel('Number of Latent Features');\n",
    "plt.ylabel('Accuracy');\n",
    "plt.title('Accuracy vs. Number of Latent Features');"
   ]
  },
  {
   "cell_type": "markdown",
   "metadata": {},
   "source": [
    "`4.` From the above, we can't really be sure how many features to use, because simply having a better way to predict the 1's and 0's of the matrix doesn't exactly give us an indication of if we are able to make good recommendations.  Instead, we might split our dataset into a training and test set of data, as shown in the cell below.  \n",
    "\n",
    "Use the code from question 3 to understand the impact on accuracy of the training and test sets of data with different numbers of latent features. Using the split below: \n",
    "\n",
    "* How many users can we make predictions for in the test set?  \n",
    "* How many users are we not able to make predictions for because of the cold start problem?\n",
    "* How many articles can we make predictions for in the test set?  \n",
    "* How many articles are we not able to make predictions for because of the cold start problem?"
   ]
  },
  {
   "cell_type": "code",
   "execution_count": 66,
   "metadata": {},
   "outputs": [
    {
     "name": "stderr",
     "output_type": "stream",
     "text": [
      "/Users/kbosko/anaconda3/lib/python3.7/site-packages/ipykernel_launcher.py:15: SettingWithCopyWarning: \n",
      "A value is trying to be set on a copy of a slice from a DataFrame.\n",
      "Try using .loc[row_indexer,col_indexer] = value instead\n",
      "\n",
      "See the caveats in the documentation: http://pandas.pydata.org/pandas-docs/stable/user_guide/indexing.html#returning-a-view-versus-a-copy\n",
      "  from ipykernel import kernelapp as app\n"
     ]
    }
   ],
   "source": [
    "df.article_id = df.article_id.astype(float)\n",
    "df_train = df.head(40000)\n",
    "df_test = df.tail(5993)\n",
    "\n",
    "def create_test_and_train_user_item(df_train, df_test):\n",
    "    '''\n",
    "    INPUT:\n",
    "    df_train - training dataframe\n",
    "    df_test - test dataframe\n",
    "    \n",
    "    OUTPUT:\n",
    "    user_item_train - a user-item matrix of the training dataframe \n",
    "                      (unique users for each row and unique articles for each column)\n",
    "    user_item_test - a user-item matrix of the testing dataframe \n",
    "                    (unique users for each row and unique articles for each column)\n",
    "    test_idx - all of the test user ids\n",
    "    test_arts - all of the test article ids\n",
    "    \n",
    "    '''    \n",
    "    \n",
    "    user_item_train = create_user_item_matrix(df_train)\n",
    "    user_item_test = create_user_item_matrix(df_test)\n",
    "    \n",
    "    test_arts = user_item_test.columns.values\n",
    "    test_idx = user_item_test.index.values\n",
    "   \n",
    "    return user_item_train, user_item_test, test_idx, test_arts\n",
    "\n",
    "user_item_train, user_item_test, test_idx, test_arts = create_test_and_train_user_item(df_train, df_test)"
   ]
  },
  {
   "cell_type": "code",
   "execution_count": 67,
   "metadata": {},
   "outputs": [
    {
     "data": {
      "text/plain": [
       "((682,), (574,))"
      ]
     },
     "execution_count": 67,
     "metadata": {},
     "output_type": "execute_result"
    }
   ],
   "source": [
    "test_idx.shape, test_arts.shape"
   ]
  },
  {
   "cell_type": "code",
   "execution_count": 68,
   "metadata": {},
   "outputs": [
    {
     "data": {
      "text/plain": [
       "((4487, 714), (682, 574))"
      ]
     },
     "execution_count": 68,
     "metadata": {},
     "output_type": "execute_result"
    }
   ],
   "source": [
    "user_item_train.shape, user_item_test.shape"
   ]
  },
  {
   "cell_type": "code",
   "execution_count": 69,
   "metadata": {},
   "outputs": [
    {
     "name": "stdout",
     "output_type": "stream",
     "text": [
      "we can make predictions for 20 users in the test set\n",
      "we cannot make predictions for 662 users\n",
      "we can make predictions for 574 articles in the test set\n",
      "we cannot make predictions for 0 articles\n"
     ]
    }
   ],
   "source": [
    "print(f\"we can make predictions for {len(np.intersect1d(user_item_train.index, test_idx))} users in the test set\")\n",
    "print(f\"we cannot make predictions for {len(np.setdiff1d(test_idx, user_item_train.index))} users\")\n",
    "print(f\"we can make predictions for {len(np.intersect1d(user_item_train.columns, test_arts))} articles in the test set\")\n",
    "print(f\"we cannot make predictions for {len(np.setdiff1d(test_arts, user_item_train.columns))} articles\")"
   ]
  },
  {
   "cell_type": "code",
   "execution_count": 70,
   "metadata": {},
   "outputs": [
    {
     "ename": "KeyError",
     "evalue": "'How many movies can we make predictions for in the test set?'",
     "output_type": "error",
     "traceback": [
      "\u001b[0;31m---------------------------------------------------------------------------\u001b[0m",
      "\u001b[0;31mKeyError\u001b[0m                                  Traceback (most recent call last)",
      "\u001b[0;32m<ipython-input-70-300bad9c552b>\u001b[0m in \u001b[0;36m<module>\u001b[0;34m\u001b[0m\n\u001b[1;32m     13\u001b[0m }\n\u001b[1;32m     14\u001b[0m \u001b[0;34m\u001b[0m\u001b[0m\n\u001b[0;32m---> 15\u001b[0;31m \u001b[0mt\u001b[0m\u001b[0;34m.\u001b[0m\u001b[0msol_4_test\u001b[0m\u001b[0;34m(\u001b[0m\u001b[0msol_4_dict\u001b[0m\u001b[0;34m)\u001b[0m\u001b[0;34m\u001b[0m\u001b[0;34m\u001b[0m\u001b[0m\n\u001b[0m",
      "\u001b[0;32m~/Documents/GitHub/recommendations_IBM/project_tests.py\u001b[0m in \u001b[0;36msol_4_test\u001b[0;34m(sol_4_dict)\u001b[0m\n\u001b[1;32m     76\u001b[0m     \u001b[0;32melse\u001b[0m\u001b[0;34m:\u001b[0m\u001b[0;34m\u001b[0m\u001b[0;34m\u001b[0m\u001b[0m\n\u001b[1;32m     77\u001b[0m         \u001b[0;32mfor\u001b[0m \u001b[0mk\u001b[0m\u001b[0;34m,\u001b[0m \u001b[0mv\u001b[0m \u001b[0;32min\u001b[0m \u001b[0msol_4_dict_1\u001b[0m\u001b[0;34m.\u001b[0m\u001b[0mitems\u001b[0m\u001b[0;34m(\u001b[0m\u001b[0;34m)\u001b[0m\u001b[0;34m:\u001b[0m\u001b[0;34m\u001b[0m\u001b[0;34m\u001b[0m\u001b[0m\n\u001b[0;32m---> 78\u001b[0;31m             \u001b[0;32mif\u001b[0m \u001b[0msol_4_dict_1\u001b[0m\u001b[0;34m[\u001b[0m\u001b[0mk\u001b[0m\u001b[0;34m]\u001b[0m \u001b[0;34m!=\u001b[0m \u001b[0msol_4_dict\u001b[0m\u001b[0;34m[\u001b[0m\u001b[0mk\u001b[0m\u001b[0;34m]\u001b[0m\u001b[0;34m:\u001b[0m\u001b[0;34m\u001b[0m\u001b[0;34m\u001b[0m\u001b[0m\n\u001b[0m\u001b[1;32m     79\u001b[0m                 \u001b[0mprint\u001b[0m\u001b[0;34m(\u001b[0m\u001b[0;34m\"Sorry it looks like that isn't the right value associated with {}.  Try again.\"\u001b[0m\u001b[0;34m.\u001b[0m\u001b[0mformat\u001b[0m\u001b[0;34m(\u001b[0m\u001b[0mk\u001b[0m\u001b[0;34m)\u001b[0m\u001b[0;34m)\u001b[0m\u001b[0;34m\u001b[0m\u001b[0;34m\u001b[0m\u001b[0m\n\u001b[1;32m     80\u001b[0m \u001b[0;34m\u001b[0m\u001b[0m\n",
      "\u001b[0;31mKeyError\u001b[0m: 'How many movies can we make predictions for in the test set?'"
     ]
    }
   ],
   "source": [
    "# Replace the values in the dictionary below\n",
    "a = 662 \n",
    "b = 574\n",
    "c = 20 \n",
    "d = 0 \n",
    "\n",
    "\n",
    "sol_4_dict = {\n",
    "    'How many users can we make predictions for in the test set?':  c, \n",
    "    'How many users in the test set are we not able to make predictions for because of the cold start problem?': a, \n",
    "    'How many articles can we make predictions for in the test set?': b,\n",
    "    'How many articles in the test set are we not able to make predictions for because of the cold start problem?': d\n",
    "}\n",
    "\n",
    "t.sol_4_test(sol_4_dict)"
   ]
  },
  {
   "cell_type": "markdown",
   "metadata": {},
   "source": [
    "# FINDING MISTAKES IN sol_4_test:"
   ]
  },
  {
   "cell_type": "markdown",
   "metadata": {},
   "source": [
    "The wording in the project_tests.py doesn't match the wording proposed above in this notebook. So it is impossible to pass this test, no matter what letters (even correct ones) you put in!!!! <br>\n",
    "\n",
    "See below:"
   ]
  },
  {
   "cell_type": "markdown",
   "metadata": {},
   "source": [
    "The solution asks us in questions 3 and 4 \"How many **MOVIES** ...\":"
   ]
  },
  {
   "cell_type": "code",
   "execution_count": 71,
   "metadata": {},
   "outputs": [],
   "source": [
    "sol_4_dict_1 = {\n",
    "'How many users can we make predictions for in the test set?': c, \n",
    "'How many users in the test set are we not able to make predictions for because of the cold start problem?': a, \n",
    "'How many movies can we make predictions for in the test set?': b,\n",
    "'How many movies in the test set are we not able to make predictions for because of the cold start problem?': d\n",
    "}"
   ]
  },
  {
   "cell_type": "markdown",
   "metadata": {},
   "source": [
    "The notebook asks us in questions 3 and 4 \"How many **ARTICLES** ...\":"
   ]
  },
  {
   "cell_type": "code",
   "execution_count": 72,
   "metadata": {},
   "outputs": [],
   "source": [
    "sol_4_dict = {\n",
    "    'How many users can we make predictions for in the test set?':  c, \n",
    "    'How many users in the test set are we not able to make predictions for because of the cold start problem?': a, \n",
    "    'How many articles can we make predictions for in the test set?': b,\n",
    "    'How many articles in the test set are we not able to make predictions for because of the cold start problem?': d\n",
    "}"
   ]
  },
  {
   "cell_type": "markdown",
   "metadata": {},
   "source": [
    "`5.` Now use the **user_item_train** dataset from above to find U, S, and V transpose using SVD. Then find the subset of rows in the **user_item_test** dataset that you can predict using this matrix decomposition with different numbers of latent features to see how many features makes sense to keep based on the accuracy on the test data. This will require combining what was done in questions `2` - `4`.\n",
    "\n",
    "Use the cells below to explore how well SVD works towards making predictions for recommendations on the test data.  "
   ]
  },
  {
   "cell_type": "code",
   "execution_count": 73,
   "metadata": {},
   "outputs": [
    {
     "data": {
      "text/plain": [
       "((4487, 714), (714,), (714, 714))"
      ]
     },
     "execution_count": 73,
     "metadata": {},
     "output_type": "execute_result"
    }
   ],
   "source": [
    "# fit SVD on the user_item_train matrix\n",
    "u_train, s_train, vt_train =  np.linalg.svd(user_item_train, full_matrices=False)\n",
    "u_train.shape, s_train.shape, vt_train.shape"
   ]
  },
  {
   "cell_type": "code",
   "execution_count": 74,
   "metadata": {},
   "outputs": [
    {
     "name": "stdout",
     "output_type": "stream",
     "text": [
      "We know that we can make predictions for 574 articles and for 20 users. Let's subset the test data\n"
     ]
    }
   ],
   "source": [
    "print(f\"We know that we can make predictions for {len(np.intersect1d(user_item_train.columns, user_item_test.columns))} articles and for {len(np.intersect1d(user_item_train.index, user_item_test.index))} users. Let's subset the test data\")"
   ]
  },
  {
   "cell_type": "code",
   "execution_count": 75,
   "metadata": {},
   "outputs": [
    {
     "name": "stdout",
     "output_type": "stream",
     "text": [
      "user_ids for prediction [2917 3024 3093 3193 3527 3532 3684 3740 3777 3801 3968 3989 3990 3998\n",
      " 4002 4204 4231 4274 4293 4487]\n",
      "last 10 article_ids for prediction [1432. 1433. 1434. 1435. 1436. 1437. 1439. 1440. 1441. 1443.]\n"
     ]
    }
   ],
   "source": [
    "#we can make predictions only for these user_ids\n",
    "users_pred = np.intersect1d(user_item_train.index, test_idx)\n",
    "print(\"user_ids for prediction\", users_pred)\n",
    "#we can make predictions only for these articles\n",
    "article_pred = np.intersect1d(user_item_train.columns, test_arts)\n",
    "print(\"last 10 article_ids for prediction\", article_pred[-10:])"
   ]
  },
  {
   "cell_type": "code",
   "execution_count": 76,
   "metadata": {},
   "outputs": [],
   "source": [
    "user_item_train_subset = user_item_train.loc[users_pred, article_pred]\n",
    "user_item_test_subset = user_item_test.loc[users_pred, article_pred]"
   ]
  },
  {
   "cell_type": "code",
   "execution_count": 77,
   "metadata": {},
   "outputs": [
    {
     "data": {
      "text/plain": [
       "((20, 574), (20, 574))"
      ]
     },
     "execution_count": 77,
     "metadata": {},
     "output_type": "execute_result"
    }
   ],
   "source": [
    "user_item_train_subset.shape, user_item_test_subset.shape"
   ]
  },
  {
   "cell_type": "code",
   "execution_count": 78,
   "metadata": {},
   "outputs": [],
   "source": [
    "# let's convert the U and Vt matrices to dataframe and set the user_id index for U and article_id columns for Vt\n",
    "# this will make easier subsetting for u_test and vt_test\n",
    "u_train_df = pd.DataFrame(u_train).set_index(user_item_train.index)\n",
    "vt_train_df = pd.DataFrame(vt_train).T.set_index(user_item_train.columns).T"
   ]
  },
  {
   "cell_type": "code",
   "execution_count": 79,
   "metadata": {},
   "outputs": [
    {
     "data": {
      "text/html": [
       "<div>\n",
       "<style scoped>\n",
       "    .dataframe tbody tr th:only-of-type {\n",
       "        vertical-align: middle;\n",
       "    }\n",
       "\n",
       "    .dataframe tbody tr th {\n",
       "        vertical-align: top;\n",
       "    }\n",
       "\n",
       "    .dataframe thead th {\n",
       "        text-align: right;\n",
       "    }\n",
       "</style>\n",
       "<table border=\"1\" class=\"dataframe\">\n",
       "  <thead>\n",
       "    <tr style=\"text-align: right;\">\n",
       "      <th></th>\n",
       "      <th>0</th>\n",
       "      <th>1</th>\n",
       "      <th>2</th>\n",
       "      <th>3</th>\n",
       "      <th>4</th>\n",
       "      <th>5</th>\n",
       "      <th>6</th>\n",
       "      <th>7</th>\n",
       "      <th>8</th>\n",
       "      <th>9</th>\n",
       "      <th>...</th>\n",
       "      <th>704</th>\n",
       "      <th>705</th>\n",
       "      <th>706</th>\n",
       "      <th>707</th>\n",
       "      <th>708</th>\n",
       "      <th>709</th>\n",
       "      <th>710</th>\n",
       "      <th>711</th>\n",
       "      <th>712</th>\n",
       "      <th>713</th>\n",
       "    </tr>\n",
       "    <tr>\n",
       "      <th>user_id</th>\n",
       "      <th></th>\n",
       "      <th></th>\n",
       "      <th></th>\n",
       "      <th></th>\n",
       "      <th></th>\n",
       "      <th></th>\n",
       "      <th></th>\n",
       "      <th></th>\n",
       "      <th></th>\n",
       "      <th></th>\n",
       "      <th></th>\n",
       "      <th></th>\n",
       "      <th></th>\n",
       "      <th></th>\n",
       "      <th></th>\n",
       "      <th></th>\n",
       "      <th></th>\n",
       "      <th></th>\n",
       "      <th></th>\n",
       "      <th></th>\n",
       "      <th></th>\n",
       "    </tr>\n",
       "  </thead>\n",
       "  <tbody>\n",
       "    <tr>\n",
       "      <th>1</th>\n",
       "      <td>-0.046284</td>\n",
       "      <td>0.007244</td>\n",
       "      <td>-0.032678</td>\n",
       "      <td>0.028344</td>\n",
       "      <td>0.012519</td>\n",
       "      <td>-0.026539</td>\n",
       "      <td>0.033488</td>\n",
       "      <td>0.052791</td>\n",
       "      <td>0.045150</td>\n",
       "      <td>0.052156</td>\n",
       "      <td>...</td>\n",
       "      <td>0.005306</td>\n",
       "      <td>-0.004924</td>\n",
       "      <td>-0.015150</td>\n",
       "      <td>-0.012502</td>\n",
       "      <td>0.013140</td>\n",
       "      <td>0.007179</td>\n",
       "      <td>0.013117</td>\n",
       "      <td>0.028640</td>\n",
       "      <td>0.011757</td>\n",
       "      <td>0.008447</td>\n",
       "    </tr>\n",
       "    <tr>\n",
       "      <th>2</th>\n",
       "      <td>-0.011334</td>\n",
       "      <td>0.016784</td>\n",
       "      <td>-0.004121</td>\n",
       "      <td>0.011061</td>\n",
       "      <td>0.014162</td>\n",
       "      <td>0.005163</td>\n",
       "      <td>-0.019945</td>\n",
       "      <td>-0.015414</td>\n",
       "      <td>-0.011136</td>\n",
       "      <td>-0.027340</td>\n",
       "      <td>...</td>\n",
       "      <td>-0.017159</td>\n",
       "      <td>0.007966</td>\n",
       "      <td>-0.014669</td>\n",
       "      <td>0.017279</td>\n",
       "      <td>0.010695</td>\n",
       "      <td>0.011682</td>\n",
       "      <td>0.009098</td>\n",
       "      <td>0.008502</td>\n",
       "      <td>0.002919</td>\n",
       "      <td>0.021352</td>\n",
       "    </tr>\n",
       "    <tr>\n",
       "      <th>3</th>\n",
       "      <td>-0.054008</td>\n",
       "      <td>-0.001385</td>\n",
       "      <td>0.018605</td>\n",
       "      <td>0.015048</td>\n",
       "      <td>0.026458</td>\n",
       "      <td>-0.002947</td>\n",
       "      <td>0.063038</td>\n",
       "      <td>-0.035681</td>\n",
       "      <td>0.074395</td>\n",
       "      <td>-0.046516</td>\n",
       "      <td>...</td>\n",
       "      <td>0.004586</td>\n",
       "      <td>0.007280</td>\n",
       "      <td>-0.000002</td>\n",
       "      <td>-0.001443</td>\n",
       "      <td>-0.007274</td>\n",
       "      <td>-0.000468</td>\n",
       "      <td>-0.002303</td>\n",
       "      <td>0.012097</td>\n",
       "      <td>-0.001190</td>\n",
       "      <td>-0.001108</td>\n",
       "    </tr>\n",
       "    <tr>\n",
       "      <th>4</th>\n",
       "      <td>-0.045659</td>\n",
       "      <td>0.039872</td>\n",
       "      <td>0.040820</td>\n",
       "      <td>-0.012790</td>\n",
       "      <td>0.007655</td>\n",
       "      <td>0.002952</td>\n",
       "      <td>-0.062125</td>\n",
       "      <td>-0.044768</td>\n",
       "      <td>-0.012073</td>\n",
       "      <td>-0.028278</td>\n",
       "      <td>...</td>\n",
       "      <td>0.008171</td>\n",
       "      <td>-0.029960</td>\n",
       "      <td>0.004088</td>\n",
       "      <td>-0.011017</td>\n",
       "      <td>0.019846</td>\n",
       "      <td>-0.002843</td>\n",
       "      <td>0.016078</td>\n",
       "      <td>0.037275</td>\n",
       "      <td>0.011083</td>\n",
       "      <td>0.005794</td>\n",
       "    </tr>\n",
       "    <tr>\n",
       "      <th>5</th>\n",
       "      <td>-0.007219</td>\n",
       "      <td>0.003149</td>\n",
       "      <td>-0.000012</td>\n",
       "      <td>0.003938</td>\n",
       "      <td>0.002048</td>\n",
       "      <td>-0.005013</td>\n",
       "      <td>-0.010197</td>\n",
       "      <td>-0.003582</td>\n",
       "      <td>-0.007029</td>\n",
       "      <td>0.004204</td>\n",
       "      <td>...</td>\n",
       "      <td>0.012632</td>\n",
       "      <td>0.000291</td>\n",
       "      <td>0.009207</td>\n",
       "      <td>0.005031</td>\n",
       "      <td>0.005183</td>\n",
       "      <td>0.005969</td>\n",
       "      <td>-0.007242</td>\n",
       "      <td>0.015716</td>\n",
       "      <td>0.002983</td>\n",
       "      <td>0.001109</td>\n",
       "    </tr>\n",
       "  </tbody>\n",
       "</table>\n",
       "<p>5 rows × 714 columns</p>\n",
       "</div>"
      ],
      "text/plain": [
       "              0         1         2         3         4         5         6    \\\n",
       "user_id                                                                         \n",
       "1       -0.046284  0.007244 -0.032678  0.028344  0.012519 -0.026539  0.033488   \n",
       "2       -0.011334  0.016784 -0.004121  0.011061  0.014162  0.005163 -0.019945   \n",
       "3       -0.054008 -0.001385  0.018605  0.015048  0.026458 -0.002947  0.063038   \n",
       "4       -0.045659  0.039872  0.040820 -0.012790  0.007655  0.002952 -0.062125   \n",
       "5       -0.007219  0.003149 -0.000012  0.003938  0.002048 -0.005013 -0.010197   \n",
       "\n",
       "              7         8         9    ...       704       705       706  \\\n",
       "user_id                                ...                                 \n",
       "1        0.052791  0.045150  0.052156  ...  0.005306 -0.004924 -0.015150   \n",
       "2       -0.015414 -0.011136 -0.027340  ... -0.017159  0.007966 -0.014669   \n",
       "3       -0.035681  0.074395 -0.046516  ...  0.004586  0.007280 -0.000002   \n",
       "4       -0.044768 -0.012073 -0.028278  ...  0.008171 -0.029960  0.004088   \n",
       "5       -0.003582 -0.007029  0.004204  ...  0.012632  0.000291  0.009207   \n",
       "\n",
       "              707       708       709       710       711       712       713  \n",
       "user_id                                                                        \n",
       "1       -0.012502  0.013140  0.007179  0.013117  0.028640  0.011757  0.008447  \n",
       "2        0.017279  0.010695  0.011682  0.009098  0.008502  0.002919  0.021352  \n",
       "3       -0.001443 -0.007274 -0.000468 -0.002303  0.012097 -0.001190 -0.001108  \n",
       "4       -0.011017  0.019846 -0.002843  0.016078  0.037275  0.011083  0.005794  \n",
       "5        0.005031  0.005183  0.005969 -0.007242  0.015716  0.002983  0.001109  \n",
       "\n",
       "[5 rows x 714 columns]"
      ]
     },
     "execution_count": 79,
     "metadata": {},
     "output_type": "execute_result"
    }
   ],
   "source": [
    "u_train_df.head()"
   ]
  },
  {
   "cell_type": "code",
   "execution_count": 80,
   "metadata": {},
   "outputs": [
    {
     "data": {
      "text/html": [
       "<div>\n",
       "<style scoped>\n",
       "    .dataframe tbody tr th:only-of-type {\n",
       "        vertical-align: middle;\n",
       "    }\n",
       "\n",
       "    .dataframe tbody tr th {\n",
       "        vertical-align: top;\n",
       "    }\n",
       "\n",
       "    .dataframe thead th {\n",
       "        text-align: right;\n",
       "    }\n",
       "</style>\n",
       "<table border=\"1\" class=\"dataframe\">\n",
       "  <thead>\n",
       "    <tr style=\"text-align: right;\">\n",
       "      <th>article_id</th>\n",
       "      <th>0.0</th>\n",
       "      <th>2.0</th>\n",
       "      <th>4.0</th>\n",
       "      <th>8.0</th>\n",
       "      <th>9.0</th>\n",
       "      <th>12.0</th>\n",
       "      <th>14.0</th>\n",
       "      <th>15.0</th>\n",
       "      <th>16.0</th>\n",
       "      <th>18.0</th>\n",
       "      <th>...</th>\n",
       "      <th>1434.0</th>\n",
       "      <th>1435.0</th>\n",
       "      <th>1436.0</th>\n",
       "      <th>1437.0</th>\n",
       "      <th>1439.0</th>\n",
       "      <th>1440.0</th>\n",
       "      <th>1441.0</th>\n",
       "      <th>1442.0</th>\n",
       "      <th>1443.0</th>\n",
       "      <th>1444.0</th>\n",
       "    </tr>\n",
       "  </thead>\n",
       "  <tbody>\n",
       "    <tr>\n",
       "      <th>0</th>\n",
       "      <td>-0.002172</td>\n",
       "      <td>-0.025021</td>\n",
       "      <td>-0.002476</td>\n",
       "      <td>-0.028906</td>\n",
       "      <td>-0.002461</td>\n",
       "      <td>-0.059549</td>\n",
       "      <td>-0.046325</td>\n",
       "      <td>-0.003173</td>\n",
       "      <td>-0.025742</td>\n",
       "      <td>-0.024329</td>\n",
       "      <td>...</td>\n",
       "      <td>-0.008804</td>\n",
       "      <td>-0.024660</td>\n",
       "      <td>-0.151024</td>\n",
       "      <td>-0.047710</td>\n",
       "      <td>-0.022560</td>\n",
       "      <td>-0.001192</td>\n",
       "      <td>-0.001758</td>\n",
       "      <td>-0.000579</td>\n",
       "      <td>-0.004049</td>\n",
       "      <td>-0.004672</td>\n",
       "    </tr>\n",
       "    <tr>\n",
       "      <th>1</th>\n",
       "      <td>0.002071</td>\n",
       "      <td>-0.022158</td>\n",
       "      <td>0.001475</td>\n",
       "      <td>-0.049936</td>\n",
       "      <td>-0.003447</td>\n",
       "      <td>-0.035350</td>\n",
       "      <td>0.025775</td>\n",
       "      <td>-0.002720</td>\n",
       "      <td>-0.023213</td>\n",
       "      <td>-0.045680</td>\n",
       "      <td>...</td>\n",
       "      <td>0.008274</td>\n",
       "      <td>0.028631</td>\n",
       "      <td>0.011212</td>\n",
       "      <td>0.056752</td>\n",
       "      <td>0.012057</td>\n",
       "      <td>0.002103</td>\n",
       "      <td>0.008192</td>\n",
       "      <td>0.003124</td>\n",
       "      <td>0.015339</td>\n",
       "      <td>0.015269</td>\n",
       "    </tr>\n",
       "    <tr>\n",
       "      <th>2</th>\n",
       "      <td>-0.001127</td>\n",
       "      <td>-0.001752</td>\n",
       "      <td>-0.004360</td>\n",
       "      <td>0.016776</td>\n",
       "      <td>0.000831</td>\n",
       "      <td>-0.074479</td>\n",
       "      <td>-0.032121</td>\n",
       "      <td>0.000126</td>\n",
       "      <td>-0.003512</td>\n",
       "      <td>-0.035106</td>\n",
       "      <td>...</td>\n",
       "      <td>-0.008614</td>\n",
       "      <td>-0.049542</td>\n",
       "      <td>0.147872</td>\n",
       "      <td>-0.059224</td>\n",
       "      <td>-0.017052</td>\n",
       "      <td>-0.005901</td>\n",
       "      <td>-0.005730</td>\n",
       "      <td>-0.002234</td>\n",
       "      <td>-0.016410</td>\n",
       "      <td>-0.009995</td>\n",
       "    </tr>\n",
       "    <tr>\n",
       "      <th>3</th>\n",
       "      <td>-0.002671</td>\n",
       "      <td>0.022848</td>\n",
       "      <td>-0.003766</td>\n",
       "      <td>0.000378</td>\n",
       "      <td>0.002003</td>\n",
       "      <td>0.052750</td>\n",
       "      <td>0.047653</td>\n",
       "      <td>-0.003250</td>\n",
       "      <td>0.009820</td>\n",
       "      <td>0.012873</td>\n",
       "      <td>...</td>\n",
       "      <td>-0.020166</td>\n",
       "      <td>-0.011770</td>\n",
       "      <td>0.121867</td>\n",
       "      <td>-0.024644</td>\n",
       "      <td>0.010757</td>\n",
       "      <td>-0.005930</td>\n",
       "      <td>-0.007432</td>\n",
       "      <td>-0.002773</td>\n",
       "      <td>-0.013255</td>\n",
       "      <td>-0.001855</td>\n",
       "    </tr>\n",
       "    <tr>\n",
       "      <th>4</th>\n",
       "      <td>0.004265</td>\n",
       "      <td>0.013572</td>\n",
       "      <td>-0.001865</td>\n",
       "      <td>-0.040350</td>\n",
       "      <td>-0.006105</td>\n",
       "      <td>-0.026590</td>\n",
       "      <td>0.015142</td>\n",
       "      <td>0.000188</td>\n",
       "      <td>0.012737</td>\n",
       "      <td>-0.001857</td>\n",
       "      <td>...</td>\n",
       "      <td>0.001219</td>\n",
       "      <td>0.006287</td>\n",
       "      <td>0.024213</td>\n",
       "      <td>-0.011052</td>\n",
       "      <td>0.008957</td>\n",
       "      <td>-0.000964</td>\n",
       "      <td>0.002010</td>\n",
       "      <td>-0.000073</td>\n",
       "      <td>-0.001200</td>\n",
       "      <td>-0.004091</td>\n",
       "    </tr>\n",
       "  </tbody>\n",
       "</table>\n",
       "<p>5 rows × 714 columns</p>\n",
       "</div>"
      ],
      "text/plain": [
       "article_id    0.0       2.0       4.0       8.0       9.0       12.0    \\\n",
       "0          -0.002172 -0.025021 -0.002476 -0.028906 -0.002461 -0.059549   \n",
       "1           0.002071 -0.022158  0.001475 -0.049936 -0.003447 -0.035350   \n",
       "2          -0.001127 -0.001752 -0.004360  0.016776  0.000831 -0.074479   \n",
       "3          -0.002671  0.022848 -0.003766  0.000378  0.002003  0.052750   \n",
       "4           0.004265  0.013572 -0.001865 -0.040350 -0.006105 -0.026590   \n",
       "\n",
       "article_id    14.0      15.0      16.0      18.0    ...    1434.0    1435.0  \\\n",
       "0          -0.046325 -0.003173 -0.025742 -0.024329  ... -0.008804 -0.024660   \n",
       "1           0.025775 -0.002720 -0.023213 -0.045680  ...  0.008274  0.028631   \n",
       "2          -0.032121  0.000126 -0.003512 -0.035106  ... -0.008614 -0.049542   \n",
       "3           0.047653 -0.003250  0.009820  0.012873  ... -0.020166 -0.011770   \n",
       "4           0.015142  0.000188  0.012737 -0.001857  ...  0.001219  0.006287   \n",
       "\n",
       "article_id    1436.0    1437.0    1439.0    1440.0    1441.0    1442.0  \\\n",
       "0          -0.151024 -0.047710 -0.022560 -0.001192 -0.001758 -0.000579   \n",
       "1           0.011212  0.056752  0.012057  0.002103  0.008192  0.003124   \n",
       "2           0.147872 -0.059224 -0.017052 -0.005901 -0.005730 -0.002234   \n",
       "3           0.121867 -0.024644  0.010757 -0.005930 -0.007432 -0.002773   \n",
       "4           0.024213 -0.011052  0.008957 -0.000964  0.002010 -0.000073   \n",
       "\n",
       "article_id    1443.0    1444.0  \n",
       "0          -0.004049 -0.004672  \n",
       "1           0.015339  0.015269  \n",
       "2          -0.016410 -0.009995  \n",
       "3          -0.013255 -0.001855  \n",
       "4          -0.001200 -0.004091  \n",
       "\n",
       "[5 rows x 714 columns]"
      ]
     },
     "execution_count": 80,
     "metadata": {},
     "output_type": "execute_result"
    }
   ],
   "source": [
    "vt_train_df.head()"
   ]
  },
  {
   "cell_type": "code",
   "execution_count": 81,
   "metadata": {},
   "outputs": [],
   "source": [
    "u_test = np.array(u_train_df.loc[user_item_train_subset.index, :])\n",
    "vt_test = np.array(vt_train_df.loc[:, user_item_train_subset.columns])"
   ]
  },
  {
   "cell_type": "code",
   "execution_count": 82,
   "metadata": {},
   "outputs": [
    {
     "data": {
      "text/plain": [
       "((20, 714), (714, 574))"
      ]
     },
     "execution_count": 82,
     "metadata": {},
     "output_type": "execute_result"
    }
   ],
   "source": [
    "u_test.shape, vt_test.shape"
   ]
  },
  {
   "cell_type": "code",
   "execution_count": 83,
   "metadata": {},
   "outputs": [
    {
     "data": {
      "image/png": "[encoded data removed]",
      "text/plain": [
       "<Figure size 432x288 with 1 Axes>"
      ]
     },
     "metadata": {
      "needs_background": "light"
     },
     "output_type": "display_data"
    }
   ],
   "source": [
    "num_latent_feats = np.arange(10,700+10,20)\n",
    "train_errs = []\n",
    "test_errs = []\n",
    "\n",
    "for k in num_latent_feats:\n",
    "    #training on while train set\n",
    "    s_new_train, u_new_train, vt_new_train = np.diag(s_train[:k]), u_train[:, :k], vt_train[:k, :]\n",
    "    user_item_est_train = np.around(np.dot(np.dot(u_new_train, s_new_train), vt_new_train))    \n",
    "    \n",
    "    # predicting only for the test subset\n",
    "    s_new_test, u_new_test, vt_new_test = np.diag(s_train[:k]), u_test[:, :k], vt_test[:k, :]\n",
    "    user_item_est_test = np.around(np.dot(np.dot(u_new_test, s_new_test), vt_new_test))    \n",
    "    \n",
    "    # compute error for each prediction to actual value\n",
    "    diffs_train = np.subtract(user_item_train, user_item_est_train)\n",
    "    diffs_test = np.subtract(user_item_test_subset, user_item_est_test)\n",
    "    \n",
    "    # total errors and keep track of them\n",
    "    err_train = np.sum(np.sum(np.abs(diffs_train)))\n",
    "    err_test = np.sum(np.sum(np.abs(diffs_test)))\n",
    "    train_errs.append(err_train)\n",
    "    test_errs.append(err_test)\n",
    "\n",
    "plt.plot(num_latent_feats, 1 - np.array(train_errs)/user_item_train.size, color='r', label=\"Train\");\n",
    "plt.plot(num_latent_feats, 1 - np.array(test_errs)/user_item_test_subset.size, color='g', label=\"Test\");\n",
    "plt.xlabel('Number of Latent Features');\n",
    "plt.ylabel('Accuracy');\n",
    "plt.title('Accuracy vs. Number of Latent Features');\n",
    "plt.legend();"
   ]
  },
  {
   "cell_type": "markdown",
   "metadata": {},
   "source": [
    "From plot above, it seems like we are dealing with overfitting here. Let's see how well we can predict 1s:"
   ]
  },
  {
   "cell_type": "code",
   "execution_count": 84,
   "metadata": {},
   "outputs": [],
   "source": [
    "def predict_interaction(user_id, article_id, k=10):\n",
    "    '''\n",
    "    INPUT:\n",
    "    user_id - the user_id from the df_test\n",
    "    article_id - the article_id according the df_test\n",
    "    \n",
    "    OUTPUT:\n",
    "    pred - the predicted rating for user_id-article_id according to SVD\n",
    "    '''\n",
    "    # Use the training data to create a series of users and articles that matches the ordering in training data\n",
    "        #serious mistake to avoid - i didn't sort_values in the first attempt, so the location was mismatched. \n",
    "        #we actually created user-by-movie matrix train_data_df that is the base for our ratings_mat \n",
    "        # so either sort_values on train_df\n",
    "        # or use train_data_df.index and train_data_df.columns as in the solution\n",
    "        \n",
    "    train_users = df_train['user_id'].sort_values().unique()\n",
    "    train_arts = df_train['article_id'].sort_values().unique()\n",
    "        \n",
    "    # User row and article column\n",
    "    n = np.where(train_users==user_id)[0]\n",
    "    m = np.where(train_arts==article_id)[0]\n",
    "    \n",
    "    s_new, u_new, vt_new = np.diag(s_train[:k]), u_train[:, :k], vt_train[:k, :]\n",
    "    \n",
    "    # Take dot product of that row and column in U and V to make prediction\n",
    "    pred = np.dot(np.dot(u_new[n, :], s_new), vt_new[:, m])[0][0]\n",
    "   \n",
    "    return pred"
   ]
  },
  {
   "cell_type": "code",
   "execution_count": 88,
   "metadata": {},
   "outputs": [
    {
     "name": "stdout",
     "output_type": "stream",
     "text": [
      "there are 218 values that equal 1 in user_item_test_subset\n",
      "these corresponds to 1.9% of the user_item_test_subset\n"
     ]
    }
   ],
   "source": [
    "#filter user_item_test_subset to have only values that equal 1\n",
    "subset_1s = []\n",
    "for user in user_item_test_subset.index:\n",
    "    for article in user_item_test_subset.columns:\n",
    "        if user_item_test_subset.loc[user, article] == 1:\n",
    "            subset_1s.append((user, article))\n",
    "            \n",
    "print(f\"there are {len(subset_1s)} values that equal 1 in user_item_test_subset\")\n",
    "print(f\"these corresponds to {round(len(subset_1s)/user_item_test_subset.size*100, 2)}% of the user_item_test_subset\")"
   ]
  },
  {
   "cell_type": "code",
   "execution_count": 92,
   "metadata": {},
   "outputs": [
    {
     "name": "stdout",
     "output_type": "stream",
     "text": [
      "user \t\t article \t actual \t predicted\n",
      "2917 \t\t  647 \t\t 1 \t\t 0.0\n",
      "2917 \t\t  965 \t\t 1 \t\t 0.0\n",
      "3024 \t\t   12 \t\t 1 \t\t 0.2\n",
      "3024 \t\t   43 \t\t 1 \t\t 0.8\n",
      "3024 \t\t   74 \t\t 1 \t\t 0.1\n",
      "3024 \t\t  194 \t\t 1 \t\t 0.1\n",
      "3024 \t\t  241 \t\t 1 \t\t 0.2\n",
      "3024 \t\t  316 \t\t 1 \t\t 0.2\n",
      "3024 \t\t 1351 \t\t 1 \t\t 0.0\n",
      "3093 \t\t  151 \t\t 1 \t\t 0.3\n",
      "3093 \t\t  194 \t\t 1 \t\t 0.0\n",
      "3093 \t\t  957 \t\t 1 \t\t 0.1\n",
      "3093 \t\t 1017 \t\t 1 \t\t 0.2\n",
      "3093 \t\t 1436 \t\t 1 \t\t 0.2\n",
      "3193 \t\t  362 \t\t 1 \t\t 0.0\n",
      "3193 \t\t  939 \t\t 1 \t\t 0.1\n",
      "3193 \t\t 1051 \t\t 1 \t\t 0.0\n",
      "3193 \t\t 1410 \t\t 1 \t\t 0.0\n",
      "3193 \t\t 1427 \t\t 1 \t\t 0.1\n",
      "3527 \t\t  109 \t\t 1 \t\t 0.0\n",
      "3532 \t\t   12 \t\t 1 \t\t 0.0\n",
      "3532 \t\t   43 \t\t 1 \t\t 0.7\n",
      "3532 \t\t   50 \t\t 1 \t\t 0.1\n",
      "3532 \t\t  116 \t\t 1 \t\t 0.2\n",
      "3532 \t\t  130 \t\t 1 \t\t 0.0\n",
      "3532 \t\t  131 \t\t 1 \t\t 0.0\n",
      "3532 \t\t  278 \t\t 1 \t\t 0.1\n",
      "3532 \t\t  297 \t\t 1 \t\t 0.0\n",
      "3532 \t\t  310 \t\t 1 \t\t 0.0\n",
      "3532 \t\t  323 \t\t 1 \t\t 0.0\n",
      "3532 \t\t  409 \t\t 1 \t\t 0.1\n",
      "3532 \t\t  415 \t\t 1 \t\t 0.0\n",
      "3532 \t\t  482 \t\t 1 \t\t 0.1\n",
      "3532 \t\t  695 \t\t 1 \t\t 0.0\n",
      "3532 \t\t  844 \t\t 1 \t\t 0.0\n",
      "3532 \t\t  898 \t\t 1 \t\t 0.0\n",
      "3532 \t\t  981 \t\t 1 \t\t 0.1\n",
      "3532 \t\t 1024 \t\t 1 \t\t 0.1\n",
      "3532 \t\t 1051 \t\t 1 \t\t 0.0\n",
      "3532 \t\t 1052 \t\t 1 \t\t 0.1\n",
      "3532 \t\t 1174 \t\t 1 \t\t 0.1\n",
      "3532 \t\t 1186 \t\t 1 \t\t 0.1\n",
      "3532 \t\t 1276 \t\t 1 \t\t 0.0\n",
      "3532 \t\t 1289 \t\t 1 \t\t 0.0\n",
      "3532 \t\t 1338 \t\t 1 \t\t 0.0\n",
      "3532 \t\t 1358 \t\t 1 \t\t 0.0\n",
      "3532 \t\t 1364 \t\t 1 \t\t 0.1\n",
      "3532 \t\t 1396 \t\t 1 \t\t 0.0\n",
      "3532 \t\t 1420 \t\t 1 \t\t 0.1\n",
      "3532 \t\t 1424 \t\t 1 \t\t 0.2\n"
     ]
    }
   ],
   "source": [
    "#let's validate how well we can predict 1s for 50 values in subset_1s:\n",
    "print(\"user \\t\\t article \\t actual \\t predicted\")\n",
    "actual = np.ones((len(subset_1s), 1), dtype=int)[0][0]\n",
    "for tup in subset_1s[:50]:\n",
    "    user = tup[0]\n",
    "    article = tup[1]\n",
    "    pred = predict_interaction(user, article, k=10)\n",
    "    print(f\"{user:4d} \\t\\t {int(article):4d} \\t\\t {actual:1d} \\t\\t {np.abs(pred):.01f}\")"
   ]
  },
  {
   "cell_type": "markdown",
   "metadata": {
    "collapsed": true
   },
   "source": [
    "`6.` Use the cell below to comment on the results you found in the previous question. Given the circumstances of your results, discuss what you might do to determine if the recommendations you make with any of the above recommendation systems are an improvement to how users currently find articles? "
   ]
  },
  {
   "cell_type": "markdown",
   "metadata": {},
   "source": [
    "We made predictions on user-articles interactions using SVD approach, where 0s meant no iteraction and 1s meant an interaction. Because of our test and train sets overlapped only for 20 users and 574 articles, we had to limit our original test to the matrix of these values. \n",
    "The predicted accuracy turned out to be falling the more latent features we used, which negatively correlated with the accuracy score for train dataset. \n",
    "\n",
    "The worsening performance on the test set as compared to the training set can be explained by overfitting due to class imbalances. Thus, we are dealing here with highly imbalanced classes - only 1.9% of values in the user-item test subset were 1s, the rest being 0s. As a result, we are predicting mostly 0s and are correct most of the time. So we can't rely on accuracy scores here and might want to change our metric to f1_score, which is more preferred in such cases. Furthermore, we might want to deal with the class imbalance problem itself, using resampling techniques (like upsampling the underrepresented class) or more sophisticated approaches like SMOTE. Deacreasing the number of latent features (as seen from the plot above) also helps to reduce overfitting. \n",
    "\n",
    "Finally, we made predictions only for 20 users and 574 articles, which is a rather small subset. We might want to obtain more data before jumping to conclusions how well we predict user interactions given this limited data. \n",
    "\n",
    "Once we feel ready to test our new recommender system, A/B test can be used to see whether it changed user behavior on our site. In this case, half of our users will be assigned to a control group that uses the old recommendation system. The other half will get to test the new recommendation system. We will capture then user-article interactions for old and new versions and conduct a hypothesis test to determine whether the difference between two mean scores is significant."
   ]
  },
  {
   "cell_type": "code",
   "execution_count": 93,
   "metadata": {},
   "outputs": [
    {
     "data": {
      "text/plain": [
       "0"
      ]
     },
     "execution_count": 93,
     "metadata": {},
     "output_type": "execute_result"
    }
   ],
   "source": [
    "from subprocess import call\n",
    "call(['python', '-m', 'nbconvert', 'Recommendations_with_IBM.ipynb'])"
   ]
  },
  {
   "cell_type": "code",
   "execution_count": null,
   "metadata": {},
   "outputs": [],
   "source": []
  }
 ],
 "metadata": {
  "kernelspec": {
   "display_name": "Python 3",
   "language": "python",
   "name": "python3"
  },
  "language_info": {
   "codemirror_mode": {
    "name": "ipython",
    "version": 3
   },
   "file_extension": ".py",
   "mimetype": "text/x-python",
   "name": "python",
   "nbconvert_exporter": "python",
   "pygments_lexer": "ipython3",
   "version": "3.7.3"
  }
 },
 "nbformat": 4,
 "nbformat_minor": 2
}
